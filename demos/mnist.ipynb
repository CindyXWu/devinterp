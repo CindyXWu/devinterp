{
    "cells": [
        {
            "cell_type": "code",
            "execution_count": 1,
            "metadata": {},
            "outputs": [],
            "source": [
                "import sys \n",
                "import torch\n",
                "import torch.nn as nn\n",
                "import torch.nn.functional as F\n",
                "import torch.optim as optim\n",
                "from torchvision import datasets, transforms\n",
                "from torch.utils.data import DataLoader\n",
                "from tqdm import tqdm\n",
                "import matplotlib.pyplot as plt\n",
                "import copy\n",
                "\n",
                "sys.path.insert(1, \"/home/paperspace/devinterp\") # TODO fix path\n",
                "\n",
                "from devinterp.slt.sampler import Sampler, SamplerConfig, estimate_rlct\n",
                "\n",
                "DEVICE = \"cuda\" if torch.cuda.is_available() else \"cpu\"\n",
                "\n"
            ]
        },
        {
            "cell_type": "code",
            "execution_count": 2,
            "metadata": {},
            "outputs": [],
            "source": [
                "def train_one_epoch(model, train_loader, optimizer, criterion):\n",
                "    model.train()\n",
                "    train_loss = 0\n",
                "    for data, target in tqdm(train_loader):\n",
                "        optimizer.zero_grad()\n",
                "        output = model(data.to(DEVICE))\n",
                "        loss = criterion(output, target.to(DEVICE))\n",
                "        train_loss += loss.item()\n",
                "        loss.backward()\n",
                "        optimizer.step()\n",
                "    return train_loss / len(train_loader)\n",
                "\n",
                "def evaluate(model, test_loader, criterion):\n",
                "    model.eval()\n",
                "    test_loss = 0\n",
                "    with torch.no_grad():\n",
                "        for data, target in test_loader:\n",
                "            output = model(data.to(DEVICE))\n",
                "            loss = criterion(output, target.to(DEVICE))\n",
                "            test_loss += loss.item()\n",
                "    return test_loss / len(test_loader)\n",
                "\n",
                "# Define the neural network\n",
                "class Net(nn.Module):\n",
                "    def __init__(self, hidden_layer_sizes=[1024, 1024], input_dim=28 * 28, output_dim=10,activation=F.relu, with_bias=True):\n",
                "        super(Net, self).__init__()\n",
                "        self.input_dim = input_dim\n",
                "        self.layer_sizes = [input_dim] + hidden_layer_sizes + [output_dim]\n",
                "        self.activation = activation\n",
                "        self.with_bias = with_bias\n",
                "        self.layers = nn.ModuleList()\n",
                "        for i in range(len(self.layer_sizes) - 1):\n",
                "            dim_in, dim_out = self.layer_sizes[i : i + 2]\n",
                "            self.layers.append(nn.Linear(dim_in, dim_out, bias=self.with_bias).float())\n",
                "\n",
                "    def forward(self, x):\n",
                "        x = x.view(-1, self.input_dim)\n",
                "        for layer in self.layers[:-1]:\n",
                "            x = self.activation(layer(x))\n",
                "        x = self.layers[-1](x)\n",
                "        return x"
            ]
        },
        {
            "cell_type": "code",
            "execution_count": 3,
            "metadata": {},
            "outputs": [
                {
                    "name": "stdout",
                    "output_type": "stream",
                    "text": [
                        "60000\n"
                    ]
                }
            ],
            "source": [
                "DEVICE = 'cuda'\n",
                "# Load MNIST data\n",
                "batch_size = 512\n",
                "train_data = datasets.MNIST('./data', train=True, transform=transforms.ToTensor(), download=True)\n",
                "train_loader = DataLoader(train_data, batch_size=batch_size, shuffle=True)\n",
                "print(len(train_data))\n",
                "# Load test data\n",
                "test_data = datasets.MNIST('./data', train=False, transform=transforms.ToTensor())\n",
                "test_loader = DataLoader(test_data, batch_size=batch_size, shuffle=False)\n",
                "# Initialize model, loss, optimizer and sgld sampler\n",
                "model = Net().to(DEVICE)\n",
                "criterion = nn.CrossEntropyLoss()\n",
                "lr = 0.01\n",
                "optimizer = optim.SGD(model.parameters(), lr=lr, momentum=0.9, nesterov=True)\n",
                "n_epochs = 20\n"
            ]
        },
        {
            "cell_type": "code",
            "execution_count": 4,
            "metadata": {},
            "outputs": [
                {
                    "name": "stderr",
                    "output_type": "stream",
                    "text": [
                        "100%|██████████| 118/118 [00:10<00:00, 11.69it/s]\n"
                    ]
                },
                {
                    "name": "stdout",
                    "output_type": "stream",
                    "text": [
                        "Epoch 1, Train Loss: 1.4913121143640098, Test Loss: 0.5411179542541504\n"
                    ]
                },
                {
                    "name": "stderr",
                    "output_type": "stream",
                    "text": [
                        "100%|██████████| 118/118 [00:08<00:00, 13.75it/s]\n"
                    ]
                },
                {
                    "name": "stdout",
                    "output_type": "stream",
                    "text": [
                        "Epoch 2, Train Loss: 0.4293575524273565, Test Loss: 0.3527143202722073\n"
                    ]
                },
                {
                    "name": "stderr",
                    "output_type": "stream",
                    "text": [
                        "100%|██████████| 118/118 [00:08<00:00, 13.70it/s]\n"
                    ]
                },
                {
                    "name": "stdout",
                    "output_type": "stream",
                    "text": [
                        "Epoch 3, Train Loss: 0.33413672144130124, Test Loss: 0.3050822541117668\n"
                    ]
                },
                {
                    "name": "stderr",
                    "output_type": "stream",
                    "text": [
                        "100%|██████████| 118/118 [00:08<00:00, 13.35it/s]\n"
                    ]
                },
                {
                    "name": "stdout",
                    "output_type": "stream",
                    "text": [
                        "Epoch 4, Train Loss: 0.29451288560689504, Test Loss: 0.2733851298689842\n"
                    ]
                },
                {
                    "name": "stderr",
                    "output_type": "stream",
                    "text": [
                        "100%|██████████| 118/118 [00:08<00:00, 13.71it/s]\n"
                    ]
                },
                {
                    "name": "stdout",
                    "output_type": "stream",
                    "text": [
                        "Epoch 5, Train Loss: 0.26701801649089585, Test Loss: 0.2517617143690586\n"
                    ]
                },
                {
                    "name": "stderr",
                    "output_type": "stream",
                    "text": [
                        "100%|██████████| 118/118 [00:08<00:00, 13.39it/s]\n"
                    ]
                },
                {
                    "name": "stdout",
                    "output_type": "stream",
                    "text": [
                        "Epoch 6, Train Loss: 0.24383943250118675, Test Loss: 0.23090230114758015\n"
                    ]
                },
                {
                    "name": "stderr",
                    "output_type": "stream",
                    "text": [
                        "100%|██████████| 118/118 [00:08<00:00, 13.64it/s]\n"
                    ]
                },
                {
                    "name": "stdout",
                    "output_type": "stream",
                    "text": [
                        "Epoch 7, Train Loss: 0.22414197671716496, Test Loss: 0.21421252153813838\n"
                    ]
                },
                {
                    "name": "stderr",
                    "output_type": "stream",
                    "text": [
                        "100%|██████████| 118/118 [00:08<00:00, 13.32it/s]\n"
                    ]
                },
                {
                    "name": "stdout",
                    "output_type": "stream",
                    "text": [
                        "Epoch 8, Train Loss: 0.20584986548302536, Test Loss: 0.20001642107963563\n"
                    ]
                },
                {
                    "name": "stderr",
                    "output_type": "stream",
                    "text": [
                        "100%|██████████| 118/118 [00:08<00:00, 13.43it/s]\n"
                    ]
                },
                {
                    "name": "stdout",
                    "output_type": "stream",
                    "text": [
                        "Epoch 9, Train Loss: 0.190200318093017, Test Loss: 0.18520204089581965\n"
                    ]
                },
                {
                    "name": "stderr",
                    "output_type": "stream",
                    "text": [
                        "100%|██████████| 118/118 [00:08<00:00, 13.51it/s]\n"
                    ]
                },
                {
                    "name": "stdout",
                    "output_type": "stream",
                    "text": [
                        "Epoch 10, Train Loss: 0.17623614740826316, Test Loss: 0.17485086470842362\n"
                    ]
                },
                {
                    "name": "stderr",
                    "output_type": "stream",
                    "text": [
                        "100%|██████████| 118/118 [00:08<00:00, 13.41it/s]\n"
                    ]
                },
                {
                    "name": "stdout",
                    "output_type": "stream",
                    "text": [
                        "Epoch 11, Train Loss: 0.16374214366078377, Test Loss: 0.1621148908510804\n"
                    ]
                },
                {
                    "name": "stderr",
                    "output_type": "stream",
                    "text": [
                        "100%|██████████| 118/118 [00:09<00:00, 12.89it/s]\n"
                    ]
                },
                {
                    "name": "stdout",
                    "output_type": "stream",
                    "text": [
                        "Epoch 12, Train Loss: 0.15301641979712552, Test Loss: 0.15307676754891872\n"
                    ]
                },
                {
                    "name": "stderr",
                    "output_type": "stream",
                    "text": [
                        "100%|██████████| 118/118 [00:08<00:00, 13.15it/s]\n"
                    ]
                },
                {
                    "name": "stdout",
                    "output_type": "stream",
                    "text": [
                        "Epoch 13, Train Loss: 0.14271680417202287, Test Loss: 0.14573988746851682\n"
                    ]
                },
                {
                    "name": "stderr",
                    "output_type": "stream",
                    "text": [
                        "100%|██████████| 118/118 [00:08<00:00, 13.27it/s]\n"
                    ]
                },
                {
                    "name": "stdout",
                    "output_type": "stream",
                    "text": [
                        "Epoch 14, Train Loss: 0.13326194437252262, Test Loss: 0.13635661490261555\n"
                    ]
                },
                {
                    "name": "stderr",
                    "output_type": "stream",
                    "text": [
                        "100%|██████████| 118/118 [00:08<00:00, 13.16it/s]\n"
                    ]
                },
                {
                    "name": "stdout",
                    "output_type": "stream",
                    "text": [
                        "Epoch 15, Train Loss: 0.1256108899616589, Test Loss: 0.13118577264249326\n"
                    ]
                },
                {
                    "name": "stderr",
                    "output_type": "stream",
                    "text": [
                        "100%|██████████| 118/118 [00:08<00:00, 13.35it/s]\n"
                    ]
                },
                {
                    "name": "stdout",
                    "output_type": "stream",
                    "text": [
                        "Epoch 16, Train Loss: 0.11813488375332395, Test Loss: 0.12377963587641716\n"
                    ]
                },
                {
                    "name": "stderr",
                    "output_type": "stream",
                    "text": [
                        "100%|██████████| 118/118 [00:08<00:00, 13.35it/s]\n"
                    ]
                },
                {
                    "name": "stdout",
                    "output_type": "stream",
                    "text": [
                        "Epoch 17, Train Loss: 0.1118595283794201, Test Loss: 0.12083649709820747\n"
                    ]
                },
                {
                    "name": "stderr",
                    "output_type": "stream",
                    "text": [
                        "100%|██████████| 118/118 [00:08<00:00, 13.19it/s]\n"
                    ]
                },
                {
                    "name": "stdout",
                    "output_type": "stream",
                    "text": [
                        "Epoch 18, Train Loss: 0.10525238835963152, Test Loss: 0.11652676463127136\n"
                    ]
                },
                {
                    "name": "stderr",
                    "output_type": "stream",
                    "text": [
                        "100%|██████████| 118/118 [00:09<00:00, 13.09it/s]\n"
                    ]
                },
                {
                    "name": "stdout",
                    "output_type": "stream",
                    "text": [
                        "Epoch 19, Train Loss: 0.09956953320967948, Test Loss: 0.1107120887376368\n"
                    ]
                },
                {
                    "name": "stderr",
                    "output_type": "stream",
                    "text": [
                        "100%|██████████| 118/118 [00:08<00:00, 13.24it/s]\n"
                    ]
                },
                {
                    "name": "stdout",
                    "output_type": "stream",
                    "text": [
                        "Epoch 20, Train Loss: 0.09450993715327675, Test Loss: 0.10618572812527419\n"
                    ]
                }
            ],
            "source": [
                "# train model\n",
                "train_losses = []\n",
                "test_losses = []\n",
                "rlct_estimates = []\n",
                "models = []\n",
                "for epoch in range(n_epochs):\n",
                "    train_loss = train_one_epoch(model, train_loader, optimizer, criterion)\n",
                "    test_loss = evaluate(model, test_loader, criterion)\n",
                "    train_losses.append(train_loss)\n",
                "    test_losses.append(test_loss)\n",
                "    # rlct_estimates.append(rlct_estimate)\n",
                "    models += [copy.deepcopy(model)]\n",
                "    print(f\"Epoch {epoch+1}, Train Loss: {train_loss}, Test Loss: {test_loss}\")\n",
                "torch.save(models, 'models.pth')"
            ]
        },
        {
            "cell_type": "code",
            "execution_count": 5,
            "metadata": {},
            "outputs": [],
            "source": [
                "from devinterp.slt.sampler import Sampler, SamplerConfig, estimate_rlct\n",
                "# todo boundary box depence\n",
                "# Load MNIST data\n",
                "batch_size = 512\n",
                "train_data = datasets.MNIST('./data', train=True, transform=transforms.ToTensor(), download=True)\n",
                "train_loader = DataLoader(train_data, batch_size=batch_size, shuffle=True)\n",
                "# Load test data\n",
                "test_data = datasets.MNIST('./data', train=False, transform=transforms.ToTensor())\n",
                "test_loader = DataLoader(test_data, batch_size=batch_size, shuffle=False)\n",
                "# Initialize sgnht sampler\n",
                "SGNHT_config = SamplerConfig(\n",
                "    optimizer_config=dict(\n",
                "        optimizer_type=\"SGNHT\",\n",
                "        lr=1e-7,\n",
                "        diffusion_factor=0.01,\n",
                "        # bounding_box_size=0.0001,\n",
                "        num_samples=len(train_data),\n",
                "        batch_size = batch_size\n",
                "    ),\n",
                "    num_chains=4,\n",
                "    num_draws_per_chain=400,\n",
                "    num_burnin_steps=0,\n",
                "    num_steps_bw_draws=1,\n",
                "    verbose=False,\n",
                "    batch_size=batch_size,         \n",
                "    criterion = 'cross_entropy' # alternatives: mse\n",
                ")\n",
                "SGLD_config = SamplerConfig(\n",
                "    optimizer_config=dict(\n",
                "        optimizer_type=\"SGLD\",\n",
                "        lr=1e-5,\n",
                "        noise_level=1.,\n",
                "        # weight_decay = 0.01,\n",
                "        elasticity=100.,\n",
                "        temperature='adaptive',\n",
                "        num_samples=len(train_data),\n",
                "    ),\n",
                "    num_chains=4,\n",
                "    num_draws_per_chain=400,\n",
                "    num_burnin_steps=0,\n",
                "    num_steps_bw_draws=1,\n",
                "    verbose=False,\n",
                "    batch_size=batch_size,         \n",
                "    criterion = 'cross_entropy' # alternatives: mse\n",
                ")\n",
                "\n",
                "models = torch.load('models.pth')\n",
                "rlct_estimates_sgnht = []\n",
                "rlct_estimates_sgdl = []\n",
                "for n in range(n_epochs):\n",
                "    model = copy.deepcopy(models[n].to('cpu'))\n",
                "    sgnht_sampler = Sampler(model, train_data, SGNHT_config)\n",
                "    model = copy.deepcopy(models[n].to('cpu'))\n",
                "    sgdl_sampler = Sampler(model, train_data, SGLD_config)\n",
                "    rlct_estimate_sgnht = sgnht_sampler.sample(summary_fn=estimate_rlct)\n",
                "    rlct_estimate_sgdl = sgdl_sampler.sample(summary_fn=estimate_rlct)\n",
                "    rlct_estimates_sgnht += [rlct_estimate_sgnht]\n",
                "    rlct_estimates_sgdl += [rlct_estimate_sgdl]\n",
                "plt.hist(rlct_estimates_sgnht,alpha = 0.5, label='sgnht')\n",
                "plt.hist(rlct_estimates_sgdl,alpha = 0.5, label='sgdl')\n",
                "plt.legend()\n",
                "plt.show()\n",
                "# Plotting\n"
            ]
        },
        {
            "cell_type": "code",
            "execution_count": null,
            "metadata": {},
            "outputs": [
                {
                    "data": {
                        "image/png": "[encoded data removed]",
                        "text/plain": [
                            "<Figure size 640x480 with 2 Axes>"
                        ]
                    },
                    "metadata": {},
                    "output_type": "display_data"
                }
            ],
            "source": [
                "import numpy as np\n",
                "np.save('rlct_estimates_sgdl.npy', rlct_estimates_sgdl)\n",
                "np.save('rlct_estimates_sgnht.npy', rlct_estimates_sgnht)\n",
                "fig, ax1 = plt.subplots()\n",
                "\n",
                "ax1.set_xlabel('Epoch')\n",
                "ax1.set_ylabel('Loss', color='tab:blue')\n",
                "ax1.plot(train_losses, label='Train Loss', color='tab:blue')\n",
                "ax1.plot(test_losses, label='Test Loss', color='tab:orange')\n",
                "ax1.tick_params(axis='y', labelcolor='tab:blue')\n",
                "ax1.legend(loc='upper left')\n",
                "\n",
                "ax2 = ax1.twinx() \n",
                "ax2.set_ylabel('rlct_estimate', color='tab:green')\n",
                "ax2.plot(rlct_estimates_sgnht, label='rlct_estimate_sgnht', color='tab:green')\n",
                "ax2.plot(rlct_estimates_sgdl, label='rlct_estimate_sgdl', color='tab:red')\n",
                "ax2.tick_params(axis='y', labelcolor='tab:green')\n",
                "ax2.legend(loc='upper right')\n",
                "\n",
                "fig.tight_layout()\n",
                "plt.show()"
            ]
        }
    ],
    "metadata": {
        "kernelspec": {
            "display_name": ".venv",
            "language": "python",
            "name": "python3"
        },
        "language_info": {
            "codemirror_mode": {
                "name": "ipython",
                "version": 3
            },
            "file_extension": ".py",
            "mimetype": "text/x-python",
            "name": "python",
            "nbconvert_exporter": "python",
            "pygments_lexer": "ipython3",
            "version": "3.9.16"
        },
        "orig_nbformat": 4
    },
    "nbformat": 4,
    "nbformat_minor": 2
}