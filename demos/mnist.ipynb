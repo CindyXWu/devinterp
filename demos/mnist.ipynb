{
 "cells": [
  {
   "cell_type": "markdown",
   "metadata": {},
   "source": [
    "# RLCT Estimation of MNIST\n",
    "\n",
    "This Jupyter Notebook aims to reproduce the results of Lau et al. (2023) by measuring the Real Log Canonical Threshold (RLCT) for a small 2-layer ReLU model (about 1M parameters) trained on the MNIST dataset. It uses both Stochastic Gradient Nose-Hoover Thermostat (SGNHT) and Stochastic Gradient Langevin Dynamics (SGLD) as sampling methods.\n",
    "\n",
    "## Main Steps:\n",
    "\n",
    "1. **Data Preparation**: Load the MNIST dataset for training and testing.\n",
    "2. **Model Training**: Train a multi-layer perceptron model using stochastic gradient descent.\n",
    "3. **Model Evaluation**: Evaluate the model's performance on a test set.\n",
    "4. **RLCT Estimation**: Use SGNHT and SGLD samplers to estimate RLCT.\n",
    "5. **Plotting**: Visualize train and test losses, and RLCT estimates."
   ]
  },
  {
   "cell_type": "code",
<<<<<<< HEAD
=======
   "execution_count": null,
   "metadata": {},
   "outputs": [],
   "source": [
    "!pip install devinterp pydantic seaborn wandb tqdm"
   ]
  },
  {
   "cell_type": "code",
>>>>>>> main
   "execution_count": 1,
   "metadata": {},
   "outputs": [],
   "source": [
    "import copy\n",
<<<<<<< HEAD
    "import sys\n",
    "\n",
    "import torch\n",
    "import torch.optim as optim\n",
    "import torch.nn as nn\n",
    "import torch.nn.functional as F\n",
    "from torchvision import datasets, transforms\n",
    "from torch.utils.data import DataLoader\n",
    "from tqdm.notebook import tqdm\n",
    "\n",
    "if \"google.colab\" in sys.modules:\n",
    "    %pip install git+https://github.com/timaeus-research/devinterp.git@add/colab\n",
    "\n",
    "from devinterp.optim.sgld import SGLD\n",
    "from devinterp.optim.sgnht import SGNHT\n",
    "from devinterp.slt.sampler import estimate_rlct\n",
    "\n",
    "DEVICE = \"cuda\" if torch.cuda.is_available() else \"cpu\""
=======
    "import matplotlib.pyplot as plt\n",
    "import sys\n",
    "\n",
    "import seaborn as sns\n",
    "import torch\n",
    "import torch.nn as nn\n",
    "import torch.nn.functional as F\n",
    "import torch.optim as optim\n",
    "from torchvision import datasets, transforms\n",
    "from torch.utils.data import DataLoader\n",
    "from tqdm import tqdm\n",
    "\n",
    "sys.path.insert(1, \"/home/paperspace/devinterp\")  # TODO fix path\n",
    "\n",
    "from devinterp.optim.sgld import SGLD\n",
    "from devinterp.optim.sgnht import SGNHT\n",
    "\n",
    "DEVICE = \"cuda\" if torch.cuda.is_available() else \"cpu\"\n",
    "\n",
    "PRIMARY, SECONDARY, TERTIARY = sns.color_palette(\"muted\")[:3]\n",
    "PRIMARY_LIGHT, SECONDARY_LIGHT, TERTIARY_LIGHT = sns.color_palette(\"pastel\")[:3]"
>>>>>>> main
   ]
  },
  {
   "cell_type": "code",
   "execution_count": 2,
   "metadata": {},
   "outputs": [],
   "source": [
    "def train_one_epoch(model, train_loader, optimizer, criterion):\n",
    "    model.train()\n",
    "    train_loss = 0\n",
    "    for data, target in tqdm(train_loader):\n",
    "        optimizer.zero_grad()\n",
    "        output = model(data.to(DEVICE))\n",
    "        loss = criterion(output, target.to(DEVICE))\n",
    "        train_loss += loss.item()\n",
    "        loss.backward()\n",
    "        optimizer.step()\n",
    "    return train_loss / len(train_loader)\n",
    "\n",
    "\n",
    "def evaluate(model, test_loader, criterion):\n",
    "    model.eval()\n",
    "    test_loss = 0\n",
    "    with torch.no_grad():\n",
    "        for data, target in test_loader:\n",
    "            output = model(data.to(DEVICE))\n",
    "            loss = criterion(output, target.to(DEVICE))\n",
    "            test_loss += loss.item()\n",
    "    return test_loss / len(test_loader)\n",
    "\n",
    "\n",
    "# Define the neural network\n",
    "class Net(nn.Module):\n",
    "    def __init__(\n",
    "        self,\n",
    "        hidden_layer_sizes=[1024, 1024],\n",
    "        input_dim=28 * 28,\n",
    "        output_dim=10,\n",
    "        activation=F.relu,\n",
    "        with_bias=True,\n",
    "    ):\n",
    "        super(Net, self).__init__()\n",
    "        self.input_dim = input_dim\n",
    "        self.layer_sizes = [input_dim] + hidden_layer_sizes + [output_dim]\n",
    "        self.activation = activation\n",
    "        self.with_bias = with_bias\n",
    "        self.layers = nn.ModuleList()\n",
    "        for i in range(len(self.layer_sizes) - 1):\n",
    "            dim_in, dim_out = self.layer_sizes[i : i + 2]\n",
    "            self.layers.append(nn.Linear(dim_in, dim_out, bias=self.with_bias).float())\n",
    "\n",
    "    def forward(self, x):\n",
    "        x = x.view(-1, self.input_dim)\n",
    "        for layer in self.layers[:-1]:\n",
    "            x = self.activation(layer(x))\n",
    "        x = self.layers[-1](x)\n",
    "        return x"
   ]
  },
  {
   "cell_type": "code",
   "execution_count": 3,
   "metadata": {},
   "outputs": [
    {
     "name": "stdout",
     "output_type": "stream",
     "text": [
      "60000\n"
     ]
    }
   ],
   "source": [
    "DEVICE = \"cuda\"\n",
    "# Load MNIST data\n",
    "batch_size = 512\n",
    "train_data = datasets.MNIST(\n",
    "    \"./data\", train=True, transform=transforms.ToTensor(), download=True\n",
    ")\n",
    "train_loader = DataLoader(train_data, batch_size=batch_size, shuffle=True)\n",
    "print(len(train_data))\n",
    "# Load test data\n",
    "test_data = datasets.MNIST(\"./data\", train=False, transform=transforms.ToTensor())\n",
    "test_loader = DataLoader(test_data, batch_size=batch_size, shuffle=False)\n",
    "# Initialize model, loss, optimizer and sgld sampler\n",
    "model = Net().to(DEVICE)\n",
    "criterion = nn.CrossEntropyLoss()\n",
<<<<<<< HEAD
    "lr = 0.01\n",
=======
    "lr = 0.005\n",
>>>>>>> main
    "optimizer = optim.SGD(model.parameters(), lr=lr, momentum=0.9, nesterov=True)\n",
    "n_epochs = 20"
   ]
  },
  {
   "cell_type": "code",
   "execution_count": 4,
   "metadata": {},
   "outputs": [
    {
     "name": "stderr",
     "output_type": "stream",
     "text": [
<<<<<<< HEAD
      "100%|██████████| 118/118 [00:10<00:00, 11.01it/s]\n"
=======
      "100%|██████████| 118/118 [00:09<00:00, 12.81it/s]\n"
>>>>>>> main
     ]
    },
    {
     "name": "stdout",
     "output_type": "stream",
     "text": [
<<<<<<< HEAD
      "Epoch 1, Train Loss: 1.4469440478389546, Test Loss: 0.5287665084004403\n"
=======
      "Epoch 1, Train Loss: 1.9797090564743947, Test Loss: 1.2593935072422027\n"
>>>>>>> main
     ]
    },
    {
     "name": "stderr",
     "output_type": "stream",
     "text": [
<<<<<<< HEAD
      "100%|██████████| 118/118 [00:09<00:00, 12.15it/s]\n"
=======
      "100%|██████████| 118/118 [00:08<00:00, 13.44it/s]\n"
>>>>>>> main
     ]
    },
    {
     "name": "stdout",
     "output_type": "stream",
     "text": [
<<<<<<< HEAD
      "Epoch 2, Train Loss: 0.4270835513785734, Test Loss: 0.35885378941893575\n"
=======
      "Epoch 2, Train Loss: 0.7703131288290024, Test Loss: 0.5168933182954788\n"
>>>>>>> main
     ]
    },
    {
     "name": "stderr",
     "output_type": "stream",
     "text": [
<<<<<<< HEAD
      "100%|██████████| 118/118 [00:09<00:00, 12.38it/s]\n"
=======
      "100%|██████████| 118/118 [00:08<00:00, 13.19it/s]\n"
>>>>>>> main
     ]
    },
    {
     "name": "stdout",
     "output_type": "stream",
     "text": [
<<<<<<< HEAD
      "Epoch 3, Train Loss: 0.33482385590925057, Test Loss: 0.30701475590467453\n"
=======
      "Epoch 3, Train Loss: 0.4590490036091562, Test Loss: 0.3942414440214634\n"
>>>>>>> main
     ]
    },
    {
     "name": "stderr",
     "output_type": "stream",
     "text": [
<<<<<<< HEAD
      "100%|██████████| 118/118 [00:09<00:00, 11.98it/s]\n"
=======
      "100%|██████████| 118/118 [00:08<00:00, 13.39it/s]\n"
>>>>>>> main
     ]
    },
    {
     "name": "stdout",
     "output_type": "stream",
     "text": [
<<<<<<< HEAD
      "Epoch 4, Train Loss: 0.29666741659580653, Test Loss: 0.2790894404053688\n"
=======
      "Epoch 4, Train Loss: 0.3793781824031119, Test Loss: 0.34596002027392386\n"
>>>>>>> main
     ]
    },
    {
     "name": "stderr",
     "output_type": "stream",
     "text": [
<<<<<<< HEAD
      "100%|██████████| 118/118 [00:09<00:00, 12.29it/s]\n"
=======
      "100%|██████████| 118/118 [00:08<00:00, 13.12it/s]\n"
>>>>>>> main
     ]
    },
    {
     "name": "stdout",
     "output_type": "stream",
     "text": [
<<<<<<< HEAD
      "Epoch 5, Train Loss: 0.2698693616410433, Test Loss: 0.2558872222900391\n"
=======
      "Epoch 5, Train Loss: 0.342110355526714, Test Loss: 0.31863952800631523\n"
>>>>>>> main
     ]
    },
    {
     "name": "stderr",
     "output_type": "stream",
     "text": [
<<<<<<< HEAD
      "100%|██████████| 118/118 [00:09<00:00, 12.60it/s]\n"
=======
      "100%|██████████| 118/118 [00:08<00:00, 13.55it/s]\n"
>>>>>>> main
     ]
    },
    {
     "name": "stdout",
     "output_type": "stream",
     "text": [
<<<<<<< HEAD
      "Epoch 6, Train Loss: 0.24747950343762415, Test Loss: 0.2391726069152355\n"
=======
      "Epoch 6, Train Loss: 0.31745082821886417, Test Loss: 0.29936069548130034\n"
>>>>>>> main
     ]
    },
    {
     "name": "stderr",
     "output_type": "stream",
     "text": [
<<<<<<< HEAD
      "100%|██████████| 118/118 [00:09<00:00, 12.62it/s]\n"
=======
      "100%|██████████| 118/118 [00:08<00:00, 13.35it/s]\n"
>>>>>>> main
     ]
    },
    {
     "name": "stdout",
     "output_type": "stream",
     "text": [
<<<<<<< HEAD
      "Epoch 7, Train Loss: 0.226287186208923, Test Loss: 0.2219556003808975\n"
=======
      "Epoch 7, Train Loss: 0.2972498864440595, Test Loss: 0.2840582296252251\n"
>>>>>>> main
     ]
    },
    {
     "name": "stderr",
     "output_type": "stream",
     "text": [
<<<<<<< HEAD
      "100%|██████████| 118/118 [00:09<00:00, 12.59it/s]\n"
=======
      "100%|██████████| 118/118 [00:08<00:00, 13.31it/s]\n"
>>>>>>> main
     ]
    },
    {
     "name": "stdout",
     "output_type": "stream",
     "text": [
<<<<<<< HEAD
      "Epoch 8, Train Loss: 0.21059956035371555, Test Loss: 0.20098792836070062\n"
=======
      "Epoch 8, Train Loss: 0.28204420878220415, Test Loss: 0.2711625199764967\n"
>>>>>>> main
     ]
    },
    {
     "name": "stderr",
     "output_type": "stream",
     "text": [
<<<<<<< HEAD
      "100%|██████████| 118/118 [00:09<00:00, 12.27it/s]\n"
=======
      "100%|██████████| 118/118 [00:08<00:00, 13.38it/s]\n"
>>>>>>> main
     ]
    },
    {
     "name": "stdout",
     "output_type": "stream",
     "text": [
<<<<<<< HEAD
      "Epoch 9, Train Loss: 0.19354412540540858, Test Loss: 0.18778276368975638\n"
=======
      "Epoch 9, Train Loss: 0.2691761515403198, Test Loss: 0.2593308832496405\n"
>>>>>>> main
     ]
    },
    {
     "name": "stderr",
     "output_type": "stream",
     "text": [
<<<<<<< HEAD
      "100%|██████████| 118/118 [00:09<00:00, 12.28it/s]\n"
=======
      "100%|██████████| 118/118 [00:08<00:00, 13.45it/s]\n"
>>>>>>> main
     ]
    },
    {
     "name": "stdout",
     "output_type": "stream",
     "text": [
<<<<<<< HEAD
      "Epoch 10, Train Loss: 0.1795661962133343, Test Loss: 0.17746581137180328\n"
=======
      "Epoch 10, Train Loss: 0.25547573469200374, Test Loss: 0.24785419628024102\n"
>>>>>>> main
     ]
    },
    {
     "name": "stderr",
     "output_type": "stream",
     "text": [
<<<<<<< HEAD
      "100%|██████████| 118/118 [00:09<00:00, 12.33it/s]\n"
=======
      "100%|██████████| 118/118 [00:08<00:00, 13.25it/s]\n"
>>>>>>> main
     ]
    },
    {
     "name": "stdout",
     "output_type": "stream",
     "text": [
<<<<<<< HEAD
      "Epoch 11, Train Loss: 0.1678045570092686, Test Loss: 0.16632772739976645\n"
=======
      "Epoch 11, Train Loss: 0.24504778660454993, Test Loss: 0.23769749850034713\n"
>>>>>>> main
     ]
    },
    {
     "name": "stderr",
     "output_type": "stream",
     "text": [
<<<<<<< HEAD
      "100%|██████████| 118/118 [00:09<00:00, 12.62it/s]\n"
=======
      "100%|██████████| 118/118 [00:08<00:00, 13.24it/s]\n"
>>>>>>> main
     ]
    },
    {
     "name": "stdout",
     "output_type": "stream",
     "text": [
<<<<<<< HEAD
      "Epoch 12, Train Loss: 0.1557467408099417, Test Loss: 0.156783496029675\n"
=======
      "Epoch 12, Train Loss: 0.23440726657034988, Test Loss: 0.2287828240543604\n"
>>>>>>> main
     ]
    },
    {
     "name": "stderr",
     "output_type": "stream",
     "text": [
<<<<<<< HEAD
      "100%|██████████| 118/118 [00:09<00:00, 12.56it/s]\n"
=======
      "100%|██████████| 118/118 [00:08<00:00, 13.53it/s]\n"
>>>>>>> main
     ]
    },
    {
     "name": "stdout",
     "output_type": "stream",
     "text": [
<<<<<<< HEAD
      "Epoch 13, Train Loss: 0.14644796792733467, Test Loss: 0.14834417775273323\n"
=======
      "Epoch 13, Train Loss: 0.2238590265229597, Test Loss: 0.2218688167631626\n"
>>>>>>> main
     ]
    },
    {
     "name": "stderr",
     "output_type": "stream",
     "text": [
<<<<<<< HEAD
      "100%|██████████| 118/118 [00:09<00:00, 12.43it/s]\n"
=======
      "100%|██████████| 118/118 [00:08<00:00, 13.50it/s]\n"
>>>>>>> main
     ]
    },
    {
     "name": "stdout",
     "output_type": "stream",
     "text": [
<<<<<<< HEAD
      "Epoch 14, Train Loss: 0.13724211123535188, Test Loss: 0.14287739004939795\n"
=======
      "Epoch 14, Train Loss: 0.2156385608901412, Test Loss: 0.21289095804095268\n"
>>>>>>> main
     ]
    },
    {
     "name": "stderr",
     "output_type": "stream",
     "text": [
<<<<<<< HEAD
      "100%|██████████| 118/118 [00:09<00:00, 12.56it/s]\n"
=======
      "100%|██████████| 118/118 [00:08<00:00, 13.36it/s]\n"
>>>>>>> main
     ]
    },
    {
     "name": "stdout",
     "output_type": "stream",
     "text": [
<<<<<<< HEAD
      "Epoch 15, Train Loss: 0.1292042907769397, Test Loss: 0.13420439176261426\n"
=======
      "Epoch 15, Train Loss: 0.20559073706804695, Test Loss: 0.2039803232997656\n"
>>>>>>> main
     ]
    },
    {
     "name": "stderr",
     "output_type": "stream",
     "text": [
<<<<<<< HEAD
      "100%|██████████| 118/118 [00:09<00:00, 12.30it/s]\n"
=======
      "100%|██████████| 118/118 [00:08<00:00, 13.30it/s]\n"
>>>>>>> main
     ]
    },
    {
     "name": "stdout",
     "output_type": "stream",
     "text": [
<<<<<<< HEAD
      "Epoch 16, Train Loss: 0.12122176072986449, Test Loss: 0.1282108360901475\n"
=======
      "Epoch 16, Train Loss: 0.1976738164232949, Test Loss: 0.1970057487487793\n"
>>>>>>> main
     ]
    },
    {
     "name": "stderr",
     "output_type": "stream",
     "text": [
<<<<<<< HEAD
      "100%|██████████| 118/118 [00:09<00:00, 11.88it/s]\n"
=======
      "100%|██████████| 118/118 [00:08<00:00, 13.30it/s]\n"
>>>>>>> main
     ]
    },
    {
     "name": "stdout",
     "output_type": "stream",
     "text": [
<<<<<<< HEAD
      "Epoch 17, Train Loss: 0.1148957882581626, Test Loss: 0.12412852011620998\n"
=======
      "Epoch 17, Train Loss: 0.19124657566011963, Test Loss: 0.19109472446143627\n"
>>>>>>> main
     ]
    },
    {
     "name": "stderr",
     "output_type": "stream",
     "text": [
<<<<<<< HEAD
      "100%|██████████| 118/118 [00:10<00:00, 10.99it/s]\n"
=======
      "100%|██████████| 118/118 [00:08<00:00, 13.75it/s]\n"
>>>>>>> main
     ]
    },
    {
     "name": "stdout",
     "output_type": "stream",
     "text": [
<<<<<<< HEAD
      "Epoch 18, Train Loss: 0.10795068848183599, Test Loss: 0.11886634230613709\n"
=======
      "Epoch 18, Train Loss: 0.18286241357356814, Test Loss: 0.18343290351331235\n"
>>>>>>> main
     ]
    },
    {
     "name": "stderr",
     "output_type": "stream",
     "text": [
<<<<<<< HEAD
      "100%|██████████| 118/118 [00:10<00:00, 11.11it/s]\n"
=======
      "100%|██████████| 118/118 [00:08<00:00, 13.27it/s]\n"
>>>>>>> main
     ]
    },
    {
     "name": "stdout",
     "output_type": "stream",
     "text": [
<<<<<<< HEAD
      "Epoch 19, Train Loss: 0.10240371569485987, Test Loss: 0.11279213707894087\n"
=======
      "Epoch 19, Train Loss: 0.17632739511081727, Test Loss: 0.17833250537514686\n"
>>>>>>> main
     ]
    },
    {
     "name": "stderr",
     "output_type": "stream",
     "text": [
<<<<<<< HEAD
      "100%|██████████| 118/118 [00:10<00:00, 10.95it/s]\n"
=======
      "100%|██████████| 118/118 [00:08<00:00, 13.18it/s]\n"
>>>>>>> main
     ]
    },
    {
     "name": "stdout",
     "output_type": "stream",
     "text": [
<<<<<<< HEAD
      "Epoch 20, Train Loss: 0.09769656067177401, Test Loss: 0.10717768762260675\n"
=======
      "Epoch 20, Train Loss: 0.16939394245460881, Test Loss: 0.171290148422122\n"
>>>>>>> main
     ]
    }
   ],
   "source": [
    "# train model\n",
    "train_losses = []\n",
    "test_losses = []\n",
    "rlct_estimates = []\n",
    "models = []\n",
    "for epoch in range(n_epochs):\n",
    "    train_loss = train_one_epoch(model, train_loader, optimizer, criterion)\n",
    "    test_loss = evaluate(model, test_loader, criterion)\n",
    "    train_losses.append(train_loss)\n",
    "    test_losses.append(test_loss)\n",
    "    # rlct_estimates.append(rlct_estimate)\n",
    "    models += [copy.deepcopy(model)]\n",
<<<<<<< HEAD
    "    print(f\"Epoch {epoch+1}, Train Loss: {train_loss}, Test Loss: {test_loss}\")\n",
    "torch.save(models, \"models.pth\")"
=======
    "    print(f\"Epoch {epoch+1}, Train Loss: {train_loss}, Test Loss: {test_loss}\")"
>>>>>>> main
   ]
  },
  {
   "cell_type": "code",
<<<<<<< HEAD
   "execution_count": 7,
=======
   "execution_count": 5,
>>>>>>> main
   "metadata": {},
   "outputs": [
    {
     "name": "stderr",
     "output_type": "stream",
     "text": [
<<<<<<< HEAD
      "Chain 0:   0%|          | 1/1000 [00:00<07:04,  2.35it/s]"
=======
      "Chain 0:   0%|          | 0/400 [00:00<?, ?it/s]"
>>>>>>> main
     ]
    },
    {
     "name": "stderr",
     "output_type": "stream",
     "text": [
<<<<<<< HEAD
      "Chain 0: 100%|██████████| 1000/1000 [05:17<00:00,  3.15it/s]\n",
      "Chain 0: 100%|██████████| 1000/1000 [05:50<00:00,  2.85it/s]\n",
      "Chain 0: 100%|██████████| 1000/1000 [08:04<00:00,  2.06it/s]\n",
      "Chain 0: 100%|██████████| 1000/1000 [08:33<00:00,  1.95it/s]\n",
      "Chain 0: 100%|██████████| 1000/1000 [07:09<00:00,  2.33it/s]\n",
      "Chain 0: 100%|██████████| 1000/1000 [06:44<00:00,  2.47it/s]\n",
      "Chain 0: 100%|██████████| 1000/1000 [07:08<00:00,  2.34it/s]\n",
      "Chain 0: 100%|██████████| 1000/1000 [06:38<00:00,  2.51it/s]\n",
      "Chain 0: 100%|██████████| 1000/1000 [11:13<00:00,  1.48it/s]\n",
      "Chain 0: 100%|██████████| 1000/1000 [11:02<00:00,  1.51it/s]\n",
      "Chain 0: 100%|██████████| 1000/1000 [11:37<00:00,  1.43it/s]\n",
      "Chain 0: 100%|██████████| 1000/1000 [07:10<00:00,  2.32it/s]\n",
      "Chain 0: 100%|██████████| 1000/1000 [05:42<00:00,  2.92it/s]\n",
      "Chain 0: 100%|██████████| 1000/1000 [06:24<00:00,  2.60it/s]\n",
      "Chain 0: 100%|██████████| 1000/1000 [06:55<00:00,  2.41it/s]\n",
      "Chain 0: 100%|██████████| 1000/1000 [06:03<00:00,  2.75it/s]\n",
      "Chain 0: 100%|██████████| 1000/1000 [10:25<00:00,  1.60it/s]\n",
      "Chain 0: 100%|██████████| 1000/1000 [06:36<00:00,  2.52it/s]\n",
      "Chain 0: 100%|██████████| 1000/1000 [06:34<00:00,  2.54it/s]\n",
      "Chain 0: 100%|██████████| 1000/1000 [11:19<00:00,  1.47it/s]\n",
      "Chain 0: 100%|██████████| 1000/1000 [13:08<00:00,  1.27it/s]\n",
      "Chain 0: 100%|██████████| 1000/1000 [13:08<00:00,  1.27it/s]\n",
      "Chain 0: 100%|██████████| 1000/1000 [13:25<00:00,  1.24it/s]\n",
      "Chain 0: 100%|██████████| 1000/1000 [17:10<00:00,  1.03s/it]\n",
      "Chain 0: 100%|██████████| 1000/1000 [09:27<00:00,  1.76it/s]\n",
      "Chain 0: 100%|██████████| 1000/1000 [07:33<00:00,  2.20it/s]\n",
      "Chain 0:  42%|████▏     | 420/1000 [03:04<04:11,  2.31it/s]"
=======
      "Chain 0: 100%|██████████| 400/400 [00:11<00:00, 35.66it/s] \n",
      "Chain 0: 100%|██████████| 400/400 [00:11<00:00, 35.69it/s] \n"
     ]
    },
    {
     "name": "stdout",
     "output_type": "stream",
     "text": [
      "-3751.1507123738857 -3631.5400902342076\n"
     ]
    },
    {
     "name": "stderr",
     "output_type": "stream",
     "text": [
      "Chain 0: 100%|██████████| 400/400 [00:11<00:00, 35.07it/s] \n",
      "Chain 0: 100%|██████████| 400/400 [00:10<00:00, 36.93it/s] \n"
     ]
    },
    {
     "name": "stdout",
     "output_type": "stream",
     "text": [
      "-346.57450471218544 -394.1218129057804\n"
     ]
    },
    {
     "name": "stderr",
     "output_type": "stream",
     "text": [
      "Chain 0: 100%|██████████| 400/400 [00:10<00:00, 37.45it/s] \n",
      "Chain 0: 100%|██████████| 400/400 [00:10<00:00, 37.99it/s] \n"
     ]
    },
    {
     "name": "stdout",
     "output_type": "stream",
     "text": [
      "45.354720551051116 392.9662923820921\n"
     ]
    },
    {
     "name": "stderr",
     "output_type": "stream",
     "text": [
      "Chain 0: 100%|██████████| 400/400 [00:11<00:00, 35.07it/s] \n",
      "Chain 0: 100%|██████████| 400/400 [00:11<00:00, 35.82it/s] \n"
     ]
    },
    {
     "name": "stdout",
     "output_type": "stream",
     "text": [
      "17.243422015396373 379.1561167271905\n"
     ]
    },
    {
     "name": "stderr",
     "output_type": "stream",
     "text": [
      "Chain 0: 100%|██████████| 400/400 [00:11<00:00, 34.65it/s] \n",
      "Chain 0: 100%|██████████| 400/400 [00:10<00:00, 36.51it/s] \n"
     ]
    },
    {
     "name": "stdout",
     "output_type": "stream",
     "text": [
      "52.115434136514956 -262.0582604071222\n"
     ]
    },
    {
     "name": "stderr",
     "output_type": "stream",
     "text": [
      "Chain 0: 100%|██████████| 400/400 [00:11<00:00, 35.54it/s] \n",
      "Chain 0: 100%|██████████| 400/400 [00:11<00:00, 36.04it/s] \n"
     ]
    },
    {
     "name": "stdout",
     "output_type": "stream",
     "text": [
      "81.42651745060688 130.07862247684795\n"
     ]
    },
    {
     "name": "stderr",
     "output_type": "stream",
     "text": [
      "Chain 0: 100%|██████████| 400/400 [00:11<00:00, 34.93it/s] \n",
      "Chain 0: 100%|██████████| 400/400 [00:11<00:00, 36.28it/s] \n"
     ]
    },
    {
     "name": "stdout",
     "output_type": "stream",
     "text": [
      "478.05564034452414 -79.085668121085\n"
     ]
    },
    {
     "name": "stderr",
     "output_type": "stream",
     "text": [
      "Chain 0: 100%|██████████| 400/400 [00:11<00:00, 35.11it/s] \n",
      "Chain 0: 100%|██████████| 400/400 [00:10<00:00, 36.45it/s] \n"
     ]
    },
    {
     "name": "stdout",
     "output_type": "stream",
     "text": [
      "286.8169690918572 364.8548920638427\n"
     ]
    },
    {
     "name": "stderr",
     "output_type": "stream",
     "text": [
      "Chain 0: 100%|██████████| 400/400 [00:11<00:00, 35.53it/s] \n",
      "Chain 0: 100%|██████████| 400/400 [00:11<00:00, 36.25it/s] \n"
     ]
    },
    {
     "name": "stdout",
     "output_type": "stream",
     "text": [
      "215.44559150558814 142.26234153097323\n"
     ]
    },
    {
     "name": "stderr",
     "output_type": "stream",
     "text": [
      "Chain 0: 100%|██████████| 400/400 [00:11<00:00, 35.05it/s] \n",
      "Chain 0: 100%|██████████| 400/400 [00:10<00:00, 36.63it/s] \n"
     ]
    },
    {
     "name": "stdout",
     "output_type": "stream",
     "text": [
      "203.53782152026494 374.1688941467428\n"
     ]
    },
    {
     "name": "stderr",
     "output_type": "stream",
     "text": [
      "Chain 0: 100%|██████████| 400/400 [00:11<00:00, 35.46it/s] \n",
      "Chain 0: 100%|██████████| 400/400 [00:11<00:00, 36.03it/s] \n"
     ]
    },
    {
     "name": "stdout",
     "output_type": "stream",
     "text": [
      "77.79906685295497 80.14842955495348\n"
     ]
    },
    {
     "name": "stderr",
     "output_type": "stream",
     "text": [
      "Chain 0: 100%|██████████| 400/400 [00:11<00:00, 35.42it/s] \n",
      "Chain 0: 100%|██████████| 400/400 [00:10<00:00, 36.66it/s] \n"
     ]
    },
    {
     "name": "stdout",
     "output_type": "stream",
     "text": [
      "758.9741222109 427.4054993145647\n"
     ]
    },
    {
     "name": "stderr",
     "output_type": "stream",
     "text": [
      "Chain 0: 100%|██████████| 400/400 [00:11<00:00, 35.07it/s] \n",
      "Chain 0: 100%|██████████| 400/400 [00:10<00:00, 36.53it/s] \n"
     ]
    },
    {
     "name": "stdout",
     "output_type": "stream",
     "text": [
      "536.3282373954997 329.12716360559426\n"
     ]
    },
    {
     "name": "stderr",
     "output_type": "stream",
     "text": [
      "Chain 0: 100%|██████████| 400/400 [00:11<00:00, 35.69it/s] \n",
      "Chain 0: 100%|██████████| 400/400 [00:11<00:00, 35.69it/s] \n"
     ]
    },
    {
     "name": "stdout",
     "output_type": "stream",
     "text": [
      "-14.460165396363719 329.0867859832012\n"
     ]
    },
    {
     "name": "stderr",
     "output_type": "stream",
     "text": [
      "Chain 0: 100%|██████████| 400/400 [00:11<00:00, 35.84it/s] \n",
      "Chain 0: 100%|██████████| 400/400 [00:10<00:00, 36.40it/s] \n"
     ]
    },
    {
     "name": "stdout",
     "output_type": "stream",
     "text": [
      "5.858782262109064 238.59280827196258\n"
     ]
    },
    {
     "name": "stderr",
     "output_type": "stream",
     "text": [
      "Chain 0: 100%|██████████| 400/400 [00:11<00:00, 35.31it/s] \n",
      "Chain 0: 100%|██████████| 400/400 [00:10<00:00, 36.77it/s] \n"
     ]
    },
    {
     "name": "stdout",
     "output_type": "stream",
     "text": [
      "444.44702976429556 594.2232076134297\n"
     ]
    },
    {
     "name": "stderr",
     "output_type": "stream",
     "text": [
      "Chain 0: 100%|██████████| 400/400 [00:11<00:00, 35.04it/s] \n",
      "Chain 0: 100%|██████████| 400/400 [00:10<00:00, 36.60it/s] \n"
     ]
    },
    {
     "name": "stdout",
     "output_type": "stream",
     "text": [
      "575.365201398502 457.6114608854972\n"
     ]
    },
    {
     "name": "stderr",
     "output_type": "stream",
     "text": [
      "Chain 0: 100%|██████████| 400/400 [00:11<00:00, 34.31it/s] \n",
      "Chain 0: 100%|██████████| 400/400 [00:10<00:00, 36.60it/s] \n"
     ]
    },
    {
     "name": "stdout",
     "output_type": "stream",
     "text": [
      "557.8371396857125 533.5310289426014\n"
     ]
    },
    {
     "name": "stderr",
     "output_type": "stream",
     "text": [
      "Chain 0: 100%|██████████| 400/400 [00:11<00:00, 35.47it/s] \n",
      "Chain 0: 100%|██████████| 400/400 [00:11<00:00, 36.33it/s] \n"
     ]
    },
    {
     "name": "stdout",
     "output_type": "stream",
     "text": [
      "361.9376836592082 653.9004521054121\n"
     ]
    },
    {
     "name": "stderr",
     "output_type": "stream",
     "text": [
      "Chain 0: 100%|██████████| 400/400 [00:11<00:00, 35.09it/s] \n",
      "Chain 0: 100%|██████████| 400/400 [00:10<00:00, 36.89it/s] "
     ]
    },
    {
     "name": "stdout",
     "output_type": "stream",
     "text": [
      "575.5876719419753 446.46839135217374\n"
     ]
    },
    {
     "name": "stderr",
     "output_type": "stream",
     "text": [
      "\n"
>>>>>>> main
     ]
    }
   ],
   "source": [
<<<<<<< HEAD
=======
    "from devinterp.slt.sampler import estimate_rlct\n",
    "\n",
>>>>>>> main
    "# Load MNIST data\n",
    "batch_size = 512\n",
    "train_data = datasets.MNIST(\n",
    "    \"./data\", train=True, transform=transforms.ToTensor(), download=True\n",
    ")\n",
    "train_loader = DataLoader(train_data, batch_size=batch_size, shuffle=True)\n",
    "# Load test data\n",
    "test_data = datasets.MNIST(\"./data\", train=False, transform=transforms.ToTensor())\n",
    "test_loader = DataLoader(test_data, batch_size=batch_size, shuffle=False)\n",
    "\n",
    "rlct_estimates_sgnht = []\n",
<<<<<<< HEAD
    "rlct_estimates_sgdl = []\n",
    "for n in range(n_epochs):\n",
=======
    "rlct_estimates_sgld = []\n",
    "for model in models:\n",
>>>>>>> main
    "    rlct_estimate_sgnht = estimate_rlct(\n",
    "        model,\n",
    "        train_loader,\n",
    "        criterion=criterion,\n",
    "        optimizer_kwargs=dict(\n",
    "            lr=1e-7,\n",
    "            diffusion_factor=0.01,\n",
    "            num_samples=len(train_data),\n",
    "        ),\n",
    "        sampling_method=SGNHT,\n",
    "        num_chains=1,\n",
<<<<<<< HEAD
    "        num_draws=1_000,\n",
    "        num_burnin_steps=0,\n",
    "        num_steps_bw_draws=1,\n",
    "    )\n",
    "    rlct_estimate_sgdl = estimate_rlct(\n",
=======
    "        num_draws=400,\n",
    "        num_burnin_steps=0,\n",
    "        num_steps_bw_draws=1,\n",
    "        device=DEVICE,\n",
    "    )\n",
    "    rlct_estimate_sgld = estimate_rlct(\n",
>>>>>>> main
    "        model,\n",
    "        train_loader,\n",
    "        criterion=criterion,\n",
    "        optimizer_kwargs=dict(\n",
    "            lr=1e-5,\n",
    "            noise_level=1.0,\n",
    "            elasticity=100.0,\n",
<<<<<<< HEAD
    "            bounding_box_size=1.0,\n",
=======
>>>>>>> main
    "            num_samples=len(train_data),\n",
    "            temperature=\"adaptive\",\n",
    "        ),\n",
    "        sampling_method=SGLD,\n",
    "        num_chains=1,\n",
<<<<<<< HEAD
    "        num_draws=1_000,\n",
    "        num_burnin_steps=0,\n",
    "        num_steps_bw_draws=1,\n",
    "    )\n",
    "    rlct_estimates_sgnht += [rlct_estimate_sgnht]\n",
    "    rlct_estimates_sgdl += [rlct_estimate_sgdl]\n",
    "plt.hist(rlct_estimates_sgnht, alpha=0.5, label=\"sgnht\")\n",
    "plt.hist(rlct_estimates_sgdl, alpha=0.5, label=\"sgdl\")\n",
    "plt.legend()\n",
    "plt.show()\n",
    "# Plotting"
=======
    "        num_draws=400,\n",
    "        num_burnin_steps=0,\n",
    "        num_steps_bw_draws=1,\n",
    "        device=DEVICE,\n",
    "    )\n",
    "    rlct_estimates_sgnht += [rlct_estimate_sgnht]\n",
    "    rlct_estimates_sgld += [rlct_estimate_sgld]\n",
    "    print(rlct_estimate_sgld, rlct_estimate_sgnht)"
>>>>>>> main
   ]
  },
  {
   "cell_type": "code",
<<<<<<< HEAD
   "execution_count": null,
=======
   "execution_count": 13,
>>>>>>> main
   "metadata": {},
   "outputs": [
    {
     "data": {
<<<<<<< HEAD
      "image/png": "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",
=======
      "image/png": "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",
>>>>>>> main
      "text/plain": [
       "<Figure size 640x480 with 2 Axes>"
      ]
     },
     "metadata": {},
     "output_type": "display_data"
    }
   ],
   "source": [
<<<<<<< HEAD
    "fig, ax1 = plt.subplots()\n",
    "\n",
    "ax1.set_xlabel(\"Epoch\")\n",
    "ax1.set_ylabel(\"Loss\", color=\"tab:blue\")\n",
    "ax1.plot(train_losses, label=\"Train Loss\", color=\"tab:blue\")\n",
    "ax1.plot(test_losses, label=\"Test Loss\", color=\"tab:orange\")\n",
    "ax1.tick_params(axis=\"y\", labelcolor=\"tab:blue\")\n",
    "ax1.legend(loc=\"upper left\")\n",
    "\n",
    "ax2 = ax1.twinx()\n",
    "ax2.set_ylabel(\"rlct_estimate\", color=\"tab:green\")\n",
    "ax2.plot(rlct_estimates_sgnht, label=\"rlct_estimate_sgnht\", color=\"tab:green\")\n",
    "ax2.plot(rlct_estimates_sgdl, label=\"rlct_estimate_sgdl\", color=\"tab:red\")\n",
    "ax2.tick_params(axis=\"y\", labelcolor=\"tab:green\")\n",
    "ax2.legend(loc=\"upper right\")\n",
=======
    "sns.set_style(\"whitegrid\")\n",
    "\n",
    "fig, ax1 = plt.subplots()\n",
    "ax1.set_xlabel(\"Epoch\")\n",
    "ax1.set_ylabel(\"Loss\", color=PRIMARY)\n",
    "ax1.plot(train_losses, label=\"Train Loss\", color=PRIMARY)\n",
    "ax1.plot(test_losses, label=\"Test Loss\", color=PRIMARY_LIGHT)\n",
    "ax1.tick_params(axis=\"y\", labelcolor=PRIMARY)\n",
    "ax1.legend(loc=\"lower left\")\n",
    "\n",
    "ax2 = ax1.twinx()\n",
    "ax2.set_ylabel(r\"Local Learning Coefficient, $\\hat \\lambda$\", color=SECONDARY)\n",
    "ax2.plot(rlct_estimates_sgnht, label=\"SGNHT\", color=SECONDARY)\n",
    "ax2.plot(rlct_estimates_sgld, label=\"SGLD\", color=SECONDARY_LIGHT)\n",
    "ax2.tick_params(axis=\"y\", labelcolor=SECONDARY)\n",
    "ax2.legend(loc=\"center right\")\n",
>>>>>>> main
    "\n",
    "fig.tight_layout()\n",
    "plt.show()"
   ]
  }
 ],
 "metadata": {
  "kernelspec": {
   "display_name": ".venv",
   "language": "python",
   "name": "python3"
  },
  "language_info": {
   "codemirror_mode": {
    "name": "ipython",
    "version": 3
   },
   "file_extension": ".py",
   "mimetype": "text/x-python",
   "name": "python",
   "nbconvert_exporter": "python",
   "pygments_lexer": "ipython3",
   "version": "3.9.16"
  },
  "orig_nbformat": 4
 },
 "nbformat": 4,
 "nbformat_minor": 2
}
