{
 "cells": [
  {
   "cell_type": "markdown",
   "metadata": {},
   "source": [
    "# Grokking"
   ]
  },
  {
   "cell_type": "code",
   "execution_count": 1,
   "metadata": {},
   "outputs": [
    {
     "data": {
      "text/plain": [
       "(device(type='mps'), 1, 'grokking', 'devinterp', True)"
      ]
     },
     "execution_count": 1,
     "metadata": {},
     "output_type": "execute_result"
    }
   ],
   "source": [
    "import os\n",
    "from typing import Callable, Dict, List, Literal, Optional, Union, Any, Type, Tuple \n",
    "import logging\n",
    "from dataclasses import dataclass\n",
    "from pathlib import Path\n",
    "import time\n",
    "\n",
    "from tqdm import tqdm\n",
    "import pandas as pd\n",
    "import numpy as np\n",
    "import matplotlib.pyplot as plt\n",
    "import seaborn as sns\n",
    "from pydantic import BaseModel\n",
    "import wandb\n",
    "\n",
    "import torch\n",
    "from torch import nn\n",
    "from torch import optim\n",
    "from torch.multiprocessing import Pool, cpu_count\n",
    "from torch.nn import functional as F\n",
    "from torch.utils.data import DataLoader\n",
    "\n",
    "from devinterp.slt.sampler import estimate_rlct\n",
    "from devinterp.zoo.arithmetic import ModularArithmeticConfig, ModularArithmetic, OperatorLiteral\n",
    "from devinterp.zoo.transformer import TransformerConfig, Transformer\n",
    "from devinterp.slt.sampler import estimate_rlct\n",
    "from devinterp.optim.sgld import SGLD\n",
    "\n",
    "logging.basicConfig(level=logging.INFO)\n",
    "\n",
    "sns.set_palette(\"deep\")\n",
    "sns.set_style(\"whitegrid\")\n",
    "\n",
    "CHECKPOINTS_PATH = Path(\"checkpoints/grokking\")\n",
    "\n",
    "if not os.path.exists(CHECKPOINTS_PATH):\n",
    "    os.makedirs(CHECKPOINTS_PATH)\n",
    "\n",
    "PRIMARY, SECONDARY, TERTIARY = sns.color_palette(\"deep\")[:3]\n",
    "PRIMARY_LIGHT, SECONDARY_LIGHT, TERTIARY_LIGHT = sns.color_palette(\"muted\")[:3]\n",
    "\n",
    "DEVICE = os.environ.get(\"DEVICE\", \"cuda:0\" if torch.cuda.is_available() else \"mps\" if torch.backends.mps.is_available() else \"cpu\")\n",
    "DEVICE = torch.device(DEVICE)\n",
    "NUM_CORES = int(os.environ.get(\"NUM_CORES\", 1))\n",
    "\n",
    "# wandb\n",
    "PROJECT = os.environ.get(\"PROJECT\", \"grokking\")\n",
    "ENTITY = os.environ.get(\"ENTITY\", \"devinterp\")\n",
    "# ENTITY = None\n",
    "USE_WANDB = bool(PROJECT and ENTITY)\n",
    "\n",
    "DEVICE, NUM_CORES, PROJECT, ENTITY, USE_WANDB"
   ]
  },
  {
   "cell_type": "code",
   "execution_count": 2,
   "metadata": {},
   "outputs": [],
   "source": [
    "# Evals\n",
    "\n",
    "def cross_entropy_last_token(outputs, targets, reduction = \"sum\"):\n",
    "    \"\"\"\n",
    "    Wrapper around cross entropy loss because we only care about the last number predicted.\n",
    "    \"\"\"\n",
    "    # Only look at predictions of last numbers\n",
    "    outputs = outputs[:, -1]\n",
    "\n",
    "    # Compute individual and summed losses for final number\n",
    "    logprobs = F.log_softmax(outputs.to(torch.float32), dim=-1)\n",
    "    prediction_logprobs = torch.gather(logprobs, index=targets.unsqueeze(1), dim=-1)\n",
    "\n",
    "    if reduction == \"mean\":\n",
    "        loss = -torch.mean(prediction_logprobs)\n",
    "    elif reduction == \"sum\":\n",
    "        loss = -torch.sum(prediction_logprobs)\n",
    "    else:\n",
    "        raise ValueError(\"Invalid reduction argument.\")\n",
    "\n",
    "    return loss\n",
    "\n",
    "\n",
    "def make_evals(trainset: ModularArithmetic, testset: ModularArithmetic, device: str):\n",
    "    trainloader = torch.utils.data.DataLoader(trainset, batch_size=1024, shuffle=True)\n",
    "    testloader = torch.utils.data.DataLoader(testset, batch_size=1024, shuffle=False)\n",
    "\n",
    "    def eval_loss_and_acc(model: nn.Module) -> Dict[str, float]:\n",
    "        model.eval()\n",
    "\n",
    "        results = {}\n",
    "\n",
    "        for name, loader in zip([\"train\", \"test\"], [trainloader, testloader]):\n",
    "            total = 0\n",
    "            correct = 0\n",
    "\n",
    "            for x, y in loader:\n",
    "                x = x.to(device)\n",
    "                y = y.to(device)\n",
    "\n",
    "                with torch.no_grad():\n",
    "                    y_hat = model(x)\n",
    "\n",
    "                total += cross_entropy_last_token(y_hat, y, reduction=\"sum\").item()\n",
    "                correct += (y_hat[:, -1, :].max(dim=1).indices == y).sum().item()  # argmax doesn't work for device=mps\n",
    "\n",
    "            results[f\"{name}/loss\"] = total / len(loader.dataset)\n",
    "            results[f\"{name}/accuracy\"] = correct / len(loader.dataset)\n",
    "\n",
    "        return results\n",
    "\n",
    "    return eval_loss_and_acc"
   ]
  },
  {
   "cell_type": "code",
   "execution_count": 3,
   "metadata": {},
   "outputs": [],
   "source": [
    "@dataclass\n",
    "class Learner:\n",
    "    config: 'GrokkingConfig'\n",
    "    model: nn.Module\n",
    "    dataset: torch.utils.data.Dataset\n",
    "    loader: torch.utils.data.DataLoader\n",
    "    optimizer: torch.optim.Optimizer\n",
    "    evals: Callable[[nn.Module], Dict[str, float]]\n",
    "\n",
    "class GrokkingConfig(BaseModel):\n",
    "    data: ModularArithmeticConfig\n",
    "    model: TransformerConfig\n",
    "    noise_level: float = 1.\n",
    "    batch_size: int = 256\n",
    "    num_steps: int = 25_000\n",
    "    device: str = \"cpu\"\n",
    "    lr: float = 1e-3\n",
    "    betas: Tuple[float, float] = (0.9, 0.99)\n",
    "    weight_decay: float = 1e-3\n",
    "\n",
    "    class Config:\n",
    "        arbitrary_types_allowed=True\n",
    "\n",
    "    @property\n",
    "    def num_training_examples(self):\n",
    "        return int((self.data.modulus ** 2) * self.data.split)\n",
    "    \n",
    "    def create_model(self):\n",
    "        return self.model.factory()\n",
    "        \n",
    "    def create_data(self):\n",
    "        return self.data.factory_split()\n",
    "\n",
    "    def create_learner(self):\n",
    "        model = self.create_model()\n",
    "        trainset, testset = self.create_data()\n",
    "        trainloader = torch.utils.data.DataLoader(trainset, batch_size=self.batch_size, shuffle=True)\n",
    "        evals = make_evals(trainset, testset, self.device)\n",
    "        optimizer=optim.AdamW(\n",
    "            model.parameters(),\n",
    "            lr=self.lr,\n",
    "            betas=self.betas,\n",
    "            weight_decay=self.weight_decay,\n",
    "        )\n",
    "\n",
    "        learner = Learner(self, model, trainset, trainloader, optimizer, evals)\n",
    "        return learner\n",
    "\n",
    "MODULUS = 113\n",
    "\n",
    "learner_config = GrokkingConfig(\n",
    "    data=ModularArithmeticConfig(\n",
    "        operator=\"/\",\n",
    "        modulus=MODULUS,\n",
    "        seed=0,\n",
    "        split=0.4\n",
    "    ),\n",
    "    model=TransformerConfig(\n",
    "        d_vocab = MODULUS + 1,\n",
    "        d_model=128,\n",
    "        num_layers=2,\n",
    "    ),\n",
    "    lr = 1e-3,\n",
    "    weight_decay = 0.2,\n",
    "    betas = (0.9, 0.98),\n",
    "    device=str(DEVICE),\n",
    ")\n",
    "learner = learner_config.create_learner()"
   ]
  },
  {
   "cell_type": "code",
   "execution_count": 4,
   "metadata": {},
   "outputs": [],
   "source": [
    "def throttle(seconds):\n",
    "    def decorator(func):\n",
    "        last_called = 0\n",
    "\n",
    "        def wrapper(*args, **kwargs):\n",
    "            nonlocal last_called\n",
    "            elapsed = time.monotonic() - last_called\n",
    "            last_called = time.monotonic()\n",
    "\n",
    "            if elapsed < seconds:\n",
    "                return func(*args, **kwargs)\n",
    "\n",
    "        return wrapper\n",
    "\n",
    "    return decorator\n",
    "\n",
    "def train(learner, use_wandb=USE_WANDB, num_log_ivl_steps=100, num_lin_ivl_steps=100):\n",
    "    learner.model.to(learner.config.device)\n",
    "    learner.model.train()\n",
    "\n",
    "    evals = []\n",
    "\n",
    "    if use_wandb:\n",
    "        wandb.init(project=PROJECT, entity=ENTITY)\n",
    "\n",
    "    num_steps = learner.config.num_steps\n",
    "    logging_steps = set(np.linspace(0, num_steps, num_lin_ivl_steps).astype(int)) | set(np.logspace(0, num_steps, num_log_ivl_steps).astype(int))\n",
    "\n",
    "    def log(step):\n",
    "        learner.model.eval()\n",
    "        evals.append({\"step\": step, **learner.evals(learner.model)})\n",
    "        # print(yaml.dump(evals[-1]))\n",
    "        if use_wandb:\n",
    "            wandb.log(evals[-1], step=step)\n",
    "\n",
    "        learner.model.train()\n",
    "\n",
    "    @throttle(1)\n",
    "    def log_batch_loss(loss, step):\n",
    "        wandb.log({\"batch/loss\": loss.item()}, step=step)\n",
    "\n",
    "    def save_checkpoint(step):\n",
    "        torch.save(learner.model.state_dict(), CHECKPOINTS_PATH / f\"{step}.pt\")\n",
    "\n",
    "    step = -1\n",
    "    epoch = -1\n",
    "\n",
    "    pbar = tqdm(\n",
    "        total=learner.config.num_steps,\n",
    "        desc=f\"Training...\",\n",
    "    )\n",
    "\n",
    "    while step < learner.config.num_steps:\n",
    "        torch.manual_seed(step)\n",
    "        epoch += 1\n",
    "\n",
    "        for x, y in learner.loader:\n",
    "            step += 1\n",
    "            x, y = x.to(learner.config.device), y.to(learner.config.device)\n",
    "            learner.optimizer.zero_grad()\n",
    "            y_hat = learner.model(x)\n",
    "            loss = cross_entropy_last_token(y_hat, y)\n",
    "            loss.backward()\n",
    "            learner.optimizer.step()\n",
    "\n",
    "            if use_wandb:\n",
    "                log_batch_loss(loss, step)                \n",
    "\n",
    "            if step in logging_steps:\n",
    "                log(step=step)\n",
    "                save_checkpoint(step=step)\n",
    "\n",
    "            pbar.update(1)\n",
    "\n",
    "    if pbar:\n",
    "        pbar.close()\n",
    "\n",
    "    log(step=step)\n",
    "\n",
    "    if use_wandb:\n",
    "        wandb.finish()\n",
    "\n",
    "    evals_df = pd.DataFrame(evals)\n",
    "    evals_df.sort_values(\"step\", inplace=True)\n",
    "    \n",
    "    return evals_df"
   ]
  },
  {
   "cell_type": "code",
   "execution_count": 5,
   "metadata": {},
   "outputs": [
    {
     "name": "stderr",
     "output_type": "stream",
     "text": [
      "ERROR:wandb.jupyter:Failed to detect the name of this notebook, you can set it manually with the WANDB_NOTEBOOK_NAME environment variable to enable code saving.\n",
      "\u001b[34m\u001b[1mwandb\u001b[0m: Currently logged in as: \u001b[33mjqhoogland\u001b[0m (\u001b[33mdevinterp\u001b[0m). Use \u001b[1m`wandb login --relogin`\u001b[0m to force relogin\n"
     ]
    },
    {
     "data": {
      "application/vnd.jupyter.widget-view+json": {
       "model_id": "b501d1b320d44385a3772797c53ea7c5",
       "version_major": 2,
       "version_minor": 0
      },
      "text/plain": [
       "VBox(children=(Label(value='Waiting for wandb.init()...\\r'), FloatProgress(value=0.01674590276666666, max=1.0)…"
      ]
     },
     "metadata": {},
     "output_type": "display_data"
    },
    {
     "data": {
      "text/html": [
       "wandb version 0.15.11 is available!  To upgrade, please run:\n",
       " $ pip install wandb --upgrade"
      ],
      "text/plain": [
       "<IPython.core.display.HTML object>"
      ]
     },
     "metadata": {},
     "output_type": "display_data"
    },
    {
     "data": {
      "text/html": [
       "Tracking run with wandb version 0.15.5"
      ],
      "text/plain": [
       "<IPython.core.display.HTML object>"
      ]
     },
     "metadata": {},
     "output_type": "display_data"
    },
    {
     "data": {
      "text/html": [
       "Run data is saved locally in <code>/Users/Jesse/Projects/devinterp/demos/wandb/run-20230926_134736-61b6n8u7</code>"
      ],
      "text/plain": [
       "<IPython.core.display.HTML object>"
      ]
     },
     "metadata": {},
     "output_type": "display_data"
    },
    {
     "data": {
      "text/html": [
       "Syncing run <strong><a href='https://wandb.ai/devinterp/grokking/runs/61b6n8u7' target=\"_blank\">robust-wildflower-19</a></strong> to <a href='https://wandb.ai/devinterp/grokking' target=\"_blank\">Weights & Biases</a> (<a href='https://wandb.me/run' target=\"_blank\">docs</a>)<br/>"
      ],
      "text/plain": [
       "<IPython.core.display.HTML object>"
      ]
     },
     "metadata": {},
     "output_type": "display_data"
    },
    {
     "data": {
      "text/html": [
       " View project at <a href='https://wandb.ai/devinterp/grokking' target=\"_blank\">https://wandb.ai/devinterp/grokking</a>"
      ],
      "text/plain": [
       "<IPython.core.display.HTML object>"
      ]
     },
     "metadata": {},
     "output_type": "display_data"
    },
    {
     "data": {
      "text/html": [
       " View run at <a href='https://wandb.ai/devinterp/grokking/runs/61b6n8u7' target=\"_blank\">https://wandb.ai/devinterp/grokking/runs/61b6n8u7</a>"
      ],
      "text/plain": [
       "<IPython.core.display.HTML object>"
      ]
     },
     "metadata": {},
     "output_type": "display_data"
    },
    {
     "name": "stderr",
     "output_type": "stream",
     "text": [
      "/Users/Jesse/Projects/devinterp/.venv/lib/python3.9/site-packages/numpy/core/function_base.py:298: RuntimeWarning: overflow encountered in power\n",
      "  return _nx.power(base, y)\n",
      "/var/folders/pw/6c492xhs4299155z1pvbwt8w0000gn/T/ipykernel_36761/1344494103.py:27: RuntimeWarning: invalid value encountered in cast\n",
      "  logging_steps = set(np.linspace(0, num_steps, num_lin_ivl_steps).astype(int)) | set(np.logspace(0, num_steps, num_log_ivl_steps).astype(int))\n",
      "Training...: 25020it [13:53, 30.00it/s]                           \n"
     ]
    },
    {
     "data": {
      "text/html": [
       "Waiting for W&B process to finish... <strong style=\"color:green\">(success).</strong>"
      ],
      "text/plain": [
       "<IPython.core.display.HTML object>"
      ]
     },
     "metadata": {},
     "output_type": "display_data"
    },
    {
     "data": {
      "text/html": [
       "<style>\n",
       "    table.wandb td:nth-child(1) { padding: 0 10px; text-align: left ; width: auto;} td:nth-child(2) {text-align: left ; width: 100%}\n",
       "    .wandb-row { display: flex; flex-direction: row; flex-wrap: wrap; justify-content: flex-start; width: 100% }\n",
       "    .wandb-col { display: flex; flex-direction: column; flex-basis: 100%; flex: 1; padding: 10px; }\n",
       "    </style>\n",
       "<div class=\"wandb-row\"><div class=\"wandb-col\"><h3>Run history:</h3><br/><table class=\"wandb\"><tr><td>batch/loss</td><td>█▁▁▁▁▁▁▁▁▁▁▁▁▁▁▁▁▁▁▁▁▁▁▁▁▁▁▁▁▁▁▁▁▁▁▁▂▁▁▁</td></tr><tr><td>step</td><td>▁▁▁▁▂▂▂▂▂▃▃▃▃▃▃▄▄▄▄▄▅▅▅▅▅▅▆▆▆▆▆▇▇▇▇▇████</td></tr><tr><td>test/accuracy</td><td>▁▁▁▁▁▁▁▁▁▁▁▁▁▂▃▅████████████████████████</td></tr><tr><td>test/loss</td><td>▃▄▇▇▇▇█▆█▆█▇▅▄▃▂▁▁▁▁▁▁▁▁▁▁▁▁▁▁▁▁▁▁▁▁▁▁▁▁</td></tr><tr><td>train/accuracy</td><td>▁▃██████▇███████████████████████████████</td></tr><tr><td>train/loss</td><td>█▆▁▁▁▁▁▁▁▁▁▁▁▁▁▁▁▁▁▁▁▁▁▁▁▁▁▁▁▁▁▁▁▁▁▁▁▁▁▁</td></tr></table><br/></div><div class=\"wandb-col\"><h3>Run summary:</h3><br/><table class=\"wandb\"><tr><td>batch/loss</td><td>6e-05</td></tr><tr><td>step</td><td>25019</td></tr><tr><td>test/accuracy</td><td>1.0</td></tr><tr><td>test/loss</td><td>0.0</td></tr><tr><td>train/accuracy</td><td>1.0</td></tr><tr><td>train/loss</td><td>0.0</td></tr></table><br/></div></div>"
      ],
      "text/plain": [
       "<IPython.core.display.HTML object>"
      ]
     },
     "metadata": {},
     "output_type": "display_data"
    },
    {
     "data": {
      "text/html": [
       " View run <strong style=\"color:#cdcd00\">robust-wildflower-19</strong> at: <a href='https://wandb.ai/devinterp/grokking/runs/61b6n8u7' target=\"_blank\">https://wandb.ai/devinterp/grokking/runs/61b6n8u7</a><br/>Synced 5 W&B file(s), 0 media file(s), 0 artifact file(s) and 0 other file(s)"
      ],
      "text/plain": [
       "<IPython.core.display.HTML object>"
      ]
     },
     "metadata": {},
     "output_type": "display_data"
    },
    {
     "data": {
      "text/html": [
       "Find logs at: <code>./wandb/run-20230926_134736-61b6n8u7/logs</code>"
      ],
      "text/plain": [
       "<IPython.core.display.HTML object>"
      ]
     },
     "metadata": {},
     "output_type": "display_data"
    },
    {
     "data": {
      "text/html": [
       "<div>\n",
       "<style scoped>\n",
       "    .dataframe tbody tr th:only-of-type {\n",
       "        vertical-align: middle;\n",
       "    }\n",
       "\n",
       "    .dataframe tbody tr th {\n",
       "        vertical-align: top;\n",
       "    }\n",
       "\n",
       "    .dataframe thead th {\n",
       "        text-align: right;\n",
       "    }\n",
       "</style>\n",
       "<table border=\"1\" class=\"dataframe\">\n",
       "  <thead>\n",
       "    <tr style=\"text-align: right;\">\n",
       "      <th></th>\n",
       "      <th>step</th>\n",
       "      <th>train/loss</th>\n",
       "      <th>train/accuracy</th>\n",
       "      <th>test/loss</th>\n",
       "      <th>test/accuracy</th>\n",
       "    </tr>\n",
       "  </thead>\n",
       "  <tbody>\n",
       "    <tr>\n",
       "      <th>0</th>\n",
       "      <td>0</td>\n",
       "      <td>4.794228e+00</td>\n",
       "      <td>0.013119</td>\n",
       "      <td>4.799182e+00</td>\n",
       "      <td>0.015009</td>\n",
       "    </tr>\n",
       "    <tr>\n",
       "      <th>1</th>\n",
       "      <td>1</td>\n",
       "      <td>4.775462e+00</td>\n",
       "      <td>0.021539</td>\n",
       "      <td>4.789886e+00</td>\n",
       "      <td>0.025189</td>\n",
       "    </tr>\n",
       "    <tr>\n",
       "      <th>2</th>\n",
       "      <td>252</td>\n",
       "      <td>3.097716e+00</td>\n",
       "      <td>0.261798</td>\n",
       "      <td>6.459522e+00</td>\n",
       "      <td>0.018794</td>\n",
       "    </tr>\n",
       "    <tr>\n",
       "      <th>3</th>\n",
       "      <td>505</td>\n",
       "      <td>5.213807e-01</td>\n",
       "      <td>0.907578</td>\n",
       "      <td>1.085587e+01</td>\n",
       "      <td>0.020230</td>\n",
       "    </tr>\n",
       "    <tr>\n",
       "      <th>4</th>\n",
       "      <td>757</td>\n",
       "      <td>8.076529e-02</td>\n",
       "      <td>0.993538</td>\n",
       "      <td>1.433043e+01</td>\n",
       "      <td>0.020752</td>\n",
       "    </tr>\n",
       "    <tr>\n",
       "      <th>...</th>\n",
       "      <td>...</td>\n",
       "      <td>...</td>\n",
       "      <td>...</td>\n",
       "      <td>...</td>\n",
       "      <td>...</td>\n",
       "    </tr>\n",
       "    <tr>\n",
       "      <th>97</th>\n",
       "      <td>24242</td>\n",
       "      <td>2.155425e-04</td>\n",
       "      <td>1.000000</td>\n",
       "      <td>3.700577e-04</td>\n",
       "      <td>1.000000</td>\n",
       "    </tr>\n",
       "    <tr>\n",
       "      <th>98</th>\n",
       "      <td>24494</td>\n",
       "      <td>7.015024e-05</td>\n",
       "      <td>1.000000</td>\n",
       "      <td>1.082348e-04</td>\n",
       "      <td>1.000000</td>\n",
       "    </tr>\n",
       "    <tr>\n",
       "      <th>99</th>\n",
       "      <td>24747</td>\n",
       "      <td>4.866764e-06</td>\n",
       "      <td>1.000000</td>\n",
       "      <td>8.068125e-06</td>\n",
       "      <td>1.000000</td>\n",
       "    </tr>\n",
       "    <tr>\n",
       "      <th>100</th>\n",
       "      <td>25000</td>\n",
       "      <td>2.830024e-07</td>\n",
       "      <td>1.000000</td>\n",
       "      <td>6.746472e-07</td>\n",
       "      <td>1.000000</td>\n",
       "    </tr>\n",
       "    <tr>\n",
       "      <th>101</th>\n",
       "      <td>25019</td>\n",
       "      <td>2.245765e-07</td>\n",
       "      <td>1.000000</td>\n",
       "      <td>5.864389e-07</td>\n",
       "      <td>1.000000</td>\n",
       "    </tr>\n",
       "  </tbody>\n",
       "</table>\n",
       "<p>102 rows × 5 columns</p>\n",
       "</div>"
      ],
      "text/plain": [
       "      step    train/loss  train/accuracy     test/loss  test/accuracy\n",
       "0        0  4.794228e+00        0.013119  4.799182e+00       0.015009\n",
       "1        1  4.775462e+00        0.021539  4.789886e+00       0.025189\n",
       "2      252  3.097716e+00        0.261798  6.459522e+00       0.018794\n",
       "3      505  5.213807e-01        0.907578  1.085587e+01       0.020230\n",
       "4      757  8.076529e-02        0.993538  1.433043e+01       0.020752\n",
       "..     ...           ...             ...           ...            ...\n",
       "97   24242  2.155425e-04        1.000000  3.700577e-04       1.000000\n",
       "98   24494  7.015024e-05        1.000000  1.082348e-04       1.000000\n",
       "99   24747  4.866764e-06        1.000000  8.068125e-06       1.000000\n",
       "100  25000  2.830024e-07        1.000000  6.746472e-07       1.000000\n",
       "101  25019  2.245765e-07        1.000000  5.864389e-07       1.000000\n",
       "\n",
       "[102 rows x 5 columns]"
      ]
     },
     "execution_count": 5,
     "metadata": {},
     "output_type": "execute_result"
    }
   ],
   "source": [
    "train(learner, True)"
   ]
  },
  {
   "cell_type": "code",
   "execution_count": 50,
   "metadata": {},
   "outputs": [],
   "source": [
    "def make_rlct_evals(trainset: ModularArithmetic, num_draws=20, num_chains=5, num_cores=NUM_CORES, lr=1e-7, noise_level=1., weight_decay=3e-7, elasticity=1., repeats=5, pbar=False):\n",
    "    trainloader = torch.utils.data.DataLoader(trainset, batch_size=1024, shuffle=True)\n",
    "    optimizer_kwargs = dict(\n",
    "        lr=lr, noise_level=noise_level, weight_decay=weight_decay, elasticity=elasticity, temperature=\"adaptive\", num_samples=len(trainset)\n",
    "    )\n",
    "\n",
    "    def eval_rlct(model: nn.Module):\n",
    "        return estimate_rlct(\n",
    "            model, \n",
    "            trainloader, \n",
    "            cross_entropy_last_token, \n",
    "            SGLD, \n",
    "            optimizer_kwargs, \n",
    "            num_draws=num_draws, \n",
    "            num_chains=num_chains, \n",
    "            num_burnin_steps=0, \n",
    "            num_steps_bw_draws=1, \n",
    "            cores=num_cores, \n",
    "            pbar=pbar,\n",
    "        )\n",
    "\n",
    "    def eval_rlct_repeated(model):\n",
    "        results = {\n",
    "            f\"rlct/{i}\": eval_rlct(model).item() for i in range(repeats)\n",
    "        }\n",
    "        rlcts = list(results.values())\n",
    "        results[\"rlct/mean\"] = np.mean(rlcts).item()\n",
    "        results[\"rlct/std\"] = np.std(rlcts).item()\n",
    "\n",
    "        return results\n",
    "    \n",
    "    return eval_rlct_repeated\n",
    "\n",
    "\n",
    "def eval_rlcts_at_step(learner: Learner, step: int, num_draws=20, num_chains=5, num_cores=NUM_CORES, lr=1e-7, noise_level=1., weight_decay=3e-7, elasticity=1., repeats=5):\n",
    "    evals = []\n",
    "    eval_rlcts = make_rlct_evals(learner.dataset, num_draws=num_draws, num_chains=num_chains, num_cores=num_cores, lr=lr, noise_level=noise_level, weight_decay=weight_decay, elasticity=elasticity, repeats=repeats)\n",
    "\n",
    "    checkpoint = torch.load(CHECKPOINTS_PATH / f\"{step}.pt\")\n",
    "    learner.model.load_state_dict(checkpoint)\n",
    "    evals.append(eval_rlcts(learner.model))\n",
    "\n",
    "    return pd.DataFrame(evals)\n",
    "\n",
    "\n",
    "def eval_rlcts_over_time(learner: Learner, steps: List[int], num_draws=20, num_chains=5, num_cores=NUM_CORES, lr=1e-7, noise_level=1., weight_decay=3e-7, elasticity=1., repeats=5):\n",
    "    evals = []\n",
    "    eval_rlcts = make_rlct_evals(learner.dataset, num_draws=num_draws, num_chains=num_chains, num_cores=num_cores, lr=lr, noise_level=noise_level, weight_decay=weight_decay, elasticity=elasticity, repeats=repeats)\n",
    "\n",
    "    for step in steps:\n",
    "        checkpoint = torch.load(CHECKPOINTS_PATH / f\"{step}.pt\")\n",
    "        learner.model.load_state_dict(checkpoint)\n",
    "        evals.append(eval_rlcts(learner.model))\n",
    "\n",
    "    return pd.DataFrame(evals)"
   ]
  },
  {
   "cell_type": "markdown",
   "metadata": {},
   "source": [
    "## RLCT estimation hyperparameter tuning"
   ]
  },
  {
   "cell_type": "code",
   "execution_count": 53,
   "metadata": {},
   "outputs": [
    {
     "ename": "TypeError",
     "evalue": "estimate_rlct() got multiple values for argument 'criterion'",
     "output_type": "error",
     "traceback": [
      "\u001b[0;31m---------------------------------------------------------------------------\u001b[0m",
      "\u001b[0;31mTypeError\u001b[0m                                 Traceback (most recent call last)",
      "Cell \u001b[0;32mIn[53], line 33\u001b[0m\n\u001b[1;32m     28\u001b[0m         \u001b[39mprint\u001b[39m(yaml\u001b[39m.\u001b[39mdump(results[\u001b[39m-\u001b[39m\u001b[39m1\u001b[39m]))\n\u001b[1;32m     30\u001b[0m     \u001b[39mreturn\u001b[39;00m pd\u001b[39m.\u001b[39mDataFrame(results)\n\u001b[0;32m---> 33\u001b[0m grid_search \u001b[39m=\u001b[39m rlct_hyperparam_grid_search(learner\u001b[39m.\u001b[39;49mmodel, dataset\u001b[39m=\u001b[39;49mlearner\u001b[39m.\u001b[39;49mdataset, lr\u001b[39m=\u001b[39;49m[\u001b[39m1e-7\u001b[39;49m, \u001b[39m1e-6\u001b[39;49m, \u001b[39m1e-5\u001b[39;49m], num_draws\u001b[39m=\u001b[39;49m[\u001b[39m10\u001b[39;49m, \u001b[39m30\u001b[39;49m, \u001b[39m100\u001b[39;49m, \u001b[39m300\u001b[39;49m, \u001b[39m1000\u001b[39;49m], noise_level\u001b[39m=\u001b[39;49m[\u001b[39m0.1\u001b[39;49m, \u001b[39m0.3\u001b[39;49m, \u001b[39m1.\u001b[39;49m], num_chains\u001b[39m=\u001b[39;49m\u001b[39m1\u001b[39;49m, repeats\u001b[39m=\u001b[39;49m\u001b[39m5\u001b[39;49m, elasticity\u001b[39m=\u001b[39;49m[\u001b[39m10.\u001b[39;49m, \u001b[39m100.\u001b[39;49m, \u001b[39m1000.\u001b[39;49m])\n",
      "Cell \u001b[0;32mIn[53], line 26\u001b[0m, in \u001b[0;36mrlct_hyperparam_grid_search\u001b[0;34m(model, dataset, **hyperparams)\u001b[0m\n\u001b[1;32m     23\u001b[0m \u001b[39mdef\u001b[39;00m \u001b[39mrlct_hyperparam_grid_search\u001b[39m(model, dataset, \u001b[39m*\u001b[39m\u001b[39m*\u001b[39mhyperparams):\n\u001b[1;32m     24\u001b[0m     results \u001b[39m=\u001b[39m []\n\u001b[0;32m---> 26\u001b[0m     \u001b[39mfor\u001b[39;00m _hyperparams, evals \u001b[39min\u001b[39;00m generate_rlct_hyperparam_grid_search(model, dataset, \u001b[39m*\u001b[39m\u001b[39m*\u001b[39mhyperparams):\n\u001b[1;32m     27\u001b[0m         results\u001b[39m.\u001b[39mappend({\u001b[39m*\u001b[39m\u001b[39m*\u001b[39m_hyperparams, \u001b[39m*\u001b[39m\u001b[39m*\u001b[39mevals})\n\u001b[1;32m     28\u001b[0m         \u001b[39mprint\u001b[39m(yaml\u001b[39m.\u001b[39mdump(results[\u001b[39m-\u001b[39m\u001b[39m1\u001b[39m]))\n",
      "Cell \u001b[0;32mIn[53], line 19\u001b[0m, in \u001b[0;36mgenerate_rlct_hyperparam_grid_search\u001b[0;34m(model, dataset, **hyperparams)\u001b[0m\n\u001b[1;32m     16\u001b[0m grid \u001b[39m=\u001b[39m unroll_grid(\u001b[39m*\u001b[39m\u001b[39m*\u001b[39mhyperparams)\n\u001b[1;32m     18\u001b[0m \u001b[39mfor\u001b[39;00m _hyperparams \u001b[39min\u001b[39;00m grid:\n\u001b[0;32m---> 19\u001b[0m     evals \u001b[39m=\u001b[39m make_rlct_evals(dataset, pbar\u001b[39m=\u001b[39;49m\u001b[39mTrue\u001b[39;49;00m, \u001b[39m*\u001b[39;49m\u001b[39m*\u001b[39;49m_hyperparams)(model)\n\u001b[1;32m     20\u001b[0m     \u001b[39myield\u001b[39;00m _hyperparams, evals\n",
      "Cell \u001b[0;32mIn[50], line 24\u001b[0m, in \u001b[0;36mmake_rlct_evals.<locals>.eval_rlct_repeated\u001b[0;34m(model)\u001b[0m\n\u001b[1;32m     23\u001b[0m \u001b[39mdef\u001b[39;00m \u001b[39meval_rlct_repeated\u001b[39m(model):\n\u001b[0;32m---> 24\u001b[0m     results \u001b[39m=\u001b[39m {\n\u001b[1;32m     25\u001b[0m         \u001b[39mf\u001b[39m\u001b[39m\"\u001b[39m\u001b[39mrlct/\u001b[39m\u001b[39m{\u001b[39;00mi\u001b[39m}\u001b[39;00m\u001b[39m\"\u001b[39m: eval_rlct(model)\u001b[39m.\u001b[39mitem() \u001b[39mfor\u001b[39;00m i \u001b[39min\u001b[39;00m \u001b[39mrange\u001b[39m(repeats)\n\u001b[1;32m     26\u001b[0m     }\n\u001b[1;32m     27\u001b[0m     rlcts \u001b[39m=\u001b[39m \u001b[39mlist\u001b[39m(results\u001b[39m.\u001b[39mvalues())\n\u001b[1;32m     28\u001b[0m     results[\u001b[39m\"\u001b[39m\u001b[39mrlct/mean\u001b[39m\u001b[39m\"\u001b[39m] \u001b[39m=\u001b[39m np\u001b[39m.\u001b[39mmean(rlcts)\u001b[39m.\u001b[39mitem()\n",
      "Cell \u001b[0;32mIn[50], line 25\u001b[0m, in \u001b[0;36m<dictcomp>\u001b[0;34m(.0)\u001b[0m\n\u001b[1;32m     23\u001b[0m \u001b[39mdef\u001b[39;00m \u001b[39meval_rlct_repeated\u001b[39m(model):\n\u001b[1;32m     24\u001b[0m     results \u001b[39m=\u001b[39m {\n\u001b[0;32m---> 25\u001b[0m         \u001b[39mf\u001b[39m\u001b[39m\"\u001b[39m\u001b[39mrlct/\u001b[39m\u001b[39m{\u001b[39;00mi\u001b[39m}\u001b[39;00m\u001b[39m\"\u001b[39m: eval_rlct(model)\u001b[39m.\u001b[39mitem() \u001b[39mfor\u001b[39;00m i \u001b[39min\u001b[39;00m \u001b[39mrange\u001b[39m(repeats)\n\u001b[1;32m     26\u001b[0m     }\n\u001b[1;32m     27\u001b[0m     rlcts \u001b[39m=\u001b[39m \u001b[39mlist\u001b[39m(results\u001b[39m.\u001b[39mvalues())\n\u001b[1;32m     28\u001b[0m     results[\u001b[39m\"\u001b[39m\u001b[39mrlct/mean\u001b[39m\u001b[39m\"\u001b[39m] \u001b[39m=\u001b[39m np\u001b[39m.\u001b[39mmean(rlcts)\u001b[39m.\u001b[39mitem()\n",
      "Cell \u001b[0;32mIn[50], line 8\u001b[0m, in \u001b[0;36mmake_rlct_evals.<locals>.eval_rlct\u001b[0;34m(model)\u001b[0m\n\u001b[1;32m      7\u001b[0m \u001b[39mdef\u001b[39;00m \u001b[39meval_rlct\u001b[39m(model: nn\u001b[39m.\u001b[39mModule):\n\u001b[0;32m----> 8\u001b[0m     \u001b[39mreturn\u001b[39;00m estimate_rlct(\n\u001b[1;32m      9\u001b[0m         model, \n\u001b[1;32m     10\u001b[0m         trainloader, \n\u001b[1;32m     11\u001b[0m         cross_entropy_last_token, \n\u001b[1;32m     12\u001b[0m         SGLD, \n\u001b[1;32m     13\u001b[0m         optimizer_kwargs, \n\u001b[1;32m     14\u001b[0m         num_draws\u001b[39m=\u001b[39;49mnum_draws, \n\u001b[1;32m     15\u001b[0m         num_chains\u001b[39m=\u001b[39;49mnum_chains, \n\u001b[1;32m     16\u001b[0m         num_burnin_steps\u001b[39m=\u001b[39;49m\u001b[39m0\u001b[39;49m, \n\u001b[1;32m     17\u001b[0m         num_steps_bw_draws\u001b[39m=\u001b[39;49m\u001b[39m1\u001b[39;49m, \n\u001b[1;32m     18\u001b[0m         cores\u001b[39m=\u001b[39;49mnum_cores, \n\u001b[1;32m     19\u001b[0m         pbar\u001b[39m=\u001b[39;49mpbar,\n\u001b[1;32m     20\u001b[0m         criterion\u001b[39m=\u001b[39;49mcross_entropy_last_token        \n\u001b[1;32m     21\u001b[0m     )\n",
      "\u001b[0;31mTypeError\u001b[0m: estimate_rlct() got multiple values for argument 'criterion'"
     ]
    }
   ],
   "source": [
    "from itertools import product\n",
    "from typing import Iterable\n",
    "\n",
    "import yaml\n",
    "\n",
    "\n",
    "def unroll_grid(**hyperparams):\n",
    "    hyperparams = {k: (v if isinstance(v, list) else [v]) for k, v in hyperparams.items()}\n",
    "\n",
    "    keys, values = zip(*hyperparams.items())\n",
    "    combinations = list(product(*values))\n",
    "    return [dict(zip(keys, c)) for c in combinations]\n",
    "\n",
    "\n",
    "def generate_rlct_hyperparam_grid_search(model, dataset, **hyperparams):\n",
    "    grid = unroll_grid(**hyperparams)\n",
    "\n",
    "    for _hyperparams in grid:\n",
    "        evals = make_rlct_evals(dataset, pbar=True, **_hyperparams)(model)\n",
    "        yield _hyperparams, evals\n",
    "\n",
    "\n",
    "def rlct_hyperparam_grid_search(model, dataset, **hyperparams):\n",
    "    results = []\n",
    "\n",
    "    for _hyperparams, evals in generate_rlct_hyperparam_grid_search(model, dataset, **hyperparams):\n",
    "        results.append({**_hyperparams, **evals})\n",
    "        print(yaml.dump(results[-1]))\n",
    "\n",
    "    return pd.DataFrame(results)\n",
    "\n",
    "\n",
    "grid_search = rlct_hyperparam_grid_search(learner.model, dataset=learner.dataset, lr=[1e-7, 1e-6, 1e-5], num_draws=[10, 30, 100, 300, 1000], noise_level=[0.1, 0.3, 1.], num_chains=1, repeats=5, elasticity=[10., 100., 1000.])"
   ]
  },
  {
   "cell_type": "code",
   "execution_count": 48,
   "metadata": {},
   "outputs": [
    {
     "data": {
      "image/png": "[encoded data removed]",
      "text/plain": [
       "<Figure size 1000x600 with 1 Axes>"
      ]
     },
     "metadata": {},
     "output_type": "display_data"
    }
   ],
   "source": [
    "import matplotlib.pyplot as plt\n",
    "\n",
    "def plot_rlct_grid(df, col_axis: str, row_axis: str, label_axis: str, x_axis: str, title: str, logscale: bool = True, inset=False, figsize=(10, 6)):\n",
    "    cols = df[col_axis].unique()\n",
    "    rows = df[row_axis].unique()\n",
    "    labels = df[label_axis].unique()\n",
    "    xs = df[x_axis].unique()\n",
    "\n",
    "    # Define the colors for each w value\n",
    "    colors = [PRIMARY, SECONDARY, TERTIARY]\n",
    "\n",
    "    # Create a figure with 3 subplots (one for each gamma)\n",
    "    fig, axes = plt.subplots(len(rows), len(cols), figsize=figsize)\n",
    "\n",
    "    if len(rows) == 1 and len(cols) == 1:\n",
    "        axes = np.array([[axes]])\n",
    "    elif len(rows) == 1: \n",
    "        axes = axes.reshape(1, -1)\n",
    "    elif len(cols) == 1:\n",
    "        axes = axes.reshape(-1, 1)\n",
    "\n",
    "    fig.suptitle(title)\n",
    "    fig.tight_layout()\n",
    "\n",
    "    # Iterate through the unique gammas\n",
    "    for i, col in enumerate(cols):\n",
    "        for j, row in enumerate(rows):\n",
    "            axes[j, 0].set_ylabel(f\"{row_axis}={row}\")\n",
    "            axes[0, i].set_title(f\"{col_axis}={col}\")\n",
    "            axes[-1, i].set_xlabel(x_axis)\n",
    "\n",
    "            ax = axes[j, i]\n",
    "\n",
    "            for k, label in enumerate(labels):\n",
    "                data = df[(df[col_axis] == col) & (df[label_axis] == label) & (df[row_axis] == row)]\n",
    "                color = colors[k]\n",
    "                \n",
    "                rlct_mean = data[\"rlct/mean\"]\n",
    "                rlct_std = data[\"rlct/std\"]\n",
    "\n",
    "                # Plot the training error against the number of steps\n",
    "                ax.plot(data[x_axis], rlct_mean, color=color, label=f'{label_axis}={label}')\n",
    "                ax.fill_between(xs, rlct_mean-rlct_std, rlct_mean+rlct_std, alpha=0.3)\n",
    "\n",
    "            if logscale:\n",
    "                ax.set_yscale('log')\n",
    "                # ax_inset.set_xscale('log')\n",
    "                # ax.set_xscale('log')\n",
    "\n",
    "            ax.set_title(f'{col_axis}={col}')\n",
    "            ax.legend(loc='lower left') \n",
    "\n",
    "    plt.show()\n",
    "\n",
    "plot_rlct_grid(grid_search, col_axis=\"lr\", row_axis=\"num_chains\", x_axis=\"num_draws\", label_axis=\"elasticity\", title=\"Lambda hats\")"
   ]
  },
  {
   "cell_type": "code",
   "execution_count": null,
   "metadata": {},
   "outputs": [],
   "source": [
    "checkpoint_steps = list(map(lambda filename: int(str(filename).split(\"/\")[-1].split(\".\")[0]), CHECKPOINTS_PATH.glob(\"*.pt\")))\n",
    "print(checkpoint_steps)\n"
   ]
  }
 ],
 "metadata": {
  "kernelspec": {
   "display_name": ".venv",
   "language": "python",
   "name": "python3"
  },
  "language_info": {
   "codemirror_mode": {
    "name": "ipython",
    "version": 3
   },
   "file_extension": ".py",
   "mimetype": "text/x-python",
   "name": "python",
   "nbconvert_exporter": "python",
   "pygments_lexer": "ipython3",
   "version": "3.9.15"
  },
  "orig_nbformat": 4
 },
 "nbformat": 4,
 "nbformat_minor": 2
}
