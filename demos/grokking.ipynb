{
 "cells": [
  {
   "cell_type": "markdown",
   "metadata": {},
   "source": [
    "# Grokking"
   ]
  },
  {
   "cell_type": "code",
   "execution_count": 1,
   "metadata": {},
   "outputs": [
    {
     "data": {
      "text/plain": [
       "(device(type='mps'), 1, 'grokking', 'devinterp', True)"
      ]
     },
     "execution_count": 1,
     "metadata": {},
     "output_type": "execute_result"
    }
   ],
   "source": [
    "import os\n",
    "from typing import Callable, Dict, List, Literal, Optional, Union, Any, Type, Tuple \n",
    "import logging\n",
    "from dataclasses import dataclass\n",
    "from pathlib import Path\n",
    "import time\n",
    "\n",
    "from tqdm import tqdm\n",
    "import pandas as pd\n",
    "import numpy as np\n",
    "import matplotlib.pyplot as plt\n",
    "import seaborn as sns\n",
    "from pydantic import BaseModel\n",
    "import wandb\n",
    "\n",
    "import torch\n",
    "from torch import nn\n",
    "from torch import optim\n",
    "from torch.multiprocessing import Pool, cpu_count\n",
    "from torch.nn import functional as F\n",
    "from torch.utils.data import DataLoader\n",
    "\n",
    "from devinterp.slt.sampler import estimate_rlct\n",
    "from devinterp.zoo.arithmetic import ModularArithmeticConfig, ModularArithmetic, OperatorLiteral\n",
    "from devinterp.zoo.transformer import TransformerConfig, Transformer\n",
    "from devinterp.slt.sampler import estimate_rlct\n",
    "from devinterp.optim.sgld import SGLD\n",
    "\n",
    "logging.basicConfig(level=logging.INFO)\n",
    "\n",
    "sns.set_palette(\"deep\")\n",
    "sns.set_style(\"whitegrid\")\n",
    "\n",
    "CHECKPOINTS_PATH = Path(\"checkpoints/grokking\")\n",
    "\n",
    "if not os.path.exists(CHECKPOINTS_PATH):\n",
    "    os.makedirs(CHECKPOINTS_PATH)\n",
    "\n",
    "PRIMARY, SECONDARY, TERTIARY = sns.color_palette(\"deep\")[:3]\n",
    "PRIMARY_LIGHT, SECONDARY_LIGHT, TERTIARY_LIGHT = sns.color_palette(\"muted\")[:3]\n",
    "\n",
    "DEVICE = os.environ.get(\"DEVICE\", \"cuda:0\" if torch.cuda.is_available() else \"mps\" if torch.backends.mps.is_available() else \"cpu\")\n",
    "DEVICE = torch.device(DEVICE)\n",
    "NUM_CORES = int(os.environ.get(\"NUM_CORES\", 1))\n",
    "\n",
    "# wandb\n",
    "PROJECT = os.environ.get(\"PROJECT\", \"grokking\")\n",
    "ENTITY = os.environ.get(\"ENTITY\", \"devinterp\")\n",
    "# ENTITY = None\n",
    "USE_WANDB = bool(PROJECT and ENTITY)\n",
    "\n",
    "DEVICE, NUM_CORES, PROJECT, ENTITY, USE_WANDB"
   ]
  },
  {
   "cell_type": "code",
   "execution_count": 2,
   "metadata": {},
   "outputs": [],
   "source": [
    "# Evals\n",
    "\n",
    "def cross_entropy_last_token(outputs, targets, reduction = \"sum\"):\n",
    "    \"\"\"\n",
    "    Wrapper around cross entropy loss because we only care about the last number predicted.\n",
    "    \"\"\"\n",
    "    # Only look at predictions of last numbers\n",
    "    outputs = outputs[:, -1]\n",
    "\n",
    "    # Compute individual and summed losses for final number\n",
    "    logprobs = F.log_softmax(outputs.to(torch.float32), dim=-1)\n",
    "    prediction_logprobs = torch.gather(logprobs, index=targets.unsqueeze(1), dim=-1)\n",
    "\n",
    "    if reduction == \"mean\":\n",
    "        loss = -torch.mean(prediction_logprobs)\n",
    "    elif reduction == \"sum\":\n",
    "        loss = -torch.sum(prediction_logprobs)\n",
    "    else:\n",
    "        raise ValueError(\"Invalid reduction argument.\")\n",
    "\n",
    "    return loss\n",
    "\n",
    "\n",
    "def make_evals(trainset: ModularArithmetic, testset: ModularArithmetic, device: str):\n",
    "    trainloader = torch.utils.data.DataLoader(trainset, batch_size=1024, shuffle=True)\n",
    "    testloader = torch.utils.data.DataLoader(testset, batch_size=1024, shuffle=False)\n",
    "\n",
    "    def eval_loss_and_acc(model: nn.Module) -> Dict[str, float]:\n",
    "        model.eval()\n",
    "\n",
    "        results = {}\n",
    "\n",
    "        for name, loader in zip([\"train\", \"test\"], [trainloader, testloader]):\n",
    "            total = 0\n",
    "            correct = 0\n",
    "\n",
    "            for x, y in loader:\n",
    "                x = x.to(device)\n",
    "                y = y.to(device)\n",
    "\n",
    "                with torch.no_grad():\n",
    "                    y_hat = model(x)\n",
    "\n",
    "                total += cross_entropy_last_token(y_hat, y, reduction=\"sum\").item()\n",
    "                correct += (y_hat[:, -1, :].max(dim=1).indices == y).sum().item()  # argmax doesn't work for device=mps\n",
    "\n",
    "            results[f\"{name}/loss\"] = total / len(loader.dataset)\n",
    "            results[f\"{name}/accuracy\"] = correct / len(loader.dataset)\n",
    "\n",
    "        return results\n",
    "\n",
    "    return eval_loss_and_acc"
   ]
  },
  {
   "cell_type": "code",
   "execution_count": 3,
   "metadata": {},
   "outputs": [],
   "source": [
    "@dataclass\n",
    "class Learner:\n",
    "    config: 'GrokkingConfig'\n",
    "    model: nn.Module\n",
    "    dataset: torch.utils.data.Dataset\n",
    "    loader: torch.utils.data.DataLoader\n",
    "    optimizer: torch.optim.Optimizer\n",
    "    evals: Callable[[nn.Module], Dict[str, float]]\n",
    "\n",
    "class GrokkingConfig(BaseModel):\n",
    "    data: ModularArithmeticConfig\n",
    "    model: TransformerConfig\n",
    "    noise_level: float = 1.\n",
    "    batch_size: int = 256\n",
    "    num_steps: int = 25_000\n",
    "    device: str = \"cpu\"\n",
    "    lr: float = 1e-3\n",
    "    betas: Tuple[float, float] = (0.9, 0.99)\n",
    "    weight_decay: float = 1e-3\n",
    "\n",
    "    class Config:\n",
    "        arbitrary_types_allowed=True\n",
    "\n",
    "    @property\n",
    "    def num_training_examples(self):\n",
    "        return int((self.data.modulus ** 2) * self.data.split)\n",
    "    \n",
    "    def create_model(self):\n",
    "        return self.model.factory()\n",
    "        \n",
    "    def create_data(self):\n",
    "        return self.data.factory_split()\n",
    "\n",
    "    def create_learner(self):\n",
    "        model = self.create_model()\n",
    "        trainset, testset = self.create_data()\n",
    "        trainloader = torch.utils.data.DataLoader(trainset, batch_size=self.batch_size, shuffle=True)\n",
    "        evals = make_evals(trainset, testset, self.device)\n",
    "        optimizer=optim.AdamW(\n",
    "            model.parameters(),\n",
    "            lr=self.lr,\n",
    "            betas=self.betas,\n",
    "            weight_decay=self.weight_decay,\n",
    "        )\n",
    "\n",
    "        learner = Learner(self, model, trainset, trainloader, optimizer, evals)\n",
    "        return learner\n",
    "\n",
    "MODULUS = 113\n",
    "\n",
    "learner_config = GrokkingConfig(\n",
    "    data=ModularArithmeticConfig(\n",
    "        operator=\"/\",\n",
    "        modulus=MODULUS,\n",
    "        seed=0,\n",
    "        split=0.4\n",
    "    ),\n",
    "    model=TransformerConfig(\n",
    "        d_vocab = MODULUS + 1,\n",
    "        d_model=128,\n",
    "        num_layers=2,\n",
    "    ),\n",
    "    lr = 1e-3,\n",
    "    weight_decay = 0.2,\n",
    "    betas = (0.9, 0.98),\n",
    "    device=str(DEVICE),\n",
    ")\n",
    "learner = learner_config.create_learner()"
   ]
  },
  {
   "cell_type": "code",
   "execution_count": 4,
   "metadata": {},
   "outputs": [],
   "source": [
    "def throttle(seconds):\n",
    "    def decorator(func):\n",
    "        last_called = 0\n",
    "\n",
    "        def wrapper(*args, **kwargs):\n",
    "            nonlocal last_called\n",
    "            elapsed = time.monotonic() - last_called\n",
    "            last_called = time.monotonic()\n",
    "\n",
    "            if elapsed < seconds:\n",
    "                return func(*args, **kwargs)\n",
    "\n",
    "        return wrapper\n",
    "\n",
    "    return decorator\n",
    "\n",
    "def train(learner, use_wandb=USE_WANDB, num_log_ivl_steps=100, num_lin_ivl_steps=100):\n",
    "    learner.model.to(learner.config.device)\n",
    "    learner.model.train()\n",
    "\n",
    "    evals = []\n",
    "\n",
    "    if use_wandb:\n",
    "        wandb.init(project=PROJECT, entity=ENTITY)\n",
    "\n",
    "    num_steps = learner.config.num_steps\n",
    "    logging_steps = set(np.linspace(0, num_steps, num_lin_ivl_steps).astype(int)) | set(np.logspace(0, num_steps, num_log_ivl_steps).astype(int))\n",
    "\n",
    "    def log(step):\n",
    "        learner.model.eval()\n",
    "        evals.append({\"step\": step, **learner.evals(learner.model)})\n",
    "        # print(yaml.dump(evals[-1]))\n",
    "        if use_wandb:\n",
    "            wandb.log(evals[-1], step=step)\n",
    "\n",
    "        learner.model.train()\n",
    "\n",
    "    @throttle(1)\n",
    "    def log_batch_loss(loss, step):\n",
    "        wandb.log({\"batch/loss\": loss.item()}, step=step)\n",
    "\n",
    "    def save_checkpoint(step):\n",
    "        torch.save(learner.model.state_dict(), CHECKPOINTS_PATH / f\"{step}.pt\")\n",
    "\n",
    "    step = -1\n",
    "    epoch = -1\n",
    "\n",
    "    pbar = tqdm(\n",
    "        total=learner.config.num_steps,\n",
    "        desc=f\"Training...\",\n",
    "    )\n",
    "\n",
    "    while step < learner.config.num_steps:\n",
    "        torch.manual_seed(step)\n",
    "        epoch += 1\n",
    "\n",
    "        for x, y in learner.loader:\n",
    "            step += 1\n",
    "            x, y = x.to(learner.config.device), y.to(learner.config.device)\n",
    "            learner.optimizer.zero_grad()\n",
    "            y_hat = learner.model(x)\n",
    "            loss = cross_entropy_last_token(y_hat, y)\n",
    "            loss.backward()\n",
    "            learner.optimizer.step()\n",
    "\n",
    "            if use_wandb:\n",
    "                log_batch_loss(loss, step)                \n",
    "\n",
    "            if step in logging_steps:\n",
    "                log(step=step)\n",
    "                save_checkpoint(step=step)\n",
    "\n",
    "            pbar.update(1)\n",
    "\n",
    "    if pbar:\n",
    "        pbar.close()\n",
    "\n",
    "    log(step=step)\n",
    "\n",
    "    if use_wandb:\n",
    "        wandb.finish()\n",
    "\n",
    "    evals_df = pd.DataFrame(evals)\n",
    "    evals_df.sort_values(\"step\", inplace=True)\n",
    "    \n",
    "    return evals_df"
   ]
  },
  {
   "cell_type": "code",
   "execution_count": 5,
   "metadata": {},
   "outputs": [
    {
     "name": "stderr",
     "output_type": "stream",
     "text": [
      "ERROR:wandb.jupyter:Failed to detect the name of this notebook, you can set it manually with the WANDB_NOTEBOOK_NAME environment variable to enable code saving.\n",
      "\u001b[34m\u001b[1mwandb\u001b[0m: Currently logged in as: \u001b[33mjqhoogland\u001b[0m (\u001b[33mdevinterp\u001b[0m). Use \u001b[1m`wandb login --relogin`\u001b[0m to force relogin\n"
     ]
    },
    {
     "data": {
      "application/vnd.jupyter.widget-view+json": {
       "model_id": "b501d1b320d44385a3772797c53ea7c5",
       "version_major": 2,
       "version_minor": 0
      },
      "text/plain": [
       "VBox(children=(Label(value='Waiting for wandb.init()...\\r'), FloatProgress(value=0.01674590276666666, max=1.0)…"
      ]
     },
     "metadata": {},
     "output_type": "display_data"
    },
    {
     "data": {
      "text/html": [
       "wandb version 0.15.11 is available!  To upgrade, please run:\n",
       " $ pip install wandb --upgrade"
      ],
      "text/plain": [
       "<IPython.core.display.HTML object>"
      ]
     },
     "metadata": {},
     "output_type": "display_data"
    },
    {
     "data": {
      "text/html": [
       "Tracking run with wandb version 0.15.5"
      ],
      "text/plain": [
       "<IPython.core.display.HTML object>"
      ]
     },
     "metadata": {},
     "output_type": "display_data"
    },
    {
     "data": {
      "text/html": [
       "Run data is saved locally in <code>/Users/Jesse/Projects/devinterp/demos/wandb/run-20230926_134736-61b6n8u7</code>"
      ],
      "text/plain": [
       "<IPython.core.display.HTML object>"
      ]
     },
     "metadata": {},
     "output_type": "display_data"
    },
    {
     "data": {
      "text/html": [
       "Syncing run <strong><a href='https://wandb.ai/devinterp/grokking/runs/61b6n8u7' target=\"_blank\">robust-wildflower-19</a></strong> to <a href='https://wandb.ai/devinterp/grokking' target=\"_blank\">Weights & Biases</a> (<a href='https://wandb.me/run' target=\"_blank\">docs</a>)<br/>"
      ],
      "text/plain": [
       "<IPython.core.display.HTML object>"
      ]
     },
     "metadata": {},
     "output_type": "display_data"
    },
    {
     "data": {
      "text/html": [
       " View project at <a href='https://wandb.ai/devinterp/grokking' target=\"_blank\">https://wandb.ai/devinterp/grokking</a>"
      ],
      "text/plain": [
       "<IPython.core.display.HTML object>"
      ]
     },
     "metadata": {},
     "output_type": "display_data"
    },
    {
     "data": {
      "text/html": [
       " View run at <a href='https://wandb.ai/devinterp/grokking/runs/61b6n8u7' target=\"_blank\">https://wandb.ai/devinterp/grokking/runs/61b6n8u7</a>"
      ],
      "text/plain": [
       "<IPython.core.display.HTML object>"
      ]
     },
     "metadata": {},
     "output_type": "display_data"
    },
    {
     "name": "stderr",
     "output_type": "stream",
     "text": [
      "/Users/Jesse/Projects/devinterp/.venv/lib/python3.9/site-packages/numpy/core/function_base.py:298: RuntimeWarning: overflow encountered in power\n",
      "  return _nx.power(base, y)\n",
      "/var/folders/pw/6c492xhs4299155z1pvbwt8w0000gn/T/ipykernel_36761/1344494103.py:27: RuntimeWarning: invalid value encountered in cast\n",
      "  logging_steps = set(np.linspace(0, num_steps, num_lin_ivl_steps).astype(int)) | set(np.logspace(0, num_steps, num_log_ivl_steps).astype(int))\n",
      "Training...: 25020it [13:53, 30.00it/s]                           \n"
     ]
    },
    {
     "data": {
      "text/html": [
       "Waiting for W&B process to finish... <strong style=\"color:green\">(success).</strong>"
      ],
      "text/plain": [
       "<IPython.core.display.HTML object>"
      ]
     },
     "metadata": {},
     "output_type": "display_data"
    },
    {
     "data": {
      "text/html": [
       "<style>\n",
       "    table.wandb td:nth-child(1) { padding: 0 10px; text-align: left ; width: auto;} td:nth-child(2) {text-align: left ; width: 100%}\n",
       "    .wandb-row { display: flex; flex-direction: row; flex-wrap: wrap; justify-content: flex-start; width: 100% }\n",
       "    .wandb-col { display: flex; flex-direction: column; flex-basis: 100%; flex: 1; padding: 10px; }\n",
       "    </style>\n",
       "<div class=\"wandb-row\"><div class=\"wandb-col\"><h3>Run history:</h3><br/><table class=\"wandb\"><tr><td>batch/loss</td><td>█▁▁▁▁▁▁▁▁▁▁▁▁▁▁▁▁▁▁▁▁▁▁▁▁▁▁▁▁▁▁▁▁▁▁▁▂▁▁▁</td></tr><tr><td>step</td><td>▁▁▁▁▂▂▂▂▂▃▃▃▃▃▃▄▄▄▄▄▅▅▅▅▅▅▆▆▆▆▆▇▇▇▇▇████</td></tr><tr><td>test/accuracy</td><td>▁▁▁▁▁▁▁▁▁▁▁▁▁▂▃▅████████████████████████</td></tr><tr><td>test/loss</td><td>▃▄▇▇▇▇█▆█▆█▇▅▄▃▂▁▁▁▁▁▁▁▁▁▁▁▁▁▁▁▁▁▁▁▁▁▁▁▁</td></tr><tr><td>train/accuracy</td><td>▁▃██████▇███████████████████████████████</td></tr><tr><td>train/loss</td><td>█▆▁▁▁▁▁▁▁▁▁▁▁▁▁▁▁▁▁▁▁▁▁▁▁▁▁▁▁▁▁▁▁▁▁▁▁▁▁▁</td></tr></table><br/></div><div class=\"wandb-col\"><h3>Run summary:</h3><br/><table class=\"wandb\"><tr><td>batch/loss</td><td>6e-05</td></tr><tr><td>step</td><td>25019</td></tr><tr><td>test/accuracy</td><td>1.0</td></tr><tr><td>test/loss</td><td>0.0</td></tr><tr><td>train/accuracy</td><td>1.0</td></tr><tr><td>train/loss</td><td>0.0</td></tr></table><br/></div></div>"
      ],
      "text/plain": [
       "<IPython.core.display.HTML object>"
      ]
     },
     "metadata": {},
     "output_type": "display_data"
    },
    {
     "data": {
      "text/html": [
       " View run <strong style=\"color:#cdcd00\">robust-wildflower-19</strong> at: <a href='https://wandb.ai/devinterp/grokking/runs/61b6n8u7' target=\"_blank\">https://wandb.ai/devinterp/grokking/runs/61b6n8u7</a><br/>Synced 5 W&B file(s), 0 media file(s), 0 artifact file(s) and 0 other file(s)"
      ],
      "text/plain": [
       "<IPython.core.display.HTML object>"
      ]
     },
     "metadata": {},
     "output_type": "display_data"
    },
    {
     "data": {
      "text/html": [
       "Find logs at: <code>./wandb/run-20230926_134736-61b6n8u7/logs</code>"
      ],
      "text/plain": [
       "<IPython.core.display.HTML object>"
      ]
     },
     "metadata": {},
     "output_type": "display_data"
    },
    {
     "data": {
      "text/html": [
       "<div>\n",
       "<style scoped>\n",
       "    .dataframe tbody tr th:only-of-type {\n",
       "        vertical-align: middle;\n",
       "    }\n",
       "\n",
       "    .dataframe tbody tr th {\n",
       "        vertical-align: top;\n",
       "    }\n",
       "\n",
       "    .dataframe thead th {\n",
       "        text-align: right;\n",
       "    }\n",
       "</style>\n",
       "<table border=\"1\" class=\"dataframe\">\n",
       "  <thead>\n",
       "    <tr style=\"text-align: right;\">\n",
       "      <th></th>\n",
       "      <th>step</th>\n",
       "      <th>train/loss</th>\n",
       "      <th>train/accuracy</th>\n",
       "      <th>test/loss</th>\n",
       "      <th>test/accuracy</th>\n",
       "    </tr>\n",
       "  </thead>\n",
       "  <tbody>\n",
       "    <tr>\n",
       "      <th>0</th>\n",
       "      <td>0</td>\n",
       "      <td>4.794228e+00</td>\n",
       "      <td>0.013119</td>\n",
       "      <td>4.799182e+00</td>\n",
       "      <td>0.015009</td>\n",
       "    </tr>\n",
       "    <tr>\n",
       "      <th>1</th>\n",
       "      <td>1</td>\n",
       "      <td>4.775462e+00</td>\n",
       "      <td>0.021539</td>\n",
       "      <td>4.789886e+00</td>\n",
       "      <td>0.025189</td>\n",
       "    </tr>\n",
       "    <tr>\n",
       "      <th>2</th>\n",
       "      <td>252</td>\n",
       "      <td>3.097716e+00</td>\n",
       "      <td>0.261798</td>\n",
       "      <td>6.459522e+00</td>\n",
       "      <td>0.018794</td>\n",
       "    </tr>\n",
       "    <tr>\n",
       "      <th>3</th>\n",
       "      <td>505</td>\n",
       "      <td>5.213807e-01</td>\n",
       "      <td>0.907578</td>\n",
       "      <td>1.085587e+01</td>\n",
       "      <td>0.020230</td>\n",
       "    </tr>\n",
       "    <tr>\n",
       "      <th>4</th>\n",
       "      <td>757</td>\n",
       "      <td>8.076529e-02</td>\n",
       "      <td>0.993538</td>\n",
       "      <td>1.433043e+01</td>\n",
       "      <td>0.020752</td>\n",
       "    </tr>\n",
       "    <tr>\n",
       "      <th>...</th>\n",
       "      <td>...</td>\n",
       "      <td>...</td>\n",
       "      <td>...</td>\n",
       "      <td>...</td>\n",
       "      <td>...</td>\n",
       "    </tr>\n",
       "    <tr>\n",
       "      <th>97</th>\n",
       "      <td>24242</td>\n",
       "      <td>2.155425e-04</td>\n",
       "      <td>1.000000</td>\n",
       "      <td>3.700577e-04</td>\n",
       "      <td>1.000000</td>\n",
       "    </tr>\n",
       "    <tr>\n",
       "      <th>98</th>\n",
       "      <td>24494</td>\n",
       "      <td>7.015024e-05</td>\n",
       "      <td>1.000000</td>\n",
       "      <td>1.082348e-04</td>\n",
       "      <td>1.000000</td>\n",
       "    </tr>\n",
       "    <tr>\n",
       "      <th>99</th>\n",
       "      <td>24747</td>\n",
       "      <td>4.866764e-06</td>\n",
       "      <td>1.000000</td>\n",
       "      <td>8.068125e-06</td>\n",
       "      <td>1.000000</td>\n",
       "    </tr>\n",
       "    <tr>\n",
       "      <th>100</th>\n",
       "      <td>25000</td>\n",
       "      <td>2.830024e-07</td>\n",
       "      <td>1.000000</td>\n",
       "      <td>6.746472e-07</td>\n",
       "      <td>1.000000</td>\n",
       "    </tr>\n",
       "    <tr>\n",
       "      <th>101</th>\n",
       "      <td>25019</td>\n",
       "      <td>2.245765e-07</td>\n",
       "      <td>1.000000</td>\n",
       "      <td>5.864389e-07</td>\n",
       "      <td>1.000000</td>\n",
       "    </tr>\n",
       "  </tbody>\n",
       "</table>\n",
       "<p>102 rows × 5 columns</p>\n",
       "</div>"
      ],
      "text/plain": [
       "      step    train/loss  train/accuracy     test/loss  test/accuracy\n",
       "0        0  4.794228e+00        0.013119  4.799182e+00       0.015009\n",
       "1        1  4.775462e+00        0.021539  4.789886e+00       0.025189\n",
       "2      252  3.097716e+00        0.261798  6.459522e+00       0.018794\n",
       "3      505  5.213807e-01        0.907578  1.085587e+01       0.020230\n",
       "4      757  8.076529e-02        0.993538  1.433043e+01       0.020752\n",
       "..     ...           ...             ...           ...            ...\n",
       "97   24242  2.155425e-04        1.000000  3.700577e-04       1.000000\n",
       "98   24494  7.015024e-05        1.000000  1.082348e-04       1.000000\n",
       "99   24747  4.866764e-06        1.000000  8.068125e-06       1.000000\n",
       "100  25000  2.830024e-07        1.000000  6.746472e-07       1.000000\n",
       "101  25019  2.245765e-07        1.000000  5.864389e-07       1.000000\n",
       "\n",
       "[102 rows x 5 columns]"
      ]
     },
     "execution_count": 5,
     "metadata": {},
     "output_type": "execute_result"
    }
   ],
   "source": [
    "train(learner, True)"
   ]
  },
  {
   "cell_type": "code",
   "execution_count": 67,
   "metadata": {},
   "outputs": [],
   "source": [
    "import yaml\n",
    "\n",
    "\n",
    "def make_rlct_evals(trainset: ModularArithmetic, num_draws=20, num_chains=5, num_cores=NUM_CORES, lr=1e-7, noise_level=1., weight_decay=3e-7, elasticity=1., repeats=5, pbar=False):\n",
    "    trainloader = torch.utils.data.DataLoader(trainset, batch_size=1024, shuffle=True)\n",
    "    optimizer_kwargs = dict(\n",
    "        lr=lr, noise_level=noise_level, weight_decay=weight_decay, elasticity=elasticity, temperature=\"adaptive\", num_samples=len(trainset)\n",
    "    )\n",
    "\n",
    "    def eval_rlct(model: nn.Module):\n",
    "        return estimate_rlct(\n",
    "            model, \n",
    "            trainloader, \n",
    "            cross_entropy_last_token, \n",
    "            SGLD, \n",
    "            optimizer_kwargs, \n",
    "            num_draws=num_draws, \n",
    "            num_chains=num_chains, \n",
    "            num_burnin_steps=0, \n",
    "            num_steps_bw_draws=1, \n",
    "            cores=num_cores, \n",
    "            pbar=pbar,\n",
    "        )\n",
    "\n",
    "    def eval_rlct_repeated(model):\n",
    "        results = {\n",
    "            f\"rlct/{i}\": eval_rlct(model).item() for i in range(repeats)\n",
    "        }\n",
    "        rlcts = list(results.values())\n",
    "        results[\"rlct/mean\"] = np.mean(rlcts).item()\n",
    "        results[\"rlct/std\"] = np.std(rlcts).item()\n",
    "\n",
    "        return results\n",
    "    \n",
    "    return eval_rlct_repeated\n",
    "\n",
    "\n",
    "def eval_rlcts_at_step(learner: Learner, step: int, num_draws=20, num_chains=5, num_cores=NUM_CORES, lr=1e-7, noise_level=1., weight_decay=3e-7, elasticity=1., repeats=5):\n",
    "    evals = []\n",
    "    eval_rlcts = make_rlct_evals(learner.dataset, num_draws=num_draws, num_chains=num_chains, num_cores=num_cores, lr=lr, noise_level=noise_level, weight_decay=weight_decay, elasticity=elasticity, repeats=repeats)\n",
    "\n",
    "    checkpoint = torch.load(CHECKPOINTS_PATH / f\"{step}.pt\")\n",
    "    learner.model.load_state_dict(checkpoint)\n",
    "    evals.append(eval_rlcts(learner.model))\n",
    "\n",
    "    return pd.DataFrame(evals)\n",
    "\n",
    "\n",
    "def eval_rlcts_over_time(learner: Learner, steps: List[int], num_draws=20, num_chains=5, num_cores=NUM_CORES, lr=1e-7, noise_level=1., weight_decay=3e-7, elasticity=1., repeats=5, pbar=False):\n",
    "    evals = []\n",
    "    eval_rlcts = make_rlct_evals(learner.dataset, num_draws=num_draws, num_chains=num_chains, num_cores=num_cores, lr=lr, noise_level=noise_level, weight_decay=weight_decay, elasticity=elasticity, repeats=repeats, pbar=True)\n",
    "\n",
    "    wandb.init(project=PROJECT, entity=ENTITY)\n",
    "\n",
    "    for step in steps:\n",
    "        checkpoint = torch.load(CHECKPOINTS_PATH / f\"{step}.pt\")\n",
    "        learner.model.load_state_dict(checkpoint)\n",
    "        evals.append(eval_rlcts(learner.model))\n",
    "        wandb.log(evals[-1], step=step)\n",
    "        print(yaml.dump(evals[-1]))\n",
    "\n",
    "    wandb.finish()\n",
    "\n",
    "    return pd.DataFrame(evals)"
   ]
  },
  {
   "cell_type": "markdown",
   "metadata": {},
   "source": [
    "## RLCT estimation hyperparameter tuning"
   ]
  },
  {
   "cell_type": "code",
   "execution_count": 55,
   "metadata": {},
   "outputs": [
    {
     "name": "stderr",
     "output_type": "stream",
     "text": [
      "Chain 0: 100%|██████████| 10/10 [00:00<00:00, 12.64it/s]\n",
      "Chain 0: 100%|██████████| 10/10 [00:00<00:00, 11.97it/s]\n",
      "Chain 0: 100%|██████████| 10/10 [00:00<00:00, 13.23it/s]\n",
      "Chain 0: 100%|██████████| 10/10 [00:00<00:00, 13.09it/s]\n",
      "Chain 0: 100%|██████████| 10/10 [00:00<00:00, 12.94it/s]\n"
     ]
    },
    {
     "name": "stdout",
     "output_type": "stream",
     "text": [
      "elasticity: 10.0\n",
      "lr: 1.0e-07\n",
      "noise_level: 0.1\n",
      "num_chains: 1\n",
      "num_draws: 10\n",
      "repeats: 5\n",
      "rlct/0: -0.0005490255196091511\n",
      "rlct/1: -0.0017397629393813045\n",
      "rlct/2: 0.0017041128585175028\n",
      "rlct/3: 0.0034296249916295324\n",
      "rlct/4: 0.0008484900285570884\n",
      "rlct/mean: 0.0007386878839427336\n",
      "rlct/std: 0.0017880810218411905\n",
      "\n"
     ]
    },
    {
     "name": "stderr",
     "output_type": "stream",
     "text": [
      "Chain 0: 100%|██████████| 10/10 [00:00<00:00, 12.57it/s]\n",
      "Chain 0: 100%|██████████| 10/10 [00:00<00:00, 13.63it/s]\n",
      "Chain 0: 100%|██████████| 10/10 [00:00<00:00, 13.16it/s]\n",
      "Chain 0: 100%|██████████| 10/10 [00:00<00:00, 12.56it/s]\n",
      "Chain 0: 100%|██████████| 10/10 [00:00<00:00, 13.26it/s]\n"
     ]
    },
    {
     "name": "stdout",
     "output_type": "stream",
     "text": [
      "elasticity: 100.0\n",
      "lr: 1.0e-07\n",
      "noise_level: 0.1\n",
      "num_chains: 1\n",
      "num_draws: 10\n",
      "repeats: 5\n",
      "rlct/0: -0.005647107196200527\n",
      "rlct/1: -0.0001711228252229757\n",
      "rlct/2: -0.0037077041521357706\n",
      "rlct/3: 0.0006773698144877589\n",
      "rlct/4: -0.005048172955997345\n",
      "rlct/mean: -0.002779347463013772\n",
      "rlct/std: 0.002568470021039514\n",
      "\n"
     ]
    },
    {
     "name": "stderr",
     "output_type": "stream",
     "text": [
      "Chain 0: 100%|██████████| 10/10 [00:00<00:00, 13.59it/s]\n",
      "Chain 0: 100%|██████████| 10/10 [00:00<00:00, 13.69it/s]\n",
      "Chain 0: 100%|██████████| 10/10 [00:00<00:00, 13.94it/s]\n",
      "Chain 0: 100%|██████████| 10/10 [00:00<00:00, 12.95it/s]\n",
      "Chain 0: 100%|██████████| 10/10 [00:00<00:00, 13.50it/s]\n"
     ]
    },
    {
     "name": "stdout",
     "output_type": "stream",
     "text": [
      "elasticity: 1000.0\n",
      "lr: 1.0e-07\n",
      "noise_level: 0.1\n",
      "num_chains: 1\n",
      "num_draws: 10\n",
      "repeats: 5\n",
      "rlct/0: 0.0016256885992320925\n",
      "rlct/1: -0.007265667345952053\n",
      "rlct/2: 0.0014117767990501318\n",
      "rlct/3: 0.0012763023139218442\n",
      "rlct/4: 0.004363672951259906\n",
      "rlct/mean: 0.00028235466350238423\n",
      "rlct/std: 0.003942026574646987\n",
      "\n"
     ]
    },
    {
     "name": "stderr",
     "output_type": "stream",
     "text": [
      "Chain 0: 100%|██████████| 10/10 [00:00<00:00, 13.50it/s]\n",
      "Chain 0: 100%|██████████| 10/10 [00:00<00:00, 13.89it/s]\n",
      "Chain 0: 100%|██████████| 10/10 [00:00<00:00, 13.17it/s]\n",
      "Chain 0: 100%|██████████| 10/10 [00:00<00:00, 13.90it/s]\n",
      "Chain 0: 100%|██████████| 10/10 [00:00<00:00, 13.85it/s]\n"
     ]
    },
    {
     "name": "stdout",
     "output_type": "stream",
     "text": [
      "elasticity: 10.0\n",
      "lr: 1.0e-07\n",
      "noise_level: 0.3\n",
      "num_chains: 1\n",
      "num_draws: 10\n",
      "repeats: 5\n",
      "rlct/0: -0.005540163916685543\n",
      "rlct/1: 0.003864566596859419\n",
      "rlct/2: 9.981831157262836e-05\n",
      "rlct/3: 0.003964388389970242\n",
      "rlct/4: -0.004812874936989119\n",
      "rlct/mean: -0.0004848531110544747\n",
      "rlct/std: 0.004082719257303008\n",
      "\n"
     ]
    },
    {
     "name": "stderr",
     "output_type": "stream",
     "text": [
      "Chain 0: 100%|██████████| 10/10 [00:00<00:00, 13.97it/s]\n",
      "Chain 0: 100%|██████████| 10/10 [00:00<00:00, 13.62it/s]\n",
      "Chain 0: 100%|██████████| 10/10 [00:00<00:00, 12.25it/s]\n",
      "Chain 0: 100%|██████████| 10/10 [00:00<00:00, 10.77it/s]\n",
      "Chain 0: 100%|██████████| 10/10 [00:00<00:00, 13.74it/s]\n"
     ]
    },
    {
     "name": "stdout",
     "output_type": "stream",
     "text": [
      "elasticity: 100.0\n",
      "lr: 1.0e-07\n",
      "noise_level: 0.3\n",
      "num_chains: 1\n",
      "num_draws: 10\n",
      "repeats: 5\n",
      "rlct/0: 0.0019180246586994636\n",
      "rlct/1: -0.0019394160998330355\n",
      "rlct/2: 0.000969709355493341\n",
      "rlct/3: 0.00422820542920804\n",
      "rlct/4: -0.0005846816931648103\n",
      "rlct/mean: 0.0009183683300805998\n",
      "rlct/std: 0.002115800629512779\n",
      "\n"
     ]
    },
    {
     "name": "stderr",
     "output_type": "stream",
     "text": [
      "Chain 0: 100%|██████████| 10/10 [00:00<00:00, 13.07it/s]\n",
      "Chain 0: 100%|██████████| 10/10 [00:00<00:00, 13.28it/s]\n",
      "Chain 0: 100%|██████████| 10/10 [00:00<00:00, 13.75it/s]\n",
      "Chain 0: 100%|██████████| 10/10 [00:00<00:00, 12.73it/s]\n",
      "Chain 0: 100%|██████████| 10/10 [00:00<00:00, 13.46it/s]\n"
     ]
    },
    {
     "name": "stdout",
     "output_type": "stream",
     "text": [
      "elasticity: 1000.0\n",
      "lr: 1.0e-07\n",
      "noise_level: 0.3\n",
      "num_chains: 1\n",
      "num_draws: 10\n",
      "repeats: 5\n",
      "rlct/0: 0.00294476596196011\n",
      "rlct/1: 0.0022460099286460877\n",
      "rlct/2: 0.0009055306801698974\n",
      "rlct/3: 0.003351194639652265\n",
      "rlct/4: -0.0022959230011628793\n",
      "rlct/mean: 0.0014303156418530964\n",
      "rlct/std: 0.002040046408613259\n",
      "\n"
     ]
    },
    {
     "name": "stderr",
     "output_type": "stream",
     "text": [
      "Chain 0: 100%|██████████| 10/10 [00:00<00:00, 12.38it/s]\n",
      "Chain 0: 100%|██████████| 10/10 [00:00<00:00, 13.30it/s]\n",
      "Chain 0: 100%|██████████| 10/10 [00:00<00:00, 12.47it/s]\n",
      "Chain 0: 100%|██████████| 10/10 [00:00<00:00, 13.07it/s]\n",
      "Chain 0: 100%|██████████| 10/10 [00:00<00:00, 11.77it/s]\n"
     ]
    },
    {
     "name": "stdout",
     "output_type": "stream",
     "text": [
      "elasticity: 10.0\n",
      "lr: 1.0e-07\n",
      "noise_level: 1.0\n",
      "num_chains: 1\n",
      "num_draws: 10\n",
      "repeats: 5\n",
      "rlct/0: -0.002074883621884901\n",
      "rlct/1: -0.0007058853531791373\n",
      "rlct/2: 0.008506318708625563\n",
      "rlct/3: 0.004278116760955734\n",
      "rlct/4: 0.007008970922733867\n",
      "rlct/mean: 0.0034025274834502254\n",
      "rlct/std: 0.004164201344479897\n",
      "\n"
     ]
    },
    {
     "name": "stderr",
     "output_type": "stream",
     "text": [
      "Chain 0: 100%|██████████| 10/10 [00:00<00:00, 12.78it/s]\n",
      "Chain 0: 100%|██████████| 10/10 [00:00<00:00, 13.15it/s]\n",
      "Chain 0: 100%|██████████| 10/10 [00:00<00:00, 12.79it/s]\n",
      "Chain 0: 100%|██████████| 10/10 [00:00<00:00, 12.83it/s]\n",
      "Chain 0: 100%|██████████| 10/10 [00:00<00:00, 12.86it/s]\n"
     ]
    },
    {
     "name": "stdout",
     "output_type": "stream",
     "text": [
      "elasticity: 100.0\n",
      "lr: 1.0e-07\n",
      "noise_level: 1.0\n",
      "num_chains: 1\n",
      "num_draws: 10\n",
      "repeats: 5\n",
      "rlct/0: 0.00673089524376584\n",
      "rlct/1: 0.005490241269938684\n",
      "rlct/2: 0.001575772915561655\n",
      "rlct/3: -0.0008698805993060955\n",
      "rlct/4: 0.0059465743163021265\n",
      "rlct/mean: 0.003774720629252442\n",
      "rlct/std: 0.0029259740080164313\n",
      "\n"
     ]
    },
    {
     "name": "stderr",
     "output_type": "stream",
     "text": [
      "Chain 0: 100%|██████████| 10/10 [00:00<00:00, 12.60it/s]\n",
      "Chain 0: 100%|██████████| 10/10 [00:00<00:00, 13.88it/s]\n",
      "Chain 0: 100%|██████████| 10/10 [00:00<00:00, 13.47it/s]\n",
      "Chain 0: 100%|██████████| 10/10 [00:00<00:00, 12.61it/s]\n",
      "Chain 0: 100%|██████████| 10/10 [00:00<00:00, 13.79it/s]\n"
     ]
    },
    {
     "name": "stdout",
     "output_type": "stream",
     "text": [
      "elasticity: 1000.0\n",
      "lr: 1.0e-07\n",
      "noise_level: 1.0\n",
      "num_chains: 1\n",
      "num_draws: 10\n",
      "repeats: 5\n",
      "rlct/0: -7.129319865114915e-06\n",
      "rlct/1: 0.00491983301304148\n",
      "rlct/2: 0.005461730083170065\n",
      "rlct/3: 0.0031301561307588354\n",
      "rlct/4: 0.005611453633798514\n",
      "rlct/mean: 0.003823208708180756\n",
      "rlct/std: 0.0021088844615327453\n",
      "\n"
     ]
    },
    {
     "name": "stderr",
     "output_type": "stream",
     "text": [
      "Chain 0: 100%|██████████| 30/30 [00:02<00:00, 13.50it/s]\n",
      "Chain 0: 100%|██████████| 30/30 [00:02<00:00, 13.05it/s]\n",
      "Chain 0: 100%|██████████| 30/30 [00:02<00:00, 13.39it/s]\n",
      "Chain 0: 100%|██████████| 30/30 [00:02<00:00, 12.87it/s]\n",
      "Chain 0: 100%|██████████| 30/30 [00:02<00:00, 13.93it/s]\n"
     ]
    },
    {
     "name": "stdout",
     "output_type": "stream",
     "text": [
      "elasticity: 10.0\n",
      "lr: 1.0e-07\n",
      "noise_level: 0.1\n",
      "num_chains: 1\n",
      "num_draws: 30\n",
      "repeats: 5\n",
      "rlct/0: -0.0035270709250416993\n",
      "rlct/1: 6.179150062560525e-05\n",
      "rlct/2: -0.0019227676742512888\n",
      "rlct/3: 0.0009910944138068565\n",
      "rlct/4: -0.0018205708918263418\n",
      "rlct/mean: -0.0012435047153373736\n",
      "rlct/std: 0.0015941335987226973\n",
      "\n"
     ]
    },
    {
     "name": "stderr",
     "output_type": "stream",
     "text": [
      "Chain 0: 100%|██████████| 30/30 [00:02<00:00, 13.89it/s]\n",
      "Chain 0: 100%|██████████| 30/30 [00:02<00:00, 14.03it/s]\n",
      "Chain 0: 100%|██████████| 30/30 [00:02<00:00, 13.61it/s]\n",
      "Chain 0: 100%|██████████| 30/30 [00:02<00:00, 13.75it/s]\n",
      "Chain 0: 100%|██████████| 30/30 [00:02<00:00, 14.14it/s]\n"
     ]
    },
    {
     "name": "stdout",
     "output_type": "stream",
     "text": [
      "elasticity: 100.0\n",
      "lr: 1.0e-07\n",
      "noise_level: 0.1\n",
      "num_chains: 1\n",
      "num_draws: 30\n",
      "repeats: 5\n",
      "rlct/0: -0.0007771881260603871\n",
      "rlct/1: -0.0042377146705664046\n",
      "rlct/2: -0.005269209433993477\n",
      "rlct/3: -0.0051765108680559115\n",
      "rlct/4: -0.003826536594502368\n",
      "rlct/mean: -0.0038574319386357097\n",
      "rlct/std: 0.0016350263815511567\n",
      "\n"
     ]
    },
    {
     "name": "stderr",
     "output_type": "stream",
     "text": [
      "Chain 0: 100%|██████████| 30/30 [00:02<00:00, 14.09it/s]\n",
      "Chain 0: 100%|██████████| 30/30 [00:02<00:00, 13.05it/s]\n",
      "Chain 0: 100%|██████████| 30/30 [00:02<00:00, 12.84it/s]\n",
      "Chain 0: 100%|██████████| 30/30 [00:02<00:00, 13.86it/s]\n",
      "Chain 0: 100%|██████████| 30/30 [00:02<00:00, 13.62it/s]\n"
     ]
    },
    {
     "name": "stdout",
     "output_type": "stream",
     "text": [
      "elasticity: 1000.0\n",
      "lr: 1.0e-07\n",
      "noise_level: 0.1\n",
      "num_chains: 1\n",
      "num_draws: 30\n",
      "repeats: 5\n",
      "rlct/0: 0.0011004245778914953\n",
      "rlct/1: -0.000755801617105957\n",
      "rlct/2: 0.0035389464518686513\n",
      "rlct/3: 0.00012121671578260638\n",
      "rlct/4: 0.0017801682211806462\n",
      "rlct/mean: 0.0011569908699234884\n",
      "rlct/std: 0.0014694805441173016\n",
      "\n"
     ]
    },
    {
     "name": "stderr",
     "output_type": "stream",
     "text": [
      "Chain 0: 100%|██████████| 30/30 [00:02<00:00, 12.86it/s]\n",
      "Chain 0: 100%|██████████| 30/30 [00:02<00:00, 12.96it/s]\n",
      "Chain 0: 100%|██████████| 30/30 [00:02<00:00, 13.23it/s]\n",
      "Chain 0: 100%|██████████| 30/30 [00:02<00:00, 14.03it/s]\n",
      "Chain 0: 100%|██████████| 30/30 [00:02<00:00, 13.26it/s]\n"
     ]
    },
    {
     "name": "stdout",
     "output_type": "stream",
     "text": [
      "elasticity: 10.0\n",
      "lr: 1.0e-07\n",
      "noise_level: 0.3\n",
      "num_chains: 1\n",
      "num_draws: 30\n",
      "repeats: 5\n",
      "rlct/0: 0.003795634171241334\n",
      "rlct/1: 0.000660733864417942\n",
      "rlct/2: 0.0004087943829043931\n",
      "rlct/3: -0.0029423886516205065\n",
      "rlct/4: -0.001796801560096817\n",
      "rlct/mean: 2.5194441369269125e-05\n",
      "rlct/std: 0.0023192021849398853\n",
      "\n"
     ]
    },
    {
     "name": "stderr",
     "output_type": "stream",
     "text": [
      "Chain 0: 100%|██████████| 30/30 [00:02<00:00, 13.69it/s]\n",
      "Chain 0: 100%|██████████| 30/30 [00:02<00:00, 13.73it/s]\n",
      "Chain 0: 100%|██████████| 30/30 [00:02<00:00, 14.09it/s]\n",
      "Chain 0: 100%|██████████| 30/30 [00:02<00:00, 13.91it/s]\n",
      "Chain 0: 100%|██████████| 30/30 [00:02<00:00, 13.52it/s]\n"
     ]
    },
    {
     "name": "stdout",
     "output_type": "stream",
     "text": [
      "elasticity: 100.0\n",
      "lr: 1.0e-07\n",
      "noise_level: 0.3\n",
      "num_chains: 1\n",
      "num_draws: 30\n",
      "repeats: 5\n",
      "rlct/0: -0.0014878307110723608\n",
      "rlct/1: 0.0076720818073632135\n",
      "rlct/2: 0.0032347247110878774\n",
      "rlct/3: 0.004366054323394069\n",
      "rlct/4: -0.002623913783544995\n",
      "rlct/mean: 0.0022322232694455607\n",
      "rlct/std: 0.0038097552077591685\n",
      "\n"
     ]
    },
    {
     "name": "stderr",
     "output_type": "stream",
     "text": [
      "Chain 0: 100%|██████████| 30/30 [00:02<00:00, 14.01it/s]\n",
      "Chain 0: 100%|██████████| 30/30 [00:02<00:00, 13.85it/s]\n",
      "Chain 0: 100%|██████████| 30/30 [00:02<00:00, 13.90it/s]\n",
      "Chain 0: 100%|██████████| 30/30 [00:02<00:00, 14.09it/s]\n",
      "Chain 0: 100%|██████████| 30/30 [00:02<00:00, 14.05it/s]\n"
     ]
    },
    {
     "name": "stdout",
     "output_type": "stream",
     "text": [
      "elasticity: 1000.0\n",
      "lr: 1.0e-07\n",
      "noise_level: 0.3\n",
      "num_chains: 1\n",
      "num_draws: 30\n",
      "repeats: 5\n",
      "rlct/0: 0.0031539158882582918\n",
      "rlct/1: -0.0003660115006372652\n",
      "rlct/2: 0.0005918066611071655\n",
      "rlct/3: 0.00445398840429421\n",
      "rlct/4: 0.004387438801451219\n",
      "rlct/mean: 0.0024442276508947246\n",
      "rlct/std: 0.0019823104130288443\n",
      "\n"
     ]
    },
    {
     "name": "stderr",
     "output_type": "stream",
     "text": [
      "Chain 0: 100%|██████████| 30/30 [00:02<00:00, 13.96it/s]\n",
      "Chain 0: 100%|██████████| 30/30 [00:02<00:00, 13.68it/s]\n",
      "Chain 0: 100%|██████████| 30/30 [00:02<00:00, 14.23it/s]\n",
      "Chain 0: 100%|██████████| 30/30 [00:02<00:00, 13.81it/s]\n",
      "Chain 0: 100%|██████████| 30/30 [00:02<00:00, 14.15it/s]\n"
     ]
    },
    {
     "name": "stdout",
     "output_type": "stream",
     "text": [
      "elasticity: 10.0\n",
      "lr: 1.0e-07\n",
      "noise_level: 1.0\n",
      "num_chains: 1\n",
      "num_draws: 30\n",
      "repeats: 5\n",
      "rlct/0: 0.018521853766893352\n",
      "rlct/1: 0.01556994775032531\n",
      "rlct/2: 0.004898440121267009\n",
      "rlct/3: 0.015498648458982288\n",
      "rlct/4: 0.017274062349611943\n",
      "rlct/mean: 0.014352590489415978\n",
      "rlct/std: 0.004859920181663577\n",
      "\n"
     ]
    },
    {
     "name": "stderr",
     "output_type": "stream",
     "text": [
      "Chain 0: 100%|██████████| 30/30 [00:02<00:00, 13.89it/s]\n",
      "Chain 0: 100%|██████████| 30/30 [00:02<00:00, 13.89it/s]\n",
      "Chain 0: 100%|██████████| 30/30 [00:02<00:00, 13.90it/s]\n",
      "Chain 0: 100%|██████████| 30/30 [00:02<00:00, 14.06it/s]\n",
      "Chain 0: 100%|██████████| 30/30 [00:02<00:00, 14.17it/s]\n"
     ]
    },
    {
     "name": "stdout",
     "output_type": "stream",
     "text": [
      "elasticity: 100.0\n",
      "lr: 1.0e-07\n",
      "noise_level: 1.0\n",
      "num_chains: 1\n",
      "num_draws: 30\n",
      "repeats: 5\n",
      "rlct/0: 0.018345970228299348\n",
      "rlct/1: 0.01571731429958706\n",
      "rlct/2: 0.008030971241339968\n",
      "rlct/3: 0.015032809652798693\n",
      "rlct/4: 0.013060123683723288\n",
      "rlct/mean: 0.01403743782114967\n",
      "rlct/std: 0.003446998267104028\n",
      "\n"
     ]
    },
    {
     "name": "stderr",
     "output_type": "stream",
     "text": [
      "Chain 0: 100%|██████████| 30/30 [00:02<00:00, 13.88it/s]\n",
      "Chain 0: 100%|██████████| 30/30 [00:02<00:00, 13.91it/s]\n",
      "Chain 0: 100%|██████████| 30/30 [00:02<00:00, 13.44it/s]\n",
      "Chain 0: 100%|██████████| 30/30 [00:02<00:00, 12.46it/s]\n",
      "Chain 0: 100%|██████████| 30/30 [00:02<00:00, 13.18it/s]\n"
     ]
    },
    {
     "name": "stdout",
     "output_type": "stream",
     "text": [
      "elasticity: 1000.0\n",
      "lr: 1.0e-07\n",
      "noise_level: 1.0\n",
      "num_chains: 1\n",
      "num_draws: 30\n",
      "repeats: 5\n",
      "rlct/0: 0.01971258973602459\n",
      "rlct/1: 0.025913476202128895\n",
      "rlct/2: 0.015486761036899773\n",
      "rlct/3: 0.016465982244905142\n",
      "rlct/4: 0.023384633362681942\n",
      "rlct/mean: 0.020192688516528067\n",
      "rlct/std: 0.003979460052874652\n",
      "\n"
     ]
    },
    {
     "name": "stderr",
     "output_type": "stream",
     "text": [
      "Chain 0: 100%|██████████| 100/100 [00:07<00:00, 12.73it/s]\n",
      "Chain 0: 100%|██████████| 100/100 [00:07<00:00, 13.20it/s]\n",
      "Chain 0: 100%|██████████| 100/100 [00:07<00:00, 13.59it/s]\n",
      "Chain 0: 100%|██████████| 100/100 [00:07<00:00, 13.32it/s]\n",
      "Chain 0: 100%|██████████| 100/100 [00:07<00:00, 13.39it/s]\n"
     ]
    },
    {
     "name": "stdout",
     "output_type": "stream",
     "text": [
      "elasticity: 10.0\n",
      "lr: 1.0e-07\n",
      "noise_level: 0.1\n",
      "num_chains: 1\n",
      "num_draws: 100\n",
      "repeats: 5\n",
      "rlct/0: -0.0016206899807501862\n",
      "rlct/1: 0.0003764686487983654\n",
      "rlct/2: 0.004010014644491716\n",
      "rlct/3: -0.0057996935286588345\n",
      "rlct/4: 0.003320527075156177\n",
      "rlct/mean: 5.7325371807447587e-05\n",
      "rlct/std: 0.003563551492492236\n",
      "\n"
     ]
    },
    {
     "name": "stderr",
     "output_type": "stream",
     "text": [
      "Chain 0: 100%|██████████| 100/100 [00:07<00:00, 13.78it/s]\n",
      "Chain 0: 100%|██████████| 100/100 [00:07<00:00, 13.65it/s]\n",
      "Chain 0: 100%|██████████| 100/100 [00:07<00:00, 13.79it/s]\n",
      "Chain 0: 100%|██████████| 100/100 [00:07<00:00, 13.91it/s]\n",
      "Chain 0: 100%|██████████| 100/100 [00:07<00:00, 13.97it/s]\n"
     ]
    },
    {
     "name": "stdout",
     "output_type": "stream",
     "text": [
      "elasticity: 100.0\n",
      "lr: 1.0e-07\n",
      "noise_level: 0.1\n",
      "num_chains: 1\n",
      "num_draws: 100\n",
      "repeats: 5\n",
      "rlct/0: -0.0008420832149085549\n",
      "rlct/1: 0.004308775012337113\n",
      "rlct/2: 0.00038074876483263693\n",
      "rlct/3: 0.0026281819462980888\n",
      "rlct/4: 0.0018103506043146615\n",
      "rlct/mean: 0.0016571946225747889\n",
      "rlct/std: 0.0017817326083129689\n",
      "\n"
     ]
    },
    {
     "name": "stderr",
     "output_type": "stream",
     "text": [
      "Chain 0: 100%|██████████| 100/100 [00:07<00:00, 14.18it/s]\n",
      "Chain 0: 100%|██████████| 100/100 [00:07<00:00, 13.97it/s]\n",
      "Chain 0: 100%|██████████| 100/100 [00:07<00:00, 13.62it/s]\n",
      "Chain 0: 100%|██████████| 100/100 [00:07<00:00, 13.42it/s]\n",
      "Chain 0: 100%|██████████| 100/100 [00:07<00:00, 13.65it/s]\n"
     ]
    },
    {
     "name": "stdout",
     "output_type": "stream",
     "text": [
      "elasticity: 1000.0\n",
      "lr: 1.0e-07\n",
      "noise_level: 0.1\n",
      "num_chains: 1\n",
      "num_draws: 100\n",
      "repeats: 5\n",
      "rlct/0: 0.005452452741269171\n",
      "rlct/1: -0.0002139027481826282\n",
      "rlct/2: 0.00018467410342783017\n",
      "rlct/3: 0.0009340503967071129\n",
      "rlct/4: 0.0026053744765369346\n",
      "rlct/mean: 0.0017925297939516839\n",
      "rlct/std: 0.0020689954471427496\n",
      "\n"
     ]
    },
    {
     "name": "stderr",
     "output_type": "stream",
     "text": [
      "Chain 0: 100%|██████████| 100/100 [00:07<00:00, 13.61it/s]\n",
      "Chain 0: 100%|██████████| 100/100 [00:07<00:00, 13.49it/s]\n",
      "Chain 0: 100%|██████████| 100/100 [00:07<00:00, 13.89it/s]\n",
      "Chain 0: 100%|██████████| 100/100 [00:07<00:00, 14.07it/s]\n",
      "Chain 0: 100%|██████████| 100/100 [00:07<00:00, 13.70it/s]\n"
     ]
    },
    {
     "name": "stdout",
     "output_type": "stream",
     "text": [
      "elasticity: 10.0\n",
      "lr: 1.0e-07\n",
      "noise_level: 0.3\n",
      "num_chains: 1\n",
      "num_draws: 100\n",
      "repeats: 5\n",
      "rlct/0: 0.005237126740267179\n",
      "rlct/1: 0.009172983489431836\n",
      "rlct/2: 0.006208961748913311\n",
      "rlct/3: 0.0015272803976721116\n",
      "rlct/4: 0.006534108520759085\n",
      "rlct/mean: 0.005736092179408705\n",
      "rlct/std: 0.0024753068784003607\n",
      "\n"
     ]
    },
    {
     "name": "stderr",
     "output_type": "stream",
     "text": [
      "Chain 0: 100%|██████████| 100/100 [00:07<00:00, 13.76it/s]\n",
      "Chain 0: 100%|██████████| 100/100 [00:07<00:00, 14.04it/s]\n",
      "Chain 0: 100%|██████████| 100/100 [00:07<00:00, 14.10it/s]\n",
      "Chain 0: 100%|██████████| 100/100 [00:07<00:00, 14.12it/s]\n",
      "Chain 0: 100%|██████████| 100/100 [00:07<00:00, 14.11it/s]\n"
     ]
    },
    {
     "name": "stdout",
     "output_type": "stream",
     "text": [
      "elasticity: 100.0\n",
      "lr: 1.0e-07\n",
      "noise_level: 0.3\n",
      "num_chains: 1\n",
      "num_draws: 100\n",
      "repeats: 5\n",
      "rlct/0: 0.0077112933567495354\n",
      "rlct/1: 0.0068136031006237165\n",
      "rlct/2: 0.007597209877562538\n",
      "rlct/3: 0.008529840328911593\n",
      "rlct/4: 0.00635513151941611\n",
      "rlct/mean: 0.007401415636652699\n",
      "rlct/std: 0.0007547099977845563\n",
      "\n"
     ]
    },
    {
     "name": "stderr",
     "output_type": "stream",
     "text": [
      "Chain 0: 100%|██████████| 100/100 [00:07<00:00, 13.59it/s]\n",
      "Chain 0: 100%|██████████| 100/100 [00:07<00:00, 14.00it/s]\n",
      "Chain 0: 100%|██████████| 100/100 [00:07<00:00, 13.73it/s]\n",
      "Chain 0: 100%|██████████| 100/100 [00:07<00:00, 13.47it/s]\n",
      "Chain 0: 100%|██████████| 100/100 [00:07<00:00, 13.52it/s]\n"
     ]
    },
    {
     "name": "stdout",
     "output_type": "stream",
     "text": [
      "elasticity: 1000.0\n",
      "lr: 1.0e-07\n",
      "noise_level: 0.3\n",
      "num_chains: 1\n",
      "num_draws: 100\n",
      "repeats: 5\n",
      "rlct/0: 0.0016378047873876816\n",
      "rlct/1: 0.006825019325522618\n",
      "rlct/2: 0.008531273852268666\n",
      "rlct/3: 0.002587549610181948\n",
      "rlct/4: 0.004782926832363685\n",
      "rlct/mean: 0.004872914881544919\n",
      "rlct/std: 0.002564809221471953\n",
      "\n"
     ]
    },
    {
     "name": "stderr",
     "output_type": "stream",
     "text": [
      "Chain 0: 100%|██████████| 100/100 [00:07<00:00, 13.70it/s]\n",
      "Chain 0: 100%|██████████| 100/100 [00:07<00:00, 13.73it/s]\n",
      "Chain 0: 100%|██████████| 100/100 [00:07<00:00, 13.62it/s]\n",
      "Chain 0: 100%|██████████| 100/100 [00:07<00:00, 13.83it/s]\n",
      "Chain 0: 100%|██████████| 100/100 [00:07<00:00, 13.85it/s]\n"
     ]
    },
    {
     "name": "stdout",
     "output_type": "stream",
     "text": [
      "elasticity: 10.0\n",
      "lr: 1.0e-07\n",
      "noise_level: 1.0\n",
      "num_chains: 1\n",
      "num_draws: 100\n",
      "repeats: 5\n",
      "rlct/0: 0.06335595659812718\n",
      "rlct/1: 0.05273840309199631\n",
      "rlct/2: 0.06686899907113979\n",
      "rlct/3: 0.052197940415609365\n",
      "rlct/4: 0.052242137237581136\n",
      "rlct/mean: 0.05748068728289076\n",
      "rlct/std: 0.006332428730718199\n",
      "\n"
     ]
    },
    {
     "name": "stderr",
     "output_type": "stream",
     "text": [
      "Chain 0: 100%|██████████| 100/100 [00:07<00:00, 14.08it/s]\n",
      "Chain 0: 100%|██████████| 100/100 [00:07<00:00, 13.80it/s]\n",
      "Chain 0: 100%|██████████| 100/100 [00:07<00:00, 13.22it/s]\n",
      "Chain 0: 100%|██████████| 100/100 [00:07<00:00, 13.51it/s]\n",
      "Chain 0: 100%|██████████| 100/100 [00:07<00:00, 13.14it/s]\n"
     ]
    },
    {
     "name": "stdout",
     "output_type": "stream",
     "text": [
      "elasticity: 100.0\n",
      "lr: 1.0e-07\n",
      "noise_level: 1.0\n",
      "num_chains: 1\n",
      "num_draws: 100\n",
      "repeats: 5\n",
      "rlct/0: 0.05432273510812657\n",
      "rlct/1: 0.05900939984612007\n",
      "rlct/2: 0.053077093482662874\n",
      "rlct/3: 0.05769102740784067\n",
      "rlct/4: 0.05548066903971212\n",
      "rlct/mean: 0.05591618497689246\n",
      "rlct/std: 0.0021682823160428075\n",
      "\n"
     ]
    },
    {
     "name": "stderr",
     "output_type": "stream",
     "text": [
      "Chain 0: 100%|██████████| 100/100 [00:07<00:00, 13.16it/s]\n",
      "Chain 0: 100%|██████████| 100/100 [00:07<00:00, 14.15it/s]\n",
      "Chain 0: 100%|██████████| 100/100 [00:07<00:00, 13.85it/s]\n",
      "Chain 0: 100%|██████████| 100/100 [00:07<00:00, 13.91it/s]\n",
      "Chain 0: 100%|██████████| 100/100 [00:07<00:00, 13.81it/s]\n"
     ]
    },
    {
     "name": "stdout",
     "output_type": "stream",
     "text": [
      "elasticity: 1000.0\n",
      "lr: 1.0e-07\n",
      "noise_level: 1.0\n",
      "num_chains: 1\n",
      "num_draws: 100\n",
      "repeats: 5\n",
      "rlct/0: 0.07338242246782924\n",
      "rlct/1: 0.06431425294914446\n",
      "rlct/2: 0.06343937242577961\n",
      "rlct/3: 0.05495231236798149\n",
      "rlct/4: 0.058719197708458716\n",
      "rlct/mean: 0.0629615115838387\n",
      "rlct/std: 0.006209639972402128\n",
      "\n"
     ]
    },
    {
     "name": "stderr",
     "output_type": "stream",
     "text": [
      "Chain 0: 100%|██████████| 300/300 [00:22<00:00, 13.21it/s]\n",
      "Chain 0: 100%|██████████| 300/300 [00:22<00:00, 13.58it/s]\n",
      "Chain 0: 100%|██████████| 300/300 [00:21<00:00, 13.78it/s]\n",
      "Chain 0: 100%|██████████| 300/300 [00:21<00:00, 13.77it/s]\n",
      "Chain 0: 100%|██████████| 300/300 [00:21<00:00, 14.02it/s]\n"
     ]
    },
    {
     "name": "stdout",
     "output_type": "stream",
     "text": [
      "elasticity: 10.0\n",
      "lr: 1.0e-07\n",
      "noise_level: 0.1\n",
      "num_chains: 1\n",
      "num_draws: 300\n",
      "repeats: 5\n",
      "rlct/0: 0.004674547012158505\n",
      "rlct/1: -0.00026453516451879614\n",
      "rlct/2: 0.002915767359842393\n",
      "rlct/3: 0.00037505058927348687\n",
      "rlct/4: 0.0017255101892532025\n",
      "rlct/mean: 0.0018852679972017582\n",
      "rlct/std: 0.0017759470245609604\n",
      "\n"
     ]
    },
    {
     "name": "stderr",
     "output_type": "stream",
     "text": [
      "Chain 0: 100%|██████████| 300/300 [00:21<00:00, 14.06it/s]\n",
      "Chain 0: 100%|██████████| 300/300 [00:22<00:00, 13.57it/s]\n",
      "Chain 0: 100%|██████████| 300/300 [00:21<00:00, 13.65it/s]\n",
      "Chain 0: 100%|██████████| 300/300 [00:21<00:00, 13.98it/s]\n",
      "Chain 0: 100%|██████████| 300/300 [00:23<00:00, 12.72it/s]\n"
     ]
    },
    {
     "name": "stdout",
     "output_type": "stream",
     "text": [
      "elasticity: 100.0\n",
      "lr: 1.0e-07\n",
      "noise_level: 0.1\n",
      "num_chains: 1\n",
      "num_draws: 300\n",
      "repeats: 5\n",
      "rlct/0: 0.00026951625925840297\n",
      "rlct/1: -0.0009190793182082826\n",
      "rlct/2: 0.0007296501298961726\n",
      "rlct/3: 0.007697755801607781\n",
      "rlct/4: -0.002935496018327889\n",
      "rlct/mean: 0.0009684693708452369\n",
      "rlct/std: 0.0035953484327029732\n",
      "\n"
     ]
    },
    {
     "name": "stderr",
     "output_type": "stream",
     "text": [
      "Chain 0: 100%|██████████| 300/300 [00:22<00:00, 13.59it/s]\n",
      "Chain 0: 100%|██████████| 300/300 [00:21<00:00, 13.86it/s]\n",
      "Chain 0: 100%|██████████| 300/300 [00:21<00:00, 14.16it/s]\n",
      "Chain 0: 100%|██████████| 300/300 [00:21<00:00, 14.12it/s]\n",
      "Chain 0: 100%|██████████| 300/300 [00:21<00:00, 14.24it/s]\n"
     ]
    },
    {
     "name": "stdout",
     "output_type": "stream",
     "text": [
      "elasticity: 1000.0\n",
      "lr: 1.0e-07\n",
      "noise_level: 0.1\n",
      "num_chains: 1\n",
      "num_draws: 300\n",
      "repeats: 5\n",
      "rlct/0: -0.003774245341261425\n",
      "rlct/1: -0.001752836405479952\n",
      "rlct/2: -0.0012672675481955756\n",
      "rlct/3: -0.005924242772813983\n",
      "rlct/4: 0.00012596811603894528\n",
      "rlct/mean: -0.0025185247903423977\n",
      "rlct/std: 0.0021128660723656895\n",
      "\n"
     ]
    },
    {
     "name": "stderr",
     "output_type": "stream",
     "text": [
      "Chain 0: 100%|██████████| 300/300 [00:21<00:00, 14.26it/s]\n",
      "Chain 0: 100%|██████████| 300/300 [00:21<00:00, 14.26it/s]\n",
      "Chain 0: 100%|██████████| 300/300 [00:21<00:00, 14.10it/s]\n",
      "Chain 0: 100%|██████████| 300/300 [00:21<00:00, 14.18it/s]\n",
      "Chain 0: 100%|██████████| 300/300 [00:21<00:00, 14.22it/s]\n"
     ]
    },
    {
     "name": "stdout",
     "output_type": "stream",
     "text": [
      "elasticity: 10.0\n",
      "lr: 1.0e-07\n",
      "noise_level: 0.3\n",
      "num_chains: 1\n",
      "num_draws: 300\n",
      "repeats: 5\n",
      "rlct/0: 0.0112250565081712\n",
      "rlct/1: 0.022877442180255187\n",
      "rlct/2: 0.017936460476331666\n",
      "rlct/3: 0.01592384285971729\n",
      "rlct/4: 0.01764530906826516\n",
      "rlct/mean: 0.0171216222185481\n",
      "rlct/std: 0.0037489154512667764\n",
      "\n"
     ]
    },
    {
     "name": "stderr",
     "output_type": "stream",
     "text": [
      "Chain 0: 100%|██████████| 300/300 [00:21<00:00, 14.18it/s]\n",
      "Chain 0: 100%|██████████| 300/300 [00:20<00:00, 14.30it/s]\n",
      "Chain 0: 100%|██████████| 300/300 [00:20<00:00, 14.41it/s]\n",
      "Chain 0: 100%|██████████| 300/300 [00:20<00:00, 14.43it/s]\n",
      "Chain 0: 100%|██████████| 300/300 [00:21<00:00, 13.88it/s]\n"
     ]
    },
    {
     "name": "stdout",
     "output_type": "stream",
     "text": [
      "elasticity: 100.0\n",
      "lr: 1.0e-07\n",
      "noise_level: 0.3\n",
      "num_chains: 1\n",
      "num_draws: 300\n",
      "repeats: 5\n",
      "rlct/0: 0.01469863821168744\n",
      "rlct/1: 0.012146030972690102\n",
      "rlct/2: 0.006453527651643637\n",
      "rlct/3: 0.013832569084360032\n",
      "rlct/4: 0.013445162544999724\n",
      "rlct/mean: 0.012115185693076186\n",
      "rlct/std: 0.0029478057691992255\n",
      "\n"
     ]
    },
    {
     "name": "stderr",
     "output_type": "stream",
     "text": [
      "Chain 0: 100%|██████████| 300/300 [00:22<00:00, 13.36it/s]\n",
      "Chain 0: 100%|██████████| 300/300 [00:22<00:00, 13.35it/s]\n",
      "Chain 0: 100%|██████████| 300/300 [00:21<00:00, 13.80it/s]\n",
      "Chain 0: 100%|██████████| 300/300 [00:21<00:00, 14.11it/s]\n",
      "Chain 0: 100%|██████████| 300/300 [00:20<00:00, 14.39it/s]\n"
     ]
    },
    {
     "name": "stdout",
     "output_type": "stream",
     "text": [
      "elasticity: 1000.0\n",
      "lr: 1.0e-07\n",
      "noise_level: 0.3\n",
      "num_chains: 1\n",
      "num_draws: 300\n",
      "repeats: 5\n",
      "rlct/0: 0.014513500396383152\n",
      "rlct/1: 0.011319175338607847\n",
      "rlct/2: 0.015190147153410785\n",
      "rlct/3: 0.010510850249662486\n",
      "rlct/4: 0.018556080449873707\n",
      "rlct/mean: 0.014017950717587596\n",
      "rlct/std: 0.0028912757624854116\n",
      "\n"
     ]
    },
    {
     "name": "stderr",
     "output_type": "stream",
     "text": [
      "Chain 0: 100%|██████████| 300/300 [00:20<00:00, 14.35it/s]\n",
      "Chain 0: 100%|██████████| 300/300 [00:21<00:00, 14.24it/s]\n",
      "Chain 0: 100%|██████████| 300/300 [00:20<00:00, 14.37it/s]\n",
      "Chain 0: 100%|██████████| 300/300 [00:20<00:00, 14.32it/s]\n",
      "Chain 0: 100%|██████████| 300/300 [00:20<00:00, 14.32it/s]\n"
     ]
    },
    {
     "name": "stdout",
     "output_type": "stream",
     "text": [
      "elasticity: 10.0\n",
      "lr: 1.0e-07\n",
      "noise_level: 1.0\n",
      "num_chains: 1\n",
      "num_draws: 300\n",
      "repeats: 5\n",
      "rlct/0: 0.3031607482206776\n",
      "rlct/1: 0.3412603644274073\n",
      "rlct/2: 0.312141023957267\n",
      "rlct/3: 0.32985022920304286\n",
      "rlct/4: 0.2587521165434535\n",
      "rlct/mean: 0.3090328964703697\n",
      "rlct/std: 0.02844036021088643\n",
      "\n"
     ]
    },
    {
     "name": "stderr",
     "output_type": "stream",
     "text": [
      "Chain 0: 100%|██████████| 300/300 [00:20<00:00, 14.38it/s]\n",
      "Chain 0: 100%|██████████| 300/300 [00:21<00:00, 14.27it/s]\n",
      "Chain 0: 100%|██████████| 300/300 [00:21<00:00, 14.22it/s]\n",
      "Chain 0: 100%|██████████| 300/300 [00:21<00:00, 14.17it/s]\n",
      "Chain 0: 100%|██████████| 300/300 [00:21<00:00, 14.26it/s]\n"
     ]
    },
    {
     "name": "stdout",
     "output_type": "stream",
     "text": [
      "elasticity: 100.0\n",
      "lr: 1.0e-07\n",
      "noise_level: 1.0\n",
      "num_chains: 1\n",
      "num_draws: 300\n",
      "repeats: 5\n",
      "rlct/0: 0.27523024332203777\n",
      "rlct/1: 0.24293059139158826\n",
      "rlct/2: 0.34838186127617243\n",
      "rlct/3: 0.3141920153491236\n",
      "rlct/4: 0.2734790045364158\n",
      "rlct/mean: 0.2908427431750676\n",
      "rlct/std: 0.03659716514323606\n",
      "\n"
     ]
    },
    {
     "name": "stderr",
     "output_type": "stream",
     "text": [
      "Chain 0: 100%|██████████| 300/300 [00:20<00:00, 14.31it/s]\n",
      "Chain 0: 100%|██████████| 300/300 [00:21<00:00, 14.27it/s]\n",
      "Chain 0: 100%|██████████| 300/300 [00:20<00:00, 14.30it/s]\n",
      "Chain 0: 100%|██████████| 300/300 [00:20<00:00, 14.33it/s]\n",
      "Chain 0: 100%|██████████| 300/300 [00:20<00:00, 14.34it/s]\n"
     ]
    },
    {
     "name": "stdout",
     "output_type": "stream",
     "text": [
      "elasticity: 1000.0\n",
      "lr: 1.0e-07\n",
      "noise_level: 1.0\n",
      "num_chains: 1\n",
      "num_draws: 300\n",
      "repeats: 5\n",
      "rlct/0: 0.2535657609298073\n",
      "rlct/1: 0.27744100128371413\n",
      "rlct/2: 0.2253508079187407\n",
      "rlct/3: 0.2300835665978882\n",
      "rlct/4: 0.300082102376114\n",
      "rlct/mean: 0.2573046478212529\n",
      "rlct/std: 0.028324539790188303\n",
      "\n"
     ]
    },
    {
     "name": "stderr",
     "output_type": "stream",
     "text": [
      "Chain 0: 100%|██████████| 1000/1000 [01:09<00:00, 14.32it/s]\n",
      "Chain 0: 100%|██████████| 1000/1000 [01:09<00:00, 14.33it/s]\n",
      "Chain 0: 100%|██████████| 1000/1000 [01:09<00:00, 14.30it/s]\n",
      "Chain 0: 100%|██████████| 1000/1000 [01:10<00:00, 14.21it/s]\n",
      "Chain 0: 100%|██████████| 1000/1000 [01:09<00:00, 14.29it/s]\n"
     ]
    },
    {
     "name": "stdout",
     "output_type": "stream",
     "text": [
      "elasticity: 10.0\n",
      "lr: 1.0e-07\n",
      "noise_level: 0.1\n",
      "num_chains: 1\n",
      "num_draws: 1000\n",
      "repeats: 5\n",
      "rlct/0: 0.001974849985877962\n",
      "rlct/1: 0.0035890460187821185\n",
      "rlct/2: 0.007408127232859787\n",
      "rlct/3: 0.010874248040614584\n",
      "rlct/4: 0.011624984274940919\n",
      "rlct/mean: 0.007094251110615074\n",
      "rlct/std: 0.00383168810393055\n",
      "\n"
     ]
    },
    {
     "name": "stderr",
     "output_type": "stream",
     "text": [
      "Chain 0: 100%|██████████| 1000/1000 [01:09<00:00, 14.34it/s]\n",
      "Chain 0: 100%|██████████| 1000/1000 [01:09<00:00, 14.29it/s]\n",
      "Chain 0: 100%|██████████| 1000/1000 [01:12<00:00, 13.81it/s]\n",
      "Chain 0: 100%|██████████| 1000/1000 [01:12<00:00, 13.84it/s]\n",
      "Chain 0: 100%|██████████| 1000/1000 [01:12<00:00, 13.85it/s]\n"
     ]
    },
    {
     "name": "stdout",
     "output_type": "stream",
     "text": [
      "elasticity: 100.0\n",
      "lr: 1.0e-07\n",
      "noise_level: 0.1\n",
      "num_chains: 1\n",
      "num_draws: 1000\n",
      "repeats: 5\n",
      "rlct/0: 0.0021860462123693596\n",
      "rlct/1: 0.005865867047040761\n",
      "rlct/2: 0.0019956628823998394\n",
      "rlct/3: 0.0022354523642192396\n",
      "rlct/4: 0.007063453226921557\n",
      "rlct/mean: 0.003869296346590151\n",
      "rlct/std: 0.002154168622428803\n",
      "\n"
     ]
    },
    {
     "name": "stderr",
     "output_type": "stream",
     "text": [
      "Chain 0: 100%|██████████| 1000/1000 [01:16<00:00, 13.13it/s]\n",
      "Chain 0: 100%|██████████| 1000/1000 [01:15<00:00, 13.29it/s]\n",
      "Chain 0: 100%|██████████| 1000/1000 [01:13<00:00, 13.70it/s]\n",
      "Chain 0: 100%|██████████| 1000/1000 [01:10<00:00, 14.10it/s]\n",
      "Chain 0: 100%|██████████| 1000/1000 [01:10<00:00, 14.10it/s]\n"
     ]
    },
    {
     "name": "stdout",
     "output_type": "stream",
     "text": [
      "elasticity: 1000.0\n",
      "lr: 1.0e-07\n",
      "noise_level: 0.1\n",
      "num_chains: 1\n",
      "num_draws: 1000\n",
      "repeats: 5\n",
      "rlct/0: 0.0018070782108108145\n",
      "rlct/1: 0.006986580097353899\n",
      "rlct/2: 0.00717646536717124\n",
      "rlct/3: 0.00915993514553264\n",
      "rlct/4: 0.0075506529817665835\n",
      "rlct/mean: 0.006536142360527035\n",
      "rlct/std: 0.0024855774306579994\n",
      "\n"
     ]
    },
    {
     "name": "stderr",
     "output_type": "stream",
     "text": [
      "Chain 0: 100%|██████████| 1000/1000 [01:11<00:00, 13.91it/s]\n",
      "Chain 0: 100%|██████████| 1000/1000 [01:12<00:00, 13.84it/s]\n",
      "Chain 0: 100%|██████████| 1000/1000 [01:11<00:00, 14.03it/s]\n",
      "Chain 0: 100%|██████████| 1000/1000 [01:12<00:00, 13.88it/s]\n",
      "Chain 0: 100%|██████████| 1000/1000 [01:14<00:00, 13.44it/s]\n"
     ]
    },
    {
     "name": "stdout",
     "output_type": "stream",
     "text": [
      "elasticity: 10.0\n",
      "lr: 1.0e-07\n",
      "noise_level: 0.3\n",
      "num_chains: 1\n",
      "num_draws: 1000\n",
      "repeats: 5\n",
      "rlct/0: 0.05485128149757801\n",
      "rlct/1: 0.04322596700744191\n",
      "rlct/2: 0.058616739894805356\n",
      "rlct/3: 0.05535190139849129\n",
      "rlct/4: 0.05654513696118908\n",
      "rlct/mean: 0.053718205351901124\n",
      "rlct/std: 0.005404203415733051\n",
      "\n"
     ]
    },
    {
     "name": "stderr",
     "output_type": "stream",
     "text": [
      "Chain 0: 100%|██████████| 1000/1000 [01:14<00:00, 13.49it/s]\n",
      "Chain 0: 100%|██████████| 1000/1000 [01:15<00:00, 13.16it/s]\n",
      "Chain 0: 100%|██████████| 1000/1000 [01:13<00:00, 13.58it/s]\n",
      "Chain 0: 100%|██████████| 1000/1000 [01:14<00:00, 13.40it/s]\n",
      "Chain 0: 100%|██████████| 1000/1000 [01:15<00:00, 13.31it/s]\n"
     ]
    },
    {
     "name": "stdout",
     "output_type": "stream",
     "text": [
      "elasticity: 100.0\n",
      "lr: 1.0e-07\n",
      "noise_level: 0.3\n",
      "num_chains: 1\n",
      "num_draws: 1000\n",
      "repeats: 5\n",
      "rlct/0: 0.05394825939624455\n",
      "rlct/1: 0.05675868585453213\n",
      "rlct/2: 0.046312466772812665\n",
      "rlct/3: 0.04860831789761925\n",
      "rlct/4: 0.05353562742692364\n",
      "rlct/mean: 0.051832671469626446\n",
      "rlct/std: 0.0038081624135555066\n",
      "\n"
     ]
    },
    {
     "name": "stderr",
     "output_type": "stream",
     "text": [
      "Chain 0: 100%|██████████| 1000/1000 [01:15<00:00, 13.31it/s]\n",
      "Chain 0: 100%|██████████| 1000/1000 [01:14<00:00, 13.43it/s]\n",
      "Chain 0: 100%|██████████| 1000/1000 [01:14<00:00, 13.42it/s]\n",
      "Chain 0: 100%|██████████| 1000/1000 [01:13<00:00, 13.58it/s]\n",
      "Chain 0: 100%|██████████| 1000/1000 [01:13<00:00, 13.55it/s]\n"
     ]
    },
    {
     "name": "stdout",
     "output_type": "stream",
     "text": [
      "elasticity: 1000.0\n",
      "lr: 1.0e-07\n",
      "noise_level: 0.3\n",
      "num_chains: 1\n",
      "num_draws: 1000\n",
      "repeats: 5\n",
      "rlct/0: 0.048187141415374786\n",
      "rlct/1: 0.055026329878984176\n",
      "rlct/2: 0.04892063165870397\n",
      "rlct/3: 0.04781336128871515\n",
      "rlct/4: 0.045259766520109\n",
      "rlct/mean: 0.04904144615237741\n",
      "rlct/std: 0.003236435051720312\n",
      "\n"
     ]
    },
    {
     "name": "stderr",
     "output_type": "stream",
     "text": [
      "Chain 0: 100%|██████████| 1000/1000 [01:14<00:00, 13.35it/s]\n",
      "Chain 0: 100%|██████████| 1000/1000 [01:15<00:00, 13.27it/s]\n",
      "Chain 0: 100%|██████████| 1000/1000 [01:14<00:00, 13.40it/s]\n",
      "Chain 0: 100%|██████████| 1000/1000 [01:13<00:00, 13.54it/s]\n",
      "Chain 0: 100%|██████████| 1000/1000 [01:12<00:00, 13.79it/s]\n"
     ]
    },
    {
     "name": "stdout",
     "output_type": "stream",
     "text": [
      "elasticity: 10.0\n",
      "lr: 1.0e-07\n",
      "noise_level: 1.0\n",
      "num_chains: 1\n",
      "num_draws: 1000\n",
      "repeats: 5\n",
      "rlct/0: 5.247342746447182\n",
      "rlct/1: 5.651614090442396\n",
      "rlct/2: 5.464410607780325\n",
      "rlct/3: 4.950794906272849\n",
      "rlct/4: 6.679965397894301\n",
      "rlct/mean: 5.59882554976741\n",
      "rlct/std: 0.5887616247347722\n",
      "\n"
     ]
    },
    {
     "name": "stderr",
     "output_type": "stream",
     "text": [
      "Chain 0: 100%|██████████| 1000/1000 [01:15<00:00, 13.30it/s]\n",
      "Chain 0: 100%|██████████| 1000/1000 [01:13<00:00, 13.56it/s]\n",
      "Chain 0: 100%|██████████| 1000/1000 [01:17<00:00, 12.97it/s]\n",
      "Chain 0: 100%|██████████| 1000/1000 [01:15<00:00, 13.21it/s]\n",
      "Chain 0: 100%|██████████| 1000/1000 [01:10<00:00, 14.17it/s]\n"
     ]
    },
    {
     "name": "stdout",
     "output_type": "stream",
     "text": [
      "elasticity: 100.0\n",
      "lr: 1.0e-07\n",
      "noise_level: 1.0\n",
      "num_chains: 1\n",
      "num_draws: 1000\n",
      "repeats: 5\n",
      "rlct/0: 4.997652480224575\n",
      "rlct/1: 4.661940601791302\n",
      "rlct/2: 4.781744142084283\n",
      "rlct/3: 5.537377804846206\n",
      "rlct/4: 3.924575308187792\n",
      "rlct/mean: 4.780658067426831\n",
      "rlct/std: 0.5228162283359032\n",
      "\n"
     ]
    },
    {
     "name": "stderr",
     "output_type": "stream",
     "text": [
      "Chain 0: 100%|██████████| 1000/1000 [01:10<00:00, 14.12it/s]\n",
      "Chain 0: 100%|██████████| 1000/1000 [01:11<00:00, 14.00it/s]\n",
      "Chain 0: 100%|██████████| 1000/1000 [01:12<00:00, 13.82it/s]\n",
      "Chain 0: 100%|██████████| 1000/1000 [01:12<00:00, 13.76it/s]\n",
      "Chain 0: 100%|██████████| 1000/1000 [01:12<00:00, 13.84it/s]\n"
     ]
    },
    {
     "name": "stdout",
     "output_type": "stream",
     "text": [
      "elasticity: 1000.0\n",
      "lr: 1.0e-07\n",
      "noise_level: 1.0\n",
      "num_chains: 1\n",
      "num_draws: 1000\n",
      "repeats: 5\n",
      "rlct/0: 5.327681559828627\n",
      "rlct/1: 6.541818661683161\n",
      "rlct/2: 6.080979357459516\n",
      "rlct/3: 3.560581614304091\n",
      "rlct/4: 5.220897573411678\n",
      "rlct/mean: 5.346391753337414\n",
      "rlct/std: 1.0172395150147782\n",
      "\n"
     ]
    },
    {
     "name": "stderr",
     "output_type": "stream",
     "text": [
      "Chain 0: 100%|██████████| 10/10 [00:00<00:00, 13.66it/s]\n",
      "Chain 0: 100%|██████████| 10/10 [00:00<00:00, 13.60it/s]\n",
      "Chain 0: 100%|██████████| 10/10 [00:00<00:00, 13.60it/s]\n",
      "Chain 0: 100%|██████████| 10/10 [00:00<00:00, 13.11it/s]\n",
      "Chain 0: 100%|██████████| 10/10 [00:00<00:00, 13.68it/s]\n"
     ]
    },
    {
     "name": "stdout",
     "output_type": "stream",
     "text": [
      "elasticity: 10.0\n",
      "lr: 1.0e-06\n",
      "noise_level: 0.1\n",
      "num_chains: 1\n",
      "num_draws: 10\n",
      "repeats: 5\n",
      "rlct/0: 0.0032513606611577106\n",
      "rlct/1: 0.0057897092604248315\n",
      "rlct/2: -0.0020392309298674525\n",
      "rlct/3: -0.00211053979544056\n",
      "rlct/4: -0.0032299805350233207\n",
      "rlct/mean: 0.0003322637322502418\n",
      "rlct/std: 0.0035379570037077767\n",
      "\n"
     ]
    },
    {
     "name": "stderr",
     "output_type": "stream",
     "text": [
      "Chain 0: 100%|██████████| 10/10 [00:00<00:00, 13.04it/s]\n",
      "Chain 0: 100%|██████████| 10/10 [00:00<00:00, 13.29it/s]\n",
      "Chain 0: 100%|██████████| 10/10 [00:00<00:00, 13.24it/s]\n",
      "Chain 0: 100%|██████████| 10/10 [00:00<00:00, 13.21it/s]\n",
      "Chain 0: 100%|██████████| 10/10 [00:00<00:00, 13.48it/s]\n"
     ]
    },
    {
     "name": "stdout",
     "output_type": "stream",
     "text": [
      "elasticity: 100.0\n",
      "lr: 1.0e-06\n",
      "noise_level: 0.1\n",
      "num_chains: 1\n",
      "num_draws: 10\n",
      "repeats: 5\n",
      "rlct/0: -0.004748706706280293\n",
      "rlct/1: -0.0019108927276807023\n",
      "rlct/2: 0.002595392732418125\n",
      "rlct/3: -0.0038503079571291727\n",
      "rlct/4: 0.0029019822093084334\n",
      "rlct/mean: -0.0010025064898727216\n",
      "rlct/std: 0.0031987205451915767\n",
      "\n"
     ]
    },
    {
     "name": "stderr",
     "output_type": "stream",
     "text": [
      "Chain 0: 100%|██████████| 10/10 [00:00<00:00, 13.49it/s]\n",
      "Chain 0: 100%|██████████| 10/10 [00:00<00:00, 13.51it/s]\n",
      "Chain 0: 100%|██████████| 10/10 [00:00<00:00, 13.53it/s]\n",
      "Chain 0: 100%|██████████| 10/10 [00:00<00:00, 13.07it/s]\n",
      "Chain 0: 100%|██████████| 10/10 [00:00<00:00, 13.68it/s]\n"
     ]
    },
    {
     "name": "stdout",
     "output_type": "stream",
     "text": [
      "elasticity: 1000.0\n",
      "lr: 1.0e-06\n",
      "noise_level: 0.1\n",
      "num_chains: 1\n",
      "num_draws: 10\n",
      "repeats: 5\n",
      "rlct/0: 0.0010410042949136362\n",
      "rlct/1: 0.002352960171237477\n",
      "rlct/2: -0.0012121358239821313\n",
      "rlct/3: 0.0034581466230127677\n",
      "rlct/4: -0.0004919787753044849\n",
      "rlct/mean: 0.0010295992979754529\n",
      "rlct/std: 0.0017314636799474806\n",
      "\n"
     ]
    },
    {
     "name": "stderr",
     "output_type": "stream",
     "text": [
      "Chain 0: 100%|██████████| 10/10 [00:00<00:00, 13.60it/s]\n",
      "Chain 0: 100%|██████████| 10/10 [00:00<00:00, 13.47it/s]\n",
      "Chain 0: 100%|██████████| 10/10 [00:00<00:00, 13.02it/s]\n",
      "Chain 0: 100%|██████████| 10/10 [00:00<00:00, 13.29it/s]\n",
      "Chain 0: 100%|██████████| 10/10 [00:00<00:00, 13.70it/s]\n"
     ]
    },
    {
     "name": "stdout",
     "output_type": "stream",
     "text": [
      "elasticity: 10.0\n",
      "lr: 1.0e-06\n",
      "noise_level: 0.3\n",
      "num_chains: 1\n",
      "num_draws: 10\n",
      "repeats: 5\n",
      "rlct/0: 0.009818265881103884\n",
      "rlct/1: -0.0012406496219043962\n",
      "rlct/2: 0.002652432513646385\n",
      "rlct/3: 0.0034510138216094417\n",
      "rlct/4: 0.006866369728894111\n",
      "rlct/mean: 0.004309486464669885\n",
      "rlct/std: 0.003772826959741904\n",
      "\n"
     ]
    },
    {
     "name": "stderr",
     "output_type": "stream",
     "text": [
      "Chain 0: 100%|██████████| 10/10 [00:00<00:00, 13.40it/s]\n",
      "Chain 0: 100%|██████████| 10/10 [00:00<00:00, 13.12it/s]\n",
      "Chain 0: 100%|██████████| 10/10 [00:00<00:00, 13.54it/s]\n",
      "Chain 0: 100%|██████████| 10/10 [00:00<00:00, 13.44it/s]\n",
      "Chain 0: 100%|██████████| 10/10 [00:00<00:00, 13.56it/s]\n"
     ]
    },
    {
     "name": "stdout",
     "output_type": "stream",
     "text": [
      "elasticity: 100.0\n",
      "lr: 1.0e-06\n",
      "noise_level: 0.3\n",
      "num_chains: 1\n",
      "num_draws: 10\n",
      "repeats: 5\n",
      "rlct/0: 0.0020534956622895403\n",
      "rlct/1: 0.004734447196165515\n",
      "rlct/2: 0.0013119497836319837\n",
      "rlct/3: 0.008370837260420852\n",
      "rlct/4: 0.00602500727943304\n",
      "rlct/mean: 0.004499147436388186\n",
      "rlct/std: 0.0025889394666145722\n",
      "\n"
     ]
    },
    {
     "name": "stderr",
     "output_type": "stream",
     "text": [
      "Chain 0: 100%|██████████| 10/10 [00:00<00:00, 13.06it/s]\n",
      "Chain 0: 100%|██████████| 10/10 [00:00<00:00, 13.09it/s]\n",
      "Chain 0: 100%|██████████| 10/10 [00:00<00:00, 13.75it/s]\n",
      "Chain 0: 100%|██████████| 10/10 [00:00<00:00, 12.05it/s]\n",
      "Chain 0: 100%|██████████| 10/10 [00:00<00:00, 13.73it/s]\n"
     ]
    },
    {
     "name": "stdout",
     "output_type": "stream",
     "text": [
      "elasticity: 1000.0\n",
      "lr: 1.0e-06\n",
      "noise_level: 0.3\n",
      "num_chains: 1\n",
      "num_draws: 10\n",
      "repeats: 5\n",
      "rlct/0: 0.0014260310868576018\n",
      "rlct/1: 0.0008627469275182207\n",
      "rlct/2: 0.0038431664518803273\n",
      "rlct/3: 0.004320890068992777\n",
      "rlct/4: 0.006131964485100851\n",
      "rlct/mean: 0.0033169598040699555\n",
      "rlct/std: 0.0019394737958665172\n",
      "\n"
     ]
    },
    {
     "name": "stderr",
     "output_type": "stream",
     "text": [
      "Chain 0: 100%|██████████| 10/10 [00:00<00:00, 13.03it/s]\n",
      "Chain 0: 100%|██████████| 10/10 [00:00<00:00, 12.29it/s]\n",
      "Chain 0: 100%|██████████| 10/10 [00:00<00:00, 13.02it/s]\n",
      "Chain 0: 100%|██████████| 10/10 [00:00<00:00, 13.14it/s]\n",
      "Chain 0: 100%|██████████| 10/10 [00:00<00:00, 12.84it/s]\n"
     ]
    },
    {
     "name": "stdout",
     "output_type": "stream",
     "text": [
      "elasticity: 10.0\n",
      "lr: 1.0e-06\n",
      "noise_level: 1.0\n",
      "num_chains: 1\n",
      "num_draws: 10\n",
      "repeats: 5\n",
      "rlct/0: 0.06340872183378228\n",
      "rlct/1: 0.06289536467311252\n",
      "rlct/2: 0.04699504912019368\n",
      "rlct/3: 0.046659918863460006\n",
      "rlct/4: 0.050909514863417056\n",
      "rlct/mean: 0.0541737138707931\n",
      "rlct/std: 0.007483286750720563\n",
      "\n"
     ]
    },
    {
     "name": "stderr",
     "output_type": "stream",
     "text": [
      "Chain 0: 100%|██████████| 10/10 [00:00<00:00, 12.55it/s]\n",
      "Chain 0: 100%|██████████| 10/10 [00:00<00:00, 13.58it/s]\n",
      "Chain 0: 100%|██████████| 10/10 [00:00<00:00, 13.08it/s]\n",
      "Chain 0: 100%|██████████| 10/10 [00:00<00:00, 12.17it/s]\n",
      "Chain 0: 100%|██████████| 10/10 [00:00<00:00, 12.38it/s]\n"
     ]
    },
    {
     "name": "stdout",
     "output_type": "stream",
     "text": [
      "elasticity: 100.0\n",
      "lr: 1.0e-06\n",
      "noise_level: 1.0\n",
      "num_chains: 1\n",
      "num_draws: 10\n",
      "repeats: 5\n",
      "rlct/0: 0.04452800068265416\n",
      "rlct/1: 0.06073489439746413\n",
      "rlct/2: 0.0579683918955913\n",
      "rlct/3: 0.06644618462091087\n",
      "rlct/4: 0.05429634478739574\n",
      "rlct/mean: 0.05679476327680324\n",
      "rlct/std: 0.007304348442315213\n",
      "\n"
     ]
    },
    {
     "name": "stderr",
     "output_type": "stream",
     "text": [
      "Chain 0: 100%|██████████| 10/10 [00:00<00:00, 12.32it/s]\n",
      "Chain 0: 100%|██████████| 10/10 [00:00<00:00, 12.59it/s]\n",
      "Chain 0: 100%|██████████| 10/10 [00:00<00:00, 12.95it/s]\n",
      "Chain 0: 100%|██████████| 10/10 [00:00<00:00, 13.18it/s]\n",
      "Chain 0: 100%|██████████| 10/10 [00:00<00:00, 13.13it/s]\n"
     ]
    },
    {
     "name": "stdout",
     "output_type": "stream",
     "text": [
      "elasticity: 1000.0\n",
      "lr: 1.0e-06\n",
      "noise_level: 1.0\n",
      "num_chains: 1\n",
      "num_draws: 10\n",
      "repeats: 5\n",
      "rlct/0: 0.056749135455589565\n",
      "rlct/1: 0.0743250021979533\n",
      "rlct/2: 0.04556900584795236\n",
      "rlct/3: 0.05081682326055589\n",
      "rlct/4: 0.04114828702277232\n",
      "rlct/mean: 0.05372165075696469\n",
      "rlct/std: 0.01154692055562812\n",
      "\n"
     ]
    },
    {
     "name": "stderr",
     "output_type": "stream",
     "text": [
      "Chain 0: 100%|██████████| 30/30 [00:02<00:00, 13.07it/s]\n",
      "Chain 0: 100%|██████████| 30/30 [00:02<00:00, 13.39it/s]\n",
      "Chain 0: 100%|██████████| 30/30 [00:02<00:00, 12.98it/s]\n",
      "Chain 0: 100%|██████████| 30/30 [00:02<00:00, 13.38it/s]\n",
      "Chain 0: 100%|██████████| 30/30 [00:02<00:00, 12.91it/s]\n"
     ]
    },
    {
     "name": "stdout",
     "output_type": "stream",
     "text": [
      "elasticity: 10.0\n",
      "lr: 1.0e-06\n",
      "noise_level: 0.1\n",
      "num_chains: 1\n",
      "num_draws: 30\n",
      "repeats: 5\n",
      "rlct/0: 0.0024385273864126473\n",
      "rlct/1: 0.0005870561022225683\n",
      "rlct/2: 0.001849090492312281\n",
      "rlct/3: 0.003812278535028504\n",
      "rlct/4: 0.001908509614777425\n",
      "rlct/mean: 0.0021190924261506846\n",
      "rlct/std: 0.0010424297919468621\n",
      "\n"
     ]
    },
    {
     "name": "stderr",
     "output_type": "stream",
     "text": [
      "Chain 0: 100%|██████████| 30/30 [00:02<00:00, 13.77it/s]\n",
      "Chain 0: 100%|██████████| 30/30 [00:02<00:00, 13.69it/s]\n",
      "Chain 0: 100%|██████████| 30/30 [00:02<00:00, 13.95it/s]\n",
      "Chain 0: 100%|██████████| 30/30 [00:02<00:00, 13.47it/s]\n",
      "Chain 0: 100%|██████████| 30/30 [00:02<00:00, 13.71it/s]\n"
     ]
    },
    {
     "name": "stdout",
     "output_type": "stream",
     "text": [
      "elasticity: 100.0\n",
      "lr: 1.0e-06\n",
      "noise_level: 0.1\n",
      "num_chains: 1\n",
      "num_draws: 30\n",
      "repeats: 5\n",
      "rlct/0: 0.0007035173269414357\n",
      "rlct/1: 0.0036387801402350383\n",
      "rlct/2: 0.0015710148133442534\n",
      "rlct/3: 0.00569940280136423\n",
      "rlct/4: -5.229125324094347e-05\n",
      "rlct/mean: 0.0023120847657288027\n",
      "rlct/std: 0.0020957572345007285\n",
      "\n"
     ]
    },
    {
     "name": "stderr",
     "output_type": "stream",
     "text": [
      "Chain 0: 100%|██████████| 30/30 [00:02<00:00, 13.12it/s]\n",
      "Chain 0: 100%|██████████| 30/30 [00:02<00:00, 13.50it/s]\n",
      "Chain 0: 100%|██████████| 30/30 [00:02<00:00, 13.20it/s]\n",
      "Chain 0: 100%|██████████| 30/30 [00:02<00:00, 13.00it/s]\n",
      "Chain 0: 100%|██████████| 30/30 [00:02<00:00, 13.36it/s]\n"
     ]
    },
    {
     "name": "stdout",
     "output_type": "stream",
     "text": [
      "elasticity: 1000.0\n",
      "lr: 1.0e-06\n",
      "noise_level: 0.1\n",
      "num_chains: 1\n",
      "num_draws: 30\n",
      "repeats: 5\n",
      "rlct/0: 0.0020083392413492193\n",
      "rlct/1: 0.0017825495933148103\n",
      "rlct/2: 0.0032109565398711006\n",
      "rlct/3: 0.0038099006444325353\n",
      "rlct/4: 0.0007391659571643068\n",
      "rlct/mean: 0.002310182395226394\n",
      "rlct/std: 0.0010861074715256508\n",
      "\n"
     ]
    },
    {
     "name": "stderr",
     "output_type": "stream",
     "text": [
      "Chain 0: 100%|██████████| 30/30 [00:02<00:00, 13.50it/s]\n",
      "Chain 0: 100%|██████████| 30/30 [00:02<00:00, 13.95it/s]\n",
      "Chain 0: 100%|██████████| 30/30 [00:02<00:00, 13.40it/s]\n",
      "Chain 0: 100%|██████████| 30/30 [00:02<00:00, 13.60it/s]\n",
      "Chain 0: 100%|██████████| 30/30 [00:02<00:00, 13.24it/s]\n"
     ]
    },
    {
     "name": "stdout",
     "output_type": "stream",
     "text": [
      "elasticity: 10.0\n",
      "lr: 1.0e-06\n",
      "noise_level: 0.3\n",
      "num_chains: 1\n",
      "num_draws: 30\n",
      "repeats: 5\n",
      "rlct/0: 0.013899118106946657\n",
      "rlct/1: 0.011555652670658334\n",
      "rlct/2: 0.014562217096320456\n",
      "rlct/3: 0.017511738549344288\n",
      "rlct/4: 0.00563285087749576\n",
      "rlct/mean: 0.012632315460153098\n",
      "rlct/std: 0.003982205071582673\n",
      "\n"
     ]
    },
    {
     "name": "stderr",
     "output_type": "stream",
     "text": [
      "Chain 0: 100%|██████████| 30/30 [00:02<00:00, 13.79it/s]\n",
      "Chain 0: 100%|██████████| 30/30 [00:02<00:00, 13.75it/s]\n",
      "Chain 0: 100%|██████████| 30/30 [00:02<00:00, 13.80it/s]\n",
      "Chain 0: 100%|██████████| 30/30 [00:02<00:00, 13.62it/s]\n",
      "Chain 0: 100%|██████████| 30/30 [00:02<00:00, 13.64it/s]\n"
     ]
    },
    {
     "name": "stdout",
     "output_type": "stream",
     "text": [
      "elasticity: 100.0\n",
      "lr: 1.0e-06\n",
      "noise_level: 0.3\n",
      "num_chains: 1\n",
      "num_draws: 30\n",
      "repeats: 5\n",
      "rlct/0: 0.0069852085540807645\n",
      "rlct/1: 0.01609046034239676\n",
      "rlct/2: 0.015674526485140804\n",
      "rlct/3: 0.01210467877052385\n",
      "rlct/4: 0.01093533714380803\n",
      "rlct/mean: 0.012358042259190042\n",
      "rlct/std: 0.003343221120246469\n",
      "\n"
     ]
    },
    {
     "name": "stderr",
     "output_type": "stream",
     "text": [
      "Chain 0: 100%|██████████| 30/30 [00:02<00:00, 13.49it/s]\n",
      "Chain 0: 100%|██████████| 30/30 [00:02<00:00, 13.45it/s]\n",
      "Chain 0: 100%|██████████| 30/30 [00:02<00:00, 13.35it/s]\n",
      "Chain 0: 100%|██████████| 30/30 [00:02<00:00, 12.83it/s]\n",
      "Chain 0: 100%|██████████| 30/30 [00:02<00:00, 13.17it/s]\n"
     ]
    },
    {
     "name": "stdout",
     "output_type": "stream",
     "text": [
      "elasticity: 1000.0\n",
      "lr: 1.0e-06\n",
      "noise_level: 0.3\n",
      "num_chains: 1\n",
      "num_draws: 30\n",
      "repeats: 5\n",
      "rlct/0: 0.019470162397151252\n",
      "rlct/1: 0.008209225997581723\n",
      "rlct/2: 0.016534907997574986\n",
      "rlct/3: 0.009205075322195935\n",
      "rlct/4: 0.008675057840688895\n",
      "rlct/mean: 0.012418885911038558\n",
      "rlct/std: 0.004663222096549164\n",
      "\n"
     ]
    },
    {
     "name": "stderr",
     "output_type": "stream",
     "text": [
      "Chain 0: 100%|██████████| 30/30 [00:02<00:00, 12.91it/s]\n",
      "Chain 0: 100%|██████████| 30/30 [00:02<00:00, 12.52it/s]\n",
      "Chain 0: 100%|██████████| 30/30 [00:02<00:00, 13.24it/s]\n",
      "Chain 0: 100%|██████████| 30/30 [00:02<00:00, 13.03it/s]\n",
      "Chain 0: 100%|██████████| 30/30 [00:02<00:00, 12.92it/s]\n"
     ]
    },
    {
     "name": "stdout",
     "output_type": "stream",
     "text": [
      "elasticity: 10.0\n",
      "lr: 1.0e-06\n",
      "noise_level: 1.0\n",
      "num_chains: 1\n",
      "num_draws: 30\n",
      "repeats: 5\n",
      "rlct/0: 0.24968407433301587\n",
      "rlct/1: 0.26696503186904846\n",
      "rlct/2: 0.1986442930755013\n",
      "rlct/3: 0.23765800434330245\n",
      "rlct/4: 0.3962475334046822\n",
      "rlct/mean: 0.26983978740511005\n",
      "rlct/std: 0.06707890996640249\n",
      "\n"
     ]
    },
    {
     "name": "stderr",
     "output_type": "stream",
     "text": [
      "Chain 0: 100%|██████████| 30/30 [00:02<00:00, 12.52it/s]\n",
      "Chain 0: 100%|██████████| 30/30 [00:02<00:00, 12.68it/s]\n",
      "Chain 0: 100%|██████████| 30/30 [00:02<00:00, 12.96it/s]\n",
      "Chain 0: 100%|██████████| 30/30 [00:02<00:00, 13.13it/s]\n",
      "Chain 0: 100%|██████████| 30/30 [00:02<00:00, 13.74it/s]\n"
     ]
    },
    {
     "name": "stdout",
     "output_type": "stream",
     "text": [
      "elasticity: 100.0\n",
      "lr: 1.0e-06\n",
      "noise_level: 1.0\n",
      "num_chains: 1\n",
      "num_draws: 30\n",
      "repeats: 5\n",
      "rlct/0: 0.3342731060886938\n",
      "rlct/1: 0.2584804338970453\n",
      "rlct/2: 0.1971065492919121\n",
      "rlct/3: 0.3304473818531066\n",
      "rlct/4: 0.32573860229737844\n",
      "rlct/mean: 0.28920921468562727\n",
      "rlct/std: 0.05383845436189507\n",
      "\n"
     ]
    },
    {
     "name": "stderr",
     "output_type": "stream",
     "text": [
      "Chain 0: 100%|██████████| 30/30 [00:02<00:00, 13.42it/s]\n",
      "Chain 0: 100%|██████████| 30/30 [00:02<00:00, 13.74it/s]\n",
      "Chain 0: 100%|██████████| 30/30 [00:02<00:00, 13.67it/s]\n",
      "Chain 0: 100%|██████████| 30/30 [00:02<00:00, 13.48it/s]\n",
      "Chain 0: 100%|██████████| 30/30 [00:02<00:00, 13.27it/s]\n"
     ]
    },
    {
     "name": "stdout",
     "output_type": "stream",
     "text": [
      "elasticity: 1000.0\n",
      "lr: 1.0e-06\n",
      "noise_level: 1.0\n",
      "num_chains: 1\n",
      "num_draws: 30\n",
      "repeats: 5\n",
      "rlct/0: 0.35246835791682185\n",
      "rlct/1: 0.2876185470533048\n",
      "rlct/2: 0.21218692255919366\n",
      "rlct/3: 0.23883697416393204\n",
      "rlct/4: 0.30537631430267026\n",
      "rlct/mean: 0.27929742319918455\n",
      "rlct/std: 0.049485760746138474\n",
      "\n"
     ]
    },
    {
     "name": "stderr",
     "output_type": "stream",
     "text": [
      "Chain 0: 100%|██████████| 100/100 [00:07<00:00, 13.60it/s]\n",
      "Chain 0: 100%|██████████| 100/100 [00:07<00:00, 12.92it/s]\n",
      "Chain 0: 100%|██████████| 100/100 [00:07<00:00, 12.95it/s]\n",
      "Chain 0: 100%|██████████| 100/100 [00:07<00:00, 13.11it/s]\n",
      "Chain 0: 100%|██████████| 100/100 [00:07<00:00, 13.77it/s]\n"
     ]
    },
    {
     "name": "stdout",
     "output_type": "stream",
     "text": [
      "elasticity: 10.0\n",
      "lr: 1.0e-06\n",
      "noise_level: 0.1\n",
      "num_chains: 1\n",
      "num_draws: 100\n",
      "repeats: 5\n",
      "rlct/0: 0.000858469944868331\n",
      "rlct/1: 0.001860980960740726\n",
      "rlct/2: 0.004123390413999509\n",
      "rlct/3: 0.005048168604074584\n",
      "rlct/4: 0.0023722180387188182\n",
      "rlct/mean: 0.0028526455924803937\n",
      "rlct/std: 0.0015248645569782887\n",
      "\n"
     ]
    },
    {
     "name": "stderr",
     "output_type": "stream",
     "text": [
      "Chain 0: 100%|██████████| 100/100 [00:07<00:00, 12.59it/s]\n",
      "Chain 0: 100%|██████████| 100/100 [00:07<00:00, 13.06it/s]\n",
      "Chain 0: 100%|██████████| 100/100 [00:07<00:00, 12.83it/s]\n",
      "Chain 0: 100%|██████████| 100/100 [00:07<00:00, 13.02it/s]\n",
      "Chain 0: 100%|██████████| 100/100 [00:07<00:00, 12.96it/s]\n"
     ]
    },
    {
     "name": "stdout",
     "output_type": "stream",
     "text": [
      "elasticity: 100.0\n",
      "lr: 1.0e-06\n",
      "noise_level: 0.1\n",
      "num_chains: 1\n",
      "num_draws: 100\n",
      "repeats: 5\n",
      "rlct/0: 0.007421097311780082\n",
      "rlct/1: 0.0023166016843868447\n",
      "rlct/2: 0.007421094004318778\n",
      "rlct/3: 0.007770481769282781\n",
      "rlct/4: 0.004258856021205371\n",
      "rlct/mean: 0.005837626158194771\n",
      "rlct/std: 0.0021744337478002734\n",
      "\n"
     ]
    },
    {
     "name": "stderr",
     "output_type": "stream",
     "text": [
      "Chain 0: 100%|██████████| 100/100 [00:07<00:00, 13.00it/s]\n",
      "Chain 0: 100%|██████████| 100/100 [00:07<00:00, 13.11it/s]\n",
      "Chain 0: 100%|██████████| 100/100 [00:07<00:00, 13.36it/s]\n",
      "Chain 0: 100%|██████████| 100/100 [00:07<00:00, 13.40it/s]\n",
      "Chain 0: 100%|██████████| 100/100 [00:07<00:00, 13.23it/s]\n"
     ]
    },
    {
     "name": "stdout",
     "output_type": "stream",
     "text": [
      "elasticity: 1000.0\n",
      "lr: 1.0e-06\n",
      "noise_level: 0.1\n",
      "num_chains: 1\n",
      "num_draws: 100\n",
      "repeats: 5\n",
      "rlct/0: 0.0072556736775648886\n",
      "rlct/1: 0.008700973076518466\n",
      "rlct/2: 0.006339455284366091\n",
      "rlct/3: 0.0038845293887893803\n",
      "rlct/4: 0.002574000769053833\n",
      "rlct/mean: 0.005750926439258532\n",
      "rlct/std: 0.0022311297711575815\n",
      "\n"
     ]
    },
    {
     "name": "stderr",
     "output_type": "stream",
     "text": [
      "Chain 0: 100%|██████████| 100/100 [00:07<00:00, 12.98it/s]\n",
      "Chain 0: 100%|██████████| 100/100 [00:07<00:00, 13.02it/s]\n",
      "Chain 0: 100%|██████████| 100/100 [00:07<00:00, 13.01it/s]\n",
      "Chain 0: 100%|██████████| 100/100 [00:07<00:00, 13.01it/s]\n",
      "Chain 0: 100%|██████████| 100/100 [00:08<00:00, 12.29it/s]\n"
     ]
    },
    {
     "name": "stdout",
     "output_type": "stream",
     "text": [
      "elasticity: 10.0\n",
      "lr: 1.0e-06\n",
      "noise_level: 0.3\n",
      "num_chains: 1\n",
      "num_draws: 100\n",
      "repeats: 5\n",
      "rlct/0: 0.0525580117157564\n",
      "rlct/1: 0.05158260569337045\n",
      "rlct/2: 0.05300079661729938\n",
      "rlct/3: 0.052461041824668535\n",
      "rlct/4: 0.04659076071811479\n",
      "rlct/mean: 0.05123864331384191\n",
      "rlct/std: 0.002369020814865146\n",
      "\n"
     ]
    },
    {
     "name": "stderr",
     "output_type": "stream",
     "text": [
      "Chain 0: 100%|██████████| 100/100 [00:08<00:00, 11.74it/s]\n",
      "Chain 0: 100%|██████████| 100/100 [00:08<00:00, 11.86it/s]\n",
      "Chain 0: 100%|██████████| 100/100 [00:08<00:00, 11.80it/s]\n",
      "Chain 0: 100%|██████████| 100/100 [00:07<00:00, 12.66it/s]\n",
      "Chain 0: 100%|██████████| 100/100 [00:07<00:00, 13.25it/s]\n"
     ]
    },
    {
     "name": "stdout",
     "output_type": "stream",
     "text": [
      "elasticity: 100.0\n",
      "lr: 1.0e-06\n",
      "noise_level: 0.3\n",
      "num_chains: 1\n",
      "num_draws: 100\n",
      "repeats: 5\n",
      "rlct/0: 0.04442175684416514\n",
      "rlct/1: 0.05837482022512965\n",
      "rlct/2: 0.05606391720951987\n",
      "rlct/3: 0.04172370155753548\n",
      "rlct/4: 0.07200555992654267\n",
      "rlct/mean: 0.054517951152578556\n",
      "rlct/std: 0.010850878977638099\n",
      "\n"
     ]
    },
    {
     "name": "stderr",
     "output_type": "stream",
     "text": [
      "Chain 0: 100%|██████████| 100/100 [00:07<00:00, 13.66it/s]\n",
      "Chain 0: 100%|██████████| 100/100 [00:07<00:00, 13.66it/s]\n",
      "Chain 0: 100%|██████████| 100/100 [00:07<00:00, 13.73it/s]\n",
      "Chain 0: 100%|██████████| 100/100 [00:07<00:00, 13.38it/s]\n",
      "Chain 0: 100%|██████████| 100/100 [00:07<00:00, 13.30it/s]\n"
     ]
    },
    {
     "name": "stdout",
     "output_type": "stream",
     "text": [
      "elasticity: 1000.0\n",
      "lr: 1.0e-06\n",
      "noise_level: 0.3\n",
      "num_chains: 1\n",
      "num_draws: 100\n",
      "repeats: 5\n",
      "rlct/0: 0.04291657037499848\n",
      "rlct/1: 0.058813319092023385\n",
      "rlct/2: 0.06554635417621023\n",
      "rlct/3: 0.05254302656604065\n",
      "rlct/4: 0.0629780597353175\n",
      "rlct/mean: 0.05655946598891805\n",
      "rlct/std: 0.008115451252426287\n",
      "\n"
     ]
    },
    {
     "name": "stderr",
     "output_type": "stream",
     "text": [
      "Chain 0: 100%|██████████| 100/100 [00:07<00:00, 13.17it/s]\n",
      "Chain 0: 100%|██████████| 100/100 [00:07<00:00, 13.22it/s]\n",
      "Chain 0: 100%|██████████| 100/100 [00:07<00:00, 13.45it/s]\n",
      "Chain 0: 100%|██████████| 100/100 [00:07<00:00, 13.03it/s]\n",
      "Chain 0: 100%|██████████| 100/100 [00:07<00:00, 13.64it/s]\n"
     ]
    },
    {
     "name": "stdout",
     "output_type": "stream",
     "text": [
      "elasticity: 10.0\n",
      "lr: 1.0e-06\n",
      "noise_level: 1.0\n",
      "num_chains: 1\n",
      "num_draws: 100\n",
      "repeats: 5\n",
      "rlct/0: 6.109099403802865\n",
      "rlct/1: 3.149940387581705\n",
      "rlct/2: 4.711287767436394\n",
      "rlct/3: 4.632508839414795\n",
      "rlct/4: 4.261732688802213\n",
      "rlct/mean: 4.572913817407594\n",
      "rlct/std: 0.9491314081130989\n",
      "\n"
     ]
    },
    {
     "name": "stderr",
     "output_type": "stream",
     "text": [
      "Chain 0: 100%|██████████| 100/100 [00:07<00:00, 13.38it/s]\n",
      "Chain 0: 100%|██████████| 100/100 [00:07<00:00, 13.60it/s]\n",
      "Chain 0: 100%|██████████| 100/100 [00:07<00:00, 13.53it/s]\n",
      "Chain 0: 100%|██████████| 100/100 [00:07<00:00, 13.35it/s]\n",
      "Chain 0: 100%|██████████| 100/100 [00:07<00:00, 13.10it/s]\n"
     ]
    },
    {
     "name": "stdout",
     "output_type": "stream",
     "text": [
      "elasticity: 100.0\n",
      "lr: 1.0e-06\n",
      "noise_level: 1.0\n",
      "num_chains: 1\n",
      "num_draws: 100\n",
      "repeats: 5\n",
      "rlct/0: 4.334039915658774\n",
      "rlct/1: 5.418937706487139\n",
      "rlct/2: 5.6501785848367225\n",
      "rlct/3: 4.683662871584472\n",
      "rlct/4: 5.002214038933416\n",
      "rlct/mean: 5.017806623500105\n",
      "rlct/std: 0.47754215093810687\n",
      "\n"
     ]
    },
    {
     "name": "stderr",
     "output_type": "stream",
     "text": [
      "Chain 0: 100%|██████████| 100/100 [00:07<00:00, 13.60it/s]\n",
      "Chain 0: 100%|██████████| 100/100 [00:07<00:00, 13.01it/s]\n",
      "Chain 0: 100%|██████████| 100/100 [00:07<00:00, 13.27it/s]\n",
      "Chain 0: 100%|██████████| 100/100 [00:07<00:00, 13.67it/s]\n",
      "Chain 0: 100%|██████████| 100/100 [00:07<00:00, 13.31it/s]\n"
     ]
    },
    {
     "name": "stdout",
     "output_type": "stream",
     "text": [
      "elasticity: 1000.0\n",
      "lr: 1.0e-06\n",
      "noise_level: 1.0\n",
      "num_chains: 1\n",
      "num_draws: 100\n",
      "repeats: 5\n",
      "rlct/0: 3.516549816555753\n",
      "rlct/1: 5.616151757845448\n",
      "rlct/2: 6.011208620791943\n",
      "rlct/3: 4.966888789588178\n",
      "rlct/4: 4.067982848732397\n",
      "rlct/mean: 4.835756366702744\n",
      "rlct/std: 0.9314164243064693\n",
      "\n"
     ]
    },
    {
     "name": "stderr",
     "output_type": "stream",
     "text": [
      "Chain 0: 100%|██████████| 300/300 [00:22<00:00, 13.41it/s]\n",
      "Chain 0: 100%|██████████| 300/300 [00:22<00:00, 13.22it/s]\n",
      "Chain 0: 100%|██████████| 300/300 [00:22<00:00, 13.27it/s]\n",
      "Chain 0: 100%|██████████| 300/300 [00:22<00:00, 13.46it/s]\n",
      "Chain 0: 100%|██████████| 300/300 [00:22<00:00, 13.35it/s]\n"
     ]
    },
    {
     "name": "stdout",
     "output_type": "stream",
     "text": [
      "elasticity: 10.0\n",
      "lr: 1.0e-06\n",
      "noise_level: 0.1\n",
      "num_chains: 1\n",
      "num_draws: 300\n",
      "repeats: 5\n",
      "rlct/0: 0.017056594303214736\n",
      "rlct/1: 0.009675660074226025\n",
      "rlct/2: 0.018053630426178385\n",
      "rlct/3: 0.014453122951513495\n",
      "rlct/4: 0.015167340234893191\n",
      "rlct/mean: 0.014881269598005167\n",
      "rlct/std: 0.0029037709025153706\n",
      "\n"
     ]
    },
    {
     "name": "stderr",
     "output_type": "stream",
     "text": [
      "Chain 0: 100%|██████████| 300/300 [00:22<00:00, 13.15it/s]\n",
      "Chain 0: 100%|██████████| 300/300 [00:22<00:00, 13.32it/s]\n",
      "Chain 0: 100%|██████████| 300/300 [00:22<00:00, 13.53it/s]\n",
      "Chain 0: 100%|██████████| 300/300 [00:21<00:00, 13.88it/s]\n",
      "Chain 0: 100%|██████████| 300/300 [00:21<00:00, 13.95it/s]\n"
     ]
    },
    {
     "name": "stdout",
     "output_type": "stream",
     "text": [
      "elasticity: 100.0\n",
      "lr: 1.0e-06\n",
      "noise_level: 0.1\n",
      "num_chains: 1\n",
      "num_draws: 300\n",
      "repeats: 5\n",
      "rlct/0: 0.019916274140554364\n",
      "rlct/1: 0.01896201440098651\n",
      "rlct/2: 0.013143553234438828\n",
      "rlct/3: 0.015909818411457173\n",
      "rlct/4: 0.01660740154356178\n",
      "rlct/mean: 0.01690781234619973\n",
      "rlct/std: 0.0023885758792460926\n",
      "\n"
     ]
    },
    {
     "name": "stderr",
     "output_type": "stream",
     "text": [
      "Chain 0: 100%|██████████| 300/300 [00:22<00:00, 13.54it/s]\n",
      "Chain 0: 100%|██████████| 300/300 [00:22<00:00, 13.44it/s]\n",
      "Chain 0: 100%|██████████| 300/300 [00:22<00:00, 13.20it/s]\n",
      "Chain 0: 100%|██████████| 300/300 [00:22<00:00, 13.23it/s]\n",
      "Chain 0: 100%|██████████| 300/300 [00:22<00:00, 13.55it/s]\n"
     ]
    },
    {
     "name": "stdout",
     "output_type": "stream",
     "text": [
      "elasticity: 1000.0\n",
      "lr: 1.0e-06\n",
      "noise_level: 0.1\n",
      "num_chains: 1\n",
      "num_draws: 300\n",
      "repeats: 5\n",
      "rlct/0: 0.01436922435056288\n",
      "rlct/1: 0.014561273947619939\n",
      "rlct/2: 0.0059838847427372485\n",
      "rlct/3: 0.014687232605480093\n",
      "rlct/4: 0.009934494974262744\n",
      "rlct/mean: 0.01190722212413258\n",
      "rlct/std: 0.003458655301205231\n",
      "\n"
     ]
    },
    {
     "name": "stderr",
     "output_type": "stream",
     "text": [
      "Chain 0: 100%|██████████| 300/300 [00:21<00:00, 13.77it/s]\n",
      "Chain 0: 100%|██████████| 300/300 [00:22<00:00, 13.50it/s]\n",
      "Chain 0: 100%|██████████| 300/300 [00:22<00:00, 13.06it/s]\n",
      "Chain 0: 100%|██████████| 300/300 [00:22<00:00, 13.60it/s]\n",
      "Chain 0: 100%|██████████| 300/300 [00:21<00:00, 13.76it/s]\n"
     ]
    },
    {
     "name": "stdout",
     "output_type": "stream",
     "text": [
      "elasticity: 10.0\n",
      "lr: 1.0e-06\n",
      "noise_level: 0.3\n",
      "num_chains: 1\n",
      "num_draws: 300\n",
      "repeats: 5\n",
      "rlct/0: 0.1954118681234894\n",
      "rlct/1: 0.2624773668938235\n",
      "rlct/2: 0.19925399054909965\n",
      "rlct/3: 0.18990809631951103\n",
      "rlct/4: 0.19645695640778493\n",
      "rlct/mean: 0.2087016556587417\n",
      "rlct/std: 0.027058582667902488\n",
      "\n"
     ]
    },
    {
     "name": "stderr",
     "output_type": "stream",
     "text": [
      "Chain 0: 100%|██████████| 300/300 [00:21<00:00, 13.75it/s]\n",
      "Chain 0: 100%|██████████| 300/300 [00:21<00:00, 13.81it/s]\n",
      "Chain 0: 100%|██████████| 300/300 [00:21<00:00, 13.83it/s]\n",
      "Chain 0: 100%|██████████| 300/300 [00:21<00:00, 13.71it/s]\n",
      "Chain 0: 100%|██████████| 300/300 [00:21<00:00, 13.76it/s]\n"
     ]
    },
    {
     "name": "stdout",
     "output_type": "stream",
     "text": [
      "elasticity: 100.0\n",
      "lr: 1.0e-06\n",
      "noise_level: 0.3\n",
      "num_chains: 1\n",
      "num_draws: 300\n",
      "repeats: 5\n",
      "rlct/0: 0.30711159998391624\n",
      "rlct/1: 0.26200426812305355\n",
      "rlct/2: 0.2516291490349237\n",
      "rlct/3: 0.23505176560391822\n",
      "rlct/4: 0.2518089477663222\n",
      "rlct/mean: 0.26152114610242677\n",
      "rlct/std: 0.024378389604258848\n",
      "\n"
     ]
    },
    {
     "name": "stderr",
     "output_type": "stream",
     "text": [
      "Chain 0: 100%|██████████| 300/300 [00:21<00:00, 13.78it/s]\n",
      "Chain 0: 100%|██████████| 300/300 [00:21<00:00, 13.94it/s]\n",
      "Chain 0: 100%|██████████| 300/300 [00:21<00:00, 13.84it/s]\n",
      "Chain 0: 100%|██████████| 300/300 [00:21<00:00, 13.82it/s]\n",
      "Chain 0: 100%|██████████| 300/300 [00:21<00:00, 13.85it/s]\n"
     ]
    },
    {
     "name": "stdout",
     "output_type": "stream",
     "text": [
      "elasticity: 1000.0\n",
      "lr: 1.0e-06\n",
      "noise_level: 0.3\n",
      "num_chains: 1\n",
      "num_draws: 300\n",
      "repeats: 5\n",
      "rlct/0: 0.19356979255349932\n",
      "rlct/1: 0.2222830385446025\n",
      "rlct/2: 0.22242659750960325\n",
      "rlct/3: 0.2575760802669178\n",
      "rlct/4: 0.17927875629788007\n",
      "rlct/mean: 0.2150268530345006\n",
      "rlct/std: 0.027041364792871773\n",
      "\n"
     ]
    },
    {
     "name": "stderr",
     "output_type": "stream",
     "text": [
      "Chain 0: 100%|██████████| 300/300 [00:21<00:00, 13.85it/s]\n",
      "Chain 0: 100%|██████████| 300/300 [00:21<00:00, 13.77it/s]\n",
      "Chain 0: 100%|██████████| 300/300 [00:21<00:00, 13.81it/s]\n",
      "Chain 0: 100%|██████████| 300/300 [00:21<00:00, 13.82it/s]\n",
      "Chain 0: 100%|██████████| 300/300 [00:21<00:00, 13.77it/s]\n"
     ]
    },
    {
     "name": "stdout",
     "output_type": "stream",
     "text": [
      "elasticity: 10.0\n",
      "lr: 1.0e-06\n",
      "noise_level: 1.0\n",
      "num_chains: 1\n",
      "num_draws: 300\n",
      "repeats: 5\n",
      "rlct/0: 32.24278567039114\n",
      "rlct/1: 29.01819636694245\n",
      "rlct/2: 28.86154356896061\n",
      "rlct/3: 31.815084736861685\n",
      "rlct/4: 30.73841007636609\n",
      "rlct/mean: 30.535204083904393\n",
      "rlct/std: 1.3926718183620512\n",
      "\n"
     ]
    },
    {
     "name": "stderr",
     "output_type": "stream",
     "text": [
      "Chain 0: 100%|██████████| 300/300 [00:21<00:00, 13.82it/s]\n",
      "Chain 0: 100%|██████████| 300/300 [00:21<00:00, 13.76it/s]\n",
      "Chain 0: 100%|██████████| 300/300 [00:21<00:00, 13.84it/s]\n",
      "Chain 0: 100%|██████████| 300/300 [00:21<00:00, 13.88it/s]\n",
      "Chain 0: 100%|██████████| 300/300 [00:21<00:00, 13.87it/s]\n"
     ]
    },
    {
     "name": "stdout",
     "output_type": "stream",
     "text": [
      "elasticity: 100.0\n",
      "lr: 1.0e-06\n",
      "noise_level: 1.0\n",
      "num_chains: 1\n",
      "num_draws: 300\n",
      "repeats: 5\n",
      "rlct/0: 35.92109766207888\n",
      "rlct/1: 32.3140452848192\n",
      "rlct/2: 32.0436509554262\n",
      "rlct/3: 31.989409474458657\n",
      "rlct/4: 29.584551831506182\n",
      "rlct/mean: 32.370551041657826\n",
      "rlct/std: 2.0309356643640943\n",
      "\n"
     ]
    },
    {
     "name": "stderr",
     "output_type": "stream",
     "text": [
      "Chain 0: 100%|██████████| 300/300 [00:21<00:00, 13.83it/s]\n",
      "Chain 0: 100%|██████████| 300/300 [00:21<00:00, 13.73it/s]\n",
      "Chain 0: 100%|██████████| 300/300 [00:21<00:00, 13.78it/s]\n",
      "Chain 0: 100%|██████████| 300/300 [00:21<00:00, 13.88it/s]\n",
      "Chain 0: 100%|██████████| 300/300 [00:21<00:00, 13.77it/s]\n"
     ]
    },
    {
     "name": "stdout",
     "output_type": "stream",
     "text": [
      "elasticity: 1000.0\n",
      "lr: 1.0e-06\n",
      "noise_level: 1.0\n",
      "num_chains: 1\n",
      "num_draws: 300\n",
      "repeats: 5\n",
      "rlct/0: 25.780034432347772\n",
      "rlct/1: 27.736547716113268\n",
      "rlct/2: 25.392148780236603\n",
      "rlct/3: 24.459108618018732\n",
      "rlct/4: 28.415771686644398\n",
      "rlct/mean: 26.356722246672156\n",
      "rlct/std: 1.4837460169019048\n",
      "\n"
     ]
    },
    {
     "name": "stderr",
     "output_type": "stream",
     "text": [
      "Chain 0: 100%|██████████| 1000/1000 [01:12<00:00, 13.82it/s]\n",
      "Chain 0: 100%|██████████| 1000/1000 [01:12<00:00, 13.76it/s]\n",
      "Chain 0: 100%|██████████| 1000/1000 [01:13<00:00, 13.65it/s]\n",
      "Chain 0: 100%|██████████| 1000/1000 [01:15<00:00, 13.29it/s]\n",
      "Chain 0: 100%|██████████| 1000/1000 [01:13<00:00, 13.65it/s]\n"
     ]
    },
    {
     "name": "stdout",
     "output_type": "stream",
     "text": [
      "elasticity: 10.0\n",
      "lr: 1.0e-06\n",
      "noise_level: 0.1\n",
      "num_chains: 1\n",
      "num_draws: 1000\n",
      "repeats: 5\n",
      "rlct/0: 0.06581186977960501\n",
      "rlct/1: 0.045198308562448816\n",
      "rlct/2: 0.05191814407342057\n",
      "rlct/3: 0.05978338265051016\n",
      "rlct/4: 0.0608802920324232\n",
      "rlct/mean: 0.056718399419681556\n",
      "rlct/std: 0.007282329575901727\n",
      "\n"
     ]
    },
    {
     "name": "stderr",
     "output_type": "stream",
     "text": [
      "Chain 0: 100%|██████████| 1000/1000 [01:12<00:00, 13.88it/s]\n",
      "Chain 0: 100%|██████████| 1000/1000 [01:12<00:00, 13.73it/s]\n",
      "Chain 0: 100%|██████████| 1000/1000 [01:13<00:00, 13.60it/s]\n",
      "Chain 0: 100%|██████████| 1000/1000 [01:14<00:00, 13.42it/s]\n",
      "Chain 0: 100%|██████████| 1000/1000 [01:14<00:00, 13.35it/s]\n"
     ]
    },
    {
     "name": "stdout",
     "output_type": "stream",
     "text": [
      "elasticity: 100.0\n",
      "lr: 1.0e-06\n",
      "noise_level: 0.1\n",
      "num_chains: 1\n",
      "num_draws: 1000\n",
      "repeats: 5\n",
      "rlct/0: 0.04641294114544516\n",
      "rlct/1: 0.045083224698073174\n",
      "rlct/2: 0.05830629032335404\n",
      "rlct/3: 0.0631816964978982\n",
      "rlct/4: 0.05684967312258669\n",
      "rlct/mean: 0.05396676515747145\n",
      "rlct/std: 0.007043225751143627\n",
      "\n"
     ]
    },
    {
     "name": "stderr",
     "output_type": "stream",
     "text": [
      "Chain 0: 100%|██████████| 1000/1000 [01:15<00:00, 13.32it/s]\n",
      "Chain 0: 100%|██████████| 1000/1000 [01:15<00:00, 13.24it/s]\n",
      "Chain 0: 100%|██████████| 1000/1000 [01:14<00:00, 13.48it/s]\n",
      "Chain 0: 100%|██████████| 1000/1000 [01:14<00:00, 13.47it/s]\n",
      "Chain 0: 100%|██████████| 1000/1000 [01:13<00:00, 13.55it/s]\n"
     ]
    },
    {
     "name": "stdout",
     "output_type": "stream",
     "text": [
      "elasticity: 1000.0\n",
      "lr: 1.0e-06\n",
      "noise_level: 0.1\n",
      "num_chains: 1\n",
      "num_draws: 1000\n",
      "repeats: 5\n",
      "rlct/0: 0.046057223012707836\n",
      "rlct/1: 0.03832781233169001\n",
      "rlct/2: 0.04230588919858204\n",
      "rlct/3: 0.04002908097368016\n",
      "rlct/4: 0.04210610291281307\n",
      "rlct/mean: 0.04176522168589462\n",
      "rlct/std: 0.0025946007168922668\n",
      "\n"
     ]
    },
    {
     "name": "stderr",
     "output_type": "stream",
     "text": [
      "Chain 0: 100%|██████████| 1000/1000 [01:15<00:00, 13.25it/s]\n",
      "Chain 0: 100%|██████████| 1000/1000 [01:17<00:00, 12.89it/s]\n",
      "Chain 0: 100%|██████████| 1000/1000 [01:15<00:00, 13.28it/s]\n",
      "Chain 0: 100%|██████████| 1000/1000 [01:14<00:00, 13.47it/s]\n",
      "Chain 0: 100%|██████████| 1000/1000 [01:14<00:00, 13.37it/s]\n"
     ]
    },
    {
     "name": "stdout",
     "output_type": "stream",
     "text": [
      "elasticity: 10.0\n",
      "lr: 1.0e-06\n",
      "noise_level: 0.3\n",
      "num_chains: 1\n",
      "num_draws: 1000\n",
      "repeats: 5\n",
      "rlct/0: 1.6997949335092284\n",
      "rlct/1: 1.5355077373992723\n",
      "rlct/2: 1.752248936603656\n",
      "rlct/3: 2.1808850621581186\n",
      "rlct/4: 1.7434163502245512\n",
      "rlct/mean: 1.7823706039789653\n",
      "rlct/std: 0.21400866260893558\n",
      "\n"
     ]
    },
    {
     "name": "stderr",
     "output_type": "stream",
     "text": [
      "Chain 0: 100%|██████████| 1000/1000 [01:15<00:00, 13.21it/s]\n",
      "Chain 0: 100%|██████████| 1000/1000 [01:15<00:00, 13.21it/s]\n",
      "Chain 0: 100%|██████████| 1000/1000 [01:15<00:00, 13.24it/s]\n",
      "Chain 0: 100%|██████████| 1000/1000 [01:12<00:00, 13.86it/s]\n",
      "Chain 0: 100%|██████████| 1000/1000 [01:13<00:00, 13.67it/s]\n"
     ]
    },
    {
     "name": "stdout",
     "output_type": "stream",
     "text": [
      "elasticity: 100.0\n",
      "lr: 1.0e-06\n",
      "noise_level: 0.3\n",
      "num_chains: 1\n",
      "num_draws: 1000\n",
      "repeats: 5\n",
      "rlct/0: 1.6984039123005812\n",
      "rlct/1: 1.6748984156359616\n",
      "rlct/2: 1.6564325540902651\n",
      "rlct/3: 1.7284963255097199\n",
      "rlct/4: 1.5041448964845223\n",
      "rlct/mean: 1.65247522080421\n",
      "rlct/std: 0.07798589401833934\n",
      "\n"
     ]
    },
    {
     "name": "stderr",
     "output_type": "stream",
     "text": [
      "Chain 0: 100%|██████████| 1000/1000 [01:12<00:00, 13.81it/s]\n",
      "Chain 0: 100%|██████████| 1000/1000 [01:14<00:00, 13.44it/s]\n",
      "Chain 0: 100%|██████████| 1000/1000 [01:13<00:00, 13.52it/s]\n",
      "Chain 0: 100%|██████████| 1000/1000 [01:16<00:00, 13.12it/s]\n",
      "Chain 0: 100%|██████████| 1000/1000 [01:14<00:00, 13.48it/s]\n"
     ]
    },
    {
     "name": "stdout",
     "output_type": "stream",
     "text": [
      "elasticity: 1000.0\n",
      "lr: 1.0e-06\n",
      "noise_level: 0.3\n",
      "num_chains: 1\n",
      "num_draws: 1000\n",
      "repeats: 5\n",
      "rlct/0: 1.0790351495483275\n",
      "rlct/1: 0.8772416705124374\n",
      "rlct/2: 0.7957878908643148\n",
      "rlct/3: 0.9128371587943256\n",
      "rlct/4: 0.8845736209930019\n",
      "rlct/mean: 0.9098950981424814\n",
      "rlct/std: 0.09310734772755155\n",
      "\n"
     ]
    },
    {
     "name": "stderr",
     "output_type": "stream",
     "text": [
      "Chain 0: 100%|██████████| 1000/1000 [01:13<00:00, 13.54it/s]\n",
      "Chain 0: 100%|██████████| 1000/1000 [01:15<00:00, 13.26it/s]\n",
      "Chain 0: 100%|██████████| 1000/1000 [01:15<00:00, 13.30it/s]\n",
      "Chain 0: 100%|██████████| 1000/1000 [01:14<00:00, 13.51it/s]\n",
      "Chain 0: 100%|██████████| 1000/1000 [01:12<00:00, 13.73it/s]\n"
     ]
    },
    {
     "name": "stdout",
     "output_type": "stream",
     "text": [
      "elasticity: 10.0\n",
      "lr: 1.0e-06\n",
      "noise_level: 1.0\n",
      "num_chains: 1\n",
      "num_draws: 1000\n",
      "repeats: 5\n",
      "rlct/0: 1550629870.0864787\n",
      "rlct/1: 114.04236331387919\n",
      "rlct/2: 2556971410.4926214\n",
      "rlct/3: 119.67014314882404\n",
      "rlct/4: 114.70675487623978\n",
      "rlct/mean: 821520325.7996724\n",
      "rlct/std: 1055279826.356126\n",
      "\n"
     ]
    },
    {
     "name": "stderr",
     "output_type": "stream",
     "text": [
      "Chain 0: 100%|██████████| 1000/1000 [01:13<00:00, 13.65it/s]\n",
      "Chain 0: 100%|██████████| 1000/1000 [01:12<00:00, 13.79it/s]\n",
      "Chain 0: 100%|██████████| 1000/1000 [01:14<00:00, 13.39it/s]\n",
      "Chain 0: 100%|██████████| 1000/1000 [01:13<00:00, 13.65it/s]\n",
      "Chain 0: 100%|██████████| 1000/1000 [01:12<00:00, 13.77it/s]\n"
     ]
    },
    {
     "name": "stdout",
     "output_type": "stream",
     "text": [
      "elasticity: 100.0\n",
      "lr: 1.0e-06\n",
      "noise_level: 1.0\n",
      "num_chains: 1\n",
      "num_draws: 1000\n",
      "repeats: 5\n",
      "rlct/0: 116.69548373461583\n",
      "rlct/1: 110.26573205049031\n",
      "rlct/2: 120.98673165331432\n",
      "rlct/3: 112.45366391776892\n",
      "rlct/4: 107.22123153676121\n",
      "rlct/mean: 113.52456857859013\n",
      "rlct/std: 4.8422616792740465\n",
      "\n"
     ]
    },
    {
     "name": "stderr",
     "output_type": "stream",
     "text": [
      "Chain 0: 100%|██████████| 1000/1000 [01:14<00:00, 13.47it/s]\n",
      "Chain 0: 100%|██████████| 1000/1000 [01:12<00:00, 13.75it/s]\n",
      "Chain 0: 100%|██████████| 1000/1000 [01:13<00:00, 13.64it/s]\n",
      "Chain 0: 100%|██████████| 1000/1000 [01:12<00:00, 13.74it/s]\n",
      "Chain 0: 100%|██████████| 1000/1000 [01:12<00:00, 13.71it/s]\n"
     ]
    },
    {
     "name": "stdout",
     "output_type": "stream",
     "text": [
      "elasticity: 1000.0\n",
      "lr: 1.0e-06\n",
      "noise_level: 1.0\n",
      "num_chains: 1\n",
      "num_draws: 1000\n",
      "repeats: 5\n",
      "rlct/0: 78.91830306842468\n",
      "rlct/1: 68.56626520338496\n",
      "rlct/2: 73.58962035104557\n",
      "rlct/3: 80.00381459761165\n",
      "rlct/4: 83.23599590620658\n",
      "rlct/mean: 76.86279982533469\n",
      "rlct/std: 5.181792860996561\n",
      "\n"
     ]
    },
    {
     "name": "stderr",
     "output_type": "stream",
     "text": [
      "Chain 0: 100%|██████████| 10/10 [00:00<00:00, 12.92it/s]\n",
      "Chain 0: 100%|██████████| 10/10 [00:00<00:00, 13.23it/s]\n",
      "Chain 0: 100%|██████████| 10/10 [00:00<00:00, 13.21it/s]\n",
      "Chain 0: 100%|██████████| 10/10 [00:00<00:00, 13.30it/s]\n",
      "Chain 0: 100%|██████████| 10/10 [00:00<00:00, 13.09it/s]\n"
     ]
    },
    {
     "name": "stdout",
     "output_type": "stream",
     "text": [
      "elasticity: 10.0\n",
      "lr: 1.0e-05\n",
      "noise_level: 0.1\n",
      "num_chains: 1\n",
      "num_draws: 10\n",
      "repeats: 5\n",
      "rlct/0: 0.010902053058284648\n",
      "rlct/1: 0.008156932423315298\n",
      "rlct/2: 0.0011337037312357503\n",
      "rlct/3: 0.012513481277017397\n",
      "rlct/4: 0.006780803964359872\n",
      "rlct/mean: 0.007897394890842593\n",
      "rlct/std: 0.00393440916423836\n",
      "\n"
     ]
    },
    {
     "name": "stderr",
     "output_type": "stream",
     "text": [
      "Chain 0: 100%|██████████| 10/10 [00:00<00:00, 13.25it/s]\n",
      "Chain 0: 100%|██████████| 10/10 [00:00<00:00, 13.45it/s]\n",
      "Chain 0: 100%|██████████| 10/10 [00:00<00:00, 13.14it/s]\n",
      "Chain 0: 100%|██████████| 10/10 [00:00<00:00, 12.84it/s]\n",
      "Chain 0: 100%|██████████| 10/10 [00:00<00:00, 13.51it/s]\n"
     ]
    },
    {
     "name": "stdout",
     "output_type": "stream",
     "text": [
      "elasticity: 100.0\n",
      "lr: 1.0e-05\n",
      "noise_level: 0.1\n",
      "num_chains: 1\n",
      "num_draws: 10\n",
      "repeats: 5\n",
      "rlct/0: 0.004641757334073452\n",
      "rlct/1: 0.004820008608776995\n",
      "rlct/2: -0.0038503018644373164\n",
      "rlct/3: 0.005105217089148364\n",
      "rlct/4: 0.008549095498200817\n",
      "rlct/mean: 0.0038531553331524622\n",
      "rlct/std: 0.004111434393057541\n",
      "\n"
     ]
    },
    {
     "name": "stderr",
     "output_type": "stream",
     "text": [
      "Chain 0: 100%|██████████| 10/10 [00:00<00:00, 13.42it/s]\n",
      "Chain 0: 100%|██████████| 10/10 [00:00<00:00, 13.57it/s]\n",
      "Chain 0: 100%|██████████| 10/10 [00:00<00:00, 12.85it/s]\n",
      "Chain 0: 100%|██████████| 10/10 [00:00<00:00, 13.11it/s]\n",
      "Chain 0: 100%|██████████| 10/10 [00:00<00:00, 13.65it/s]\n"
     ]
    },
    {
     "name": "stdout",
     "output_type": "stream",
     "text": [
      "elasticity: 1000.0\n",
      "lr: 1.0e-05\n",
      "noise_level: 0.1\n",
      "num_chains: 1\n",
      "num_draws: 10\n",
      "repeats: 5\n",
      "rlct/0: 0.0058324895315382975\n",
      "rlct/1: 0.005347633113022522\n",
      "rlct/2: 0.01003217855167041\n",
      "rlct/3: 0.007165842941687568\n",
      "rlct/4: 0.0031158887871830855\n",
      "rlct/mean: 0.0062988065850203764\n",
      "rlct/std: 0.0022778483953565087\n",
      "\n"
     ]
    },
    {
     "name": "stderr",
     "output_type": "stream",
     "text": [
      "Chain 0: 100%|██████████| 10/10 [00:00<00:00, 12.94it/s]\n",
      "Chain 0: 100%|██████████| 10/10 [00:00<00:00, 12.42it/s]\n",
      "Chain 0: 100%|██████████| 10/10 [00:00<00:00, 12.30it/s]\n",
      "Chain 0: 100%|██████████| 10/10 [00:00<00:00, 13.30it/s]\n",
      "Chain 0: 100%|██████████| 10/10 [00:00<00:00, 13.43it/s]\n"
     ]
    },
    {
     "name": "stdout",
     "output_type": "stream",
     "text": [
      "elasticity: 10.0\n",
      "lr: 1.0e-05\n",
      "noise_level: 0.3\n",
      "num_chains: 1\n",
      "num_draws: 10\n",
      "repeats: 5\n",
      "rlct/0: 0.03848161588824039\n",
      "rlct/1: 0.05004675400974599\n",
      "rlct/2: 0.03595039747922293\n",
      "rlct/3: 0.04766528700366267\n",
      "rlct/4: 0.052121629798169936\n",
      "rlct/mean: 0.04485313683580838\n",
      "rlct/std: 0.00644310305825501\n",
      "\n"
     ]
    },
    {
     "name": "stderr",
     "output_type": "stream",
     "text": [
      "Chain 0: 100%|██████████| 10/10 [00:00<00:00, 12.56it/s]\n",
      "Chain 0: 100%|██████████| 10/10 [00:00<00:00, 13.52it/s]\n",
      "Chain 0: 100%|██████████| 10/10 [00:00<00:00, 13.43it/s]\n",
      "Chain 0: 100%|██████████| 10/10 [00:00<00:00, 13.51it/s]\n",
      "Chain 0: 100%|██████████| 10/10 [00:00<00:00, 12.04it/s]\n"
     ]
    },
    {
     "name": "stdout",
     "output_type": "stream",
     "text": [
      "elasticity: 100.0\n",
      "lr: 1.0e-05\n",
      "noise_level: 0.3\n",
      "num_chains: 1\n",
      "num_draws: 10\n",
      "repeats: 5\n",
      "rlct/0: 0.050282055510292446\n",
      "rlct/1: 0.05653522452579217\n",
      "rlct/2: 0.057483540699382836\n",
      "rlct/3: 0.05289882836884494\n",
      "rlct/4: 0.039558265912095054\n",
      "rlct/mean: 0.051351583003281485\n",
      "rlct/std: 0.006435700892885878\n",
      "\n"
     ]
    },
    {
     "name": "stderr",
     "output_type": "stream",
     "text": [
      "Chain 0: 100%|██████████| 10/10 [00:00<00:00, 13.16it/s]\n",
      "Chain 0: 100%|██████████| 10/10 [00:00<00:00, 13.36it/s]\n",
      "Chain 0: 100%|██████████| 10/10 [00:00<00:00, 13.70it/s]\n",
      "Chain 0: 100%|██████████| 10/10 [00:00<00:00, 13.23it/s]\n",
      "Chain 0: 100%|██████████| 10/10 [00:00<00:00, 12.69it/s]\n"
     ]
    },
    {
     "name": "stdout",
     "output_type": "stream",
     "text": [
      "elasticity: 1000.0\n",
      "lr: 1.0e-05\n",
      "noise_level: 0.3\n",
      "num_chains: 1\n",
      "num_draws: 10\n",
      "repeats: 5\n",
      "rlct/0: 0.0507170023378296\n",
      "rlct/1: 0.041996790977482254\n",
      "rlct/2: 0.05521613758883406\n",
      "rlct/3: 0.04864211349363741\n",
      "rlct/4: 0.03955826504171052\n",
      "rlct/mean: 0.04722606188789876\n",
      "rlct/std: 0.005730158109698156\n",
      "\n"
     ]
    },
    {
     "name": "stderr",
     "output_type": "stream",
     "text": [
      "Chain 0: 100%|██████████| 10/10 [00:00<00:00, 13.01it/s]\n",
      "Chain 0: 100%|██████████| 10/10 [00:00<00:00, 13.44it/s]\n",
      "Chain 0: 100%|██████████| 10/10 [00:00<00:00, 13.64it/s]\n",
      "Chain 0: 100%|██████████| 10/10 [00:00<00:00, 13.01it/s]\n",
      "Chain 0: 100%|██████████| 10/10 [00:00<00:00, 13.12it/s]\n"
     ]
    },
    {
     "name": "stdout",
     "output_type": "stream",
     "text": [
      "elasticity: 10.0\n",
      "lr: 1.0e-05\n",
      "noise_level: 1.0\n",
      "num_chains: 1\n",
      "num_draws: 10\n",
      "repeats: 5\n",
      "rlct/0: 14.514886319569598\n",
      "rlct/1: 3.468057431660975\n",
      "rlct/2: 4.798858962212743\n",
      "rlct/3: 5.092142996662961\n",
      "rlct/4: 4.814030342888778\n",
      "rlct/mean: 6.537595210599011\n",
      "rlct/std: 4.028459936775318\n",
      "\n"
     ]
    },
    {
     "name": "stderr",
     "output_type": "stream",
     "text": [
      "Chain 0: 100%|██████████| 10/10 [00:00<00:00, 13.40it/s]\n",
      "Chain 0: 100%|██████████| 10/10 [00:00<00:00, 13.06it/s]\n",
      "Chain 0: 100%|██████████| 10/10 [00:00<00:00, 12.76it/s]\n",
      "Chain 0: 100%|██████████| 10/10 [00:00<00:00, 13.61it/s]\n",
      "Chain 0: 100%|██████████| 10/10 [00:00<00:00, 13.68it/s]\n"
     ]
    },
    {
     "name": "stdout",
     "output_type": "stream",
     "text": [
      "elasticity: 100.0\n",
      "lr: 1.0e-05\n",
      "noise_level: 1.0\n",
      "num_chains: 1\n",
      "num_draws: 10\n",
      "repeats: 5\n",
      "rlct/0: 3.3422281947614016\n",
      "rlct/1: 4.322599802794735\n",
      "rlct/2: 3.138075011266423\n",
      "rlct/3: 3.943734085347197\n",
      "rlct/4: 4.971960738142673\n",
      "rlct/mean: 3.943719566462486\n",
      "rlct/std: 0.6650842293093616\n",
      "\n"
     ]
    },
    {
     "name": "stderr",
     "output_type": "stream",
     "text": [
      "Chain 0: 100%|██████████| 10/10 [00:00<00:00, 13.51it/s]\n",
      "Chain 0: 100%|██████████| 10/10 [00:00<00:00, 13.61it/s]\n",
      "Chain 0: 100%|██████████| 10/10 [00:00<00:00, 12.64it/s]\n",
      "Chain 0: 100%|██████████| 10/10 [00:00<00:00, 13.56it/s]\n",
      "Chain 0: 100%|██████████| 10/10 [00:00<00:00, 13.44it/s]\n"
     ]
    },
    {
     "name": "stdout",
     "output_type": "stream",
     "text": [
      "elasticity: 1000.0\n",
      "lr: 1.0e-05\n",
      "noise_level: 1.0\n",
      "num_chains: 1\n",
      "num_draws: 10\n",
      "repeats: 5\n",
      "rlct/0: 6.967498131108969\n",
      "rlct/1: 4.1334762630738116\n",
      "rlct/2: 3.4404862628196375\n",
      "rlct/3: 3.7755095092541837\n",
      "rlct/4: 4.787969364357396\n",
      "rlct/mean: 4.620987906122799\n",
      "rlct/std: 1.2553946387395567\n",
      "\n"
     ]
    },
    {
     "name": "stderr",
     "output_type": "stream",
     "text": [
      "Chain 0: 100%|██████████| 30/30 [00:02<00:00, 13.00it/s]\n",
      "Chain 0: 100%|██████████| 30/30 [00:02<00:00, 13.86it/s]\n",
      "Chain 0: 100%|██████████| 30/30 [00:02<00:00, 13.46it/s]\n",
      "Chain 0: 100%|██████████| 30/30 [00:02<00:00, 13.80it/s]\n",
      "Chain 0: 100%|██████████| 30/30 [00:02<00:00, 13.47it/s]\n"
     ]
    },
    {
     "name": "stdout",
     "output_type": "stream",
     "text": [
      "elasticity: 10.0\n",
      "lr: 1.0e-05\n",
      "noise_level: 0.1\n",
      "num_chains: 1\n",
      "num_draws: 30\n",
      "repeats: 5\n",
      "rlct/0: 0.008858073020173513\n",
      "rlct/1: 0.010362539681315707\n",
      "rlct/2: 0.014690567774019118\n",
      "rlct/3: 0.011836113783555119\n",
      "rlct/4: 0.01923486669916849\n",
      "rlct/mean: 0.01299643219164639\n",
      "rlct/std: 0.0036660034280493817\n",
      "\n"
     ]
    },
    {
     "name": "stderr",
     "output_type": "stream",
     "text": [
      "Chain 0: 100%|██████████| 30/30 [00:02<00:00, 13.99it/s]\n",
      "Chain 0: 100%|██████████| 30/30 [00:02<00:00, 13.60it/s]\n",
      "Chain 0: 100%|██████████| 30/30 [00:02<00:00, 13.86it/s]\n",
      "Chain 0: 100%|██████████| 30/30 [00:02<00:00, 13.19it/s]\n",
      "Chain 0: 100%|██████████| 30/30 [00:02<00:00, 13.56it/s]\n"
     ]
    },
    {
     "name": "stdout",
     "output_type": "stream",
     "text": [
      "elasticity: 100.0\n",
      "lr: 1.0e-05\n",
      "noise_level: 0.1\n",
      "num_chains: 1\n",
      "num_draws: 30\n",
      "repeats: 5\n",
      "rlct/0: 0.015743458330502506\n",
      "rlct/1: 0.011410673005966258\n",
      "rlct/2: 0.017143343645675563\n",
      "rlct/3: 0.01405122651124748\n",
      "rlct/4: 0.01018666310579809\n",
      "rlct/mean: 0.013707072919837979\n",
      "rlct/std: 0.0025976913427008283\n",
      "\n"
     ]
    },
    {
     "name": "stderr",
     "output_type": "stream",
     "text": [
      "Chain 0: 100%|██████████| 30/30 [00:02<00:00, 13.58it/s]\n",
      "Chain 0: 100%|██████████| 30/30 [00:02<00:00, 13.64it/s]\n",
      "Chain 0: 100%|██████████| 30/30 [00:02<00:00, 13.48it/s]\n",
      "Chain 0: 100%|██████████| 30/30 [00:02<00:00, 13.20it/s]\n",
      "Chain 0: 100%|██████████| 30/30 [00:02<00:00, 12.85it/s]\n"
     ]
    },
    {
     "name": "stdout",
     "output_type": "stream",
     "text": [
      "elasticity: 1000.0\n",
      "lr: 1.0e-05\n",
      "noise_level: 0.1\n",
      "num_chains: 1\n",
      "num_draws: 30\n",
      "repeats: 5\n",
      "rlct/0: 0.015482010768143343\n",
      "rlct/1: 0.017801698749113002\n",
      "rlct/2: 0.016413697084356072\n",
      "rlct/3: 0.011864627871605566\n",
      "rlct/4: 0.0064385516409656805\n",
      "rlct/mean: 0.013600117222836734\n",
      "rlct/std: 0.004084384583915592\n",
      "\n"
     ]
    },
    {
     "name": "stderr",
     "output_type": "stream",
     "text": [
      "Chain 0: 100%|██████████| 30/30 [00:02<00:00, 13.27it/s]\n",
      "Chain 0: 100%|██████████| 30/30 [00:02<00:00, 13.58it/s]\n",
      "Chain 0: 100%|██████████| 30/30 [00:02<00:00, 12.89it/s]\n",
      "Chain 0: 100%|██████████| 30/30 [00:02<00:00, 13.19it/s]\n",
      "Chain 0: 100%|██████████| 30/30 [00:02<00:00, 13.50it/s]\n"
     ]
    },
    {
     "name": "stdout",
     "output_type": "stream",
     "text": [
      "elasticity: 10.0\n",
      "lr: 1.0e-05\n",
      "noise_level: 0.3\n",
      "num_chains: 1\n",
      "num_draws: 30\n",
      "repeats: 5\n",
      "rlct/0: 0.24974811954937468\n",
      "rlct/1: 0.24842452169941193\n",
      "rlct/2: 0.21934507507310824\n",
      "rlct/3: 0.23397404631264146\n",
      "rlct/4: 0.23086304241369215\n",
      "rlct/mean: 0.23647096100964568\n",
      "rlct/std: 0.011403068491833866\n",
      "\n"
     ]
    },
    {
     "name": "stderr",
     "output_type": "stream",
     "text": [
      "Chain 0: 100%|██████████| 30/30 [00:02<00:00, 13.68it/s]\n",
      "Chain 0: 100%|██████████| 30/30 [00:02<00:00, 13.21it/s]\n",
      "Chain 0: 100%|██████████| 30/30 [00:02<00:00, 13.53it/s]\n",
      "Chain 0: 100%|██████████| 30/30 [00:02<00:00, 13.78it/s]\n",
      "Chain 0: 100%|██████████| 30/30 [00:02<00:00, 13.60it/s]\n"
     ]
    },
    {
     "name": "stdout",
     "output_type": "stream",
     "text": [
      "elasticity: 100.0\n",
      "lr: 1.0e-05\n",
      "noise_level: 0.3\n",
      "num_chains: 1\n",
      "num_draws: 30\n",
      "repeats: 5\n",
      "rlct/0: 0.21636743903854336\n",
      "rlct/1: 0.18049088440445246\n",
      "rlct/2: 0.23984475007793365\n",
      "rlct/3: 0.24548469749080973\n",
      "rlct/4: 0.17649087262541138\n",
      "rlct/mean: 0.2117357287274301\n",
      "rlct/std: 0.02887560524975996\n",
      "\n"
     ]
    },
    {
     "name": "stderr",
     "output_type": "stream",
     "text": [
      "Chain 0: 100%|██████████| 30/30 [00:02<00:00, 13.47it/s]\n",
      "Chain 0: 100%|██████████| 30/30 [00:02<00:00, 13.63it/s]\n",
      "Chain 0: 100%|██████████| 30/30 [00:02<00:00, 13.81it/s]\n",
      "Chain 0: 100%|██████████| 30/30 [00:02<00:00, 13.45it/s]\n",
      "Chain 0: 100%|██████████| 30/30 [00:02<00:00, 13.84it/s]\n"
     ]
    },
    {
     "name": "stdout",
     "output_type": "stream",
     "text": [
      "elasticity: 1000.0\n",
      "lr: 1.0e-05\n",
      "noise_level: 0.3\n",
      "num_chains: 1\n",
      "num_draws: 30\n",
      "repeats: 5\n",
      "rlct/0: 0.2952558668621754\n",
      "rlct/1: 0.18915165894451547\n",
      "rlct/2: 0.1456909153857594\n",
      "rlct/3: 0.19653845828882038\n",
      "rlct/4: 0.1703160002127961\n",
      "rlct/mean: 0.19939057993881337\n",
      "rlct/std: 0.0510531262456814\n",
      "\n"
     ]
    },
    {
     "name": "stderr",
     "output_type": "stream",
     "text": [
      "Chain 0: 100%|██████████| 30/30 [00:02<00:00, 13.47it/s]\n",
      "Chain 0: 100%|██████████| 30/30 [00:02<00:00, 13.73it/s]\n",
      "Chain 0: 100%|██████████| 30/30 [00:02<00:00, 13.42it/s]\n",
      "Chain 0: 100%|██████████| 30/30 [00:02<00:00, 13.72it/s]\n",
      "Chain 0: 100%|██████████| 30/30 [00:02<00:00, 13.68it/s]\n"
     ]
    },
    {
     "name": "stdout",
     "output_type": "stream",
     "text": [
      "elasticity: 10.0\n",
      "lr: 1.0e-05\n",
      "noise_level: 1.0\n",
      "num_chains: 1\n",
      "num_draws: 30\n",
      "repeats: 5\n",
      "rlct/0: 41.23132898689496\n",
      "rlct/1: 325346672326.59625\n",
      "rlct/2: 25251482618.790035\n",
      "rlct/3: 38337040.17361864\n",
      "rlct/4: 2.1465232767276556e+33\n",
      "rlct/mean: 4.293046553455311e+32\n",
      "rlct/std: 8.586093106910622e+32\n",
      "\n"
     ]
    },
    {
     "name": "stderr",
     "output_type": "stream",
     "text": [
      "Chain 0: 100%|██████████| 30/30 [00:02<00:00, 13.55it/s]\n",
      "Chain 0: 100%|██████████| 30/30 [00:02<00:00, 13.44it/s]\n",
      "Chain 0: 100%|██████████| 30/30 [00:02<00:00, 13.87it/s]\n",
      "Chain 0: 100%|██████████| 30/30 [00:02<00:00, 13.69it/s]\n",
      "Chain 0: 100%|██████████| 30/30 [00:02<00:00, 13.83it/s]\n"
     ]
    },
    {
     "name": "stdout",
     "output_type": "stream",
     "text": [
      "elasticity: 100.0\n",
      "lr: 1.0e-05\n",
      "noise_level: 1.0\n",
      "num_chains: 1\n",
      "num_draws: 30\n",
      "repeats: 5\n",
      "rlct/0: 17325942.31040322\n",
      "rlct/1: 34160.746910896676\n",
      "rlct/2: 2.430135850401303e+30\n",
      "rlct/3: 3.533157000305723e+31\n",
      "rlct/4: 1.5294094539998685e+35\n",
      "rlct/mean: 3.0595741421168064e+34\n",
      "rlct/std: 6.117260345695982e+34\n",
      "\n"
     ]
    },
    {
     "name": "stderr",
     "output_type": "stream",
     "text": [
      "Chain 0: 100%|██████████| 30/30 [00:02<00:00, 13.22it/s]\n",
      "Chain 0: 100%|██████████| 30/30 [00:02<00:00, 13.72it/s]\n",
      "Chain 0: 100%|██████████| 30/30 [00:02<00:00, 13.18it/s]\n",
      "Chain 0: 100%|██████████| 30/30 [00:02<00:00, 13.86it/s]\n",
      "Chain 0: 100%|██████████| 30/30 [00:02<00:00, 13.64it/s]\n"
     ]
    },
    {
     "name": "stdout",
     "output_type": "stream",
     "text": [
      "elasticity: 1000.0\n",
      "lr: 1.0e-05\n",
      "noise_level: 1.0\n",
      "num_chains: 1\n",
      "num_draws: 30\n",
      "repeats: 5\n",
      "rlct/0: 86603826679744.1\n",
      "rlct/1: 5.607177489543387e+19\n",
      "rlct/2: 1.6699738290829148e+26\n",
      "rlct/3: 1.2765545855833645e+19\n",
      "rlct/4: 3.335111201750132e+36\n",
      "rlct/mean: 6.67022240383426e+35\n",
      "rlct/std: 1.334044480683353e+36\n",
      "\n"
     ]
    },
    {
     "name": "stderr",
     "output_type": "stream",
     "text": [
      "Chain 0: 100%|██████████| 100/100 [00:07<00:00, 13.73it/s]\n",
      "Chain 0: 100%|██████████| 100/100 [00:07<00:00, 13.56it/s]\n",
      "Chain 0: 100%|██████████| 100/100 [00:07<00:00, 13.46it/s]\n",
      "Chain 0: 100%|██████████| 100/100 [00:07<00:00, 13.67it/s]\n",
      "Chain 0: 100%|██████████| 100/100 [00:07<00:00, 13.55it/s]\n"
     ]
    },
    {
     "name": "stdout",
     "output_type": "stream",
     "text": [
      "elasticity: 10.0\n",
      "lr: 1.0e-05\n",
      "noise_level: 0.1\n",
      "num_chains: 1\n",
      "num_draws: 100\n",
      "repeats: 5\n",
      "rlct/0: 0.05663077682156025\n",
      "rlct/1: 0.05060363109432149\n",
      "rlct/2: 0.049276698162858214\n",
      "rlct/3: 0.05069347645265927\n",
      "rlct/4: 0.040068072687138905\n",
      "rlct/mean: 0.04945453104370763\n",
      "rlct/std: 0.005338373256525639\n",
      "\n"
     ]
    },
    {
     "name": "stderr",
     "output_type": "stream",
     "text": [
      "Chain 0: 100%|██████████| 100/100 [00:07<00:00, 13.68it/s]\n",
      "Chain 0: 100%|██████████| 100/100 [00:07<00:00, 13.77it/s]\n",
      "Chain 0: 100%|██████████| 100/100 [00:07<00:00, 13.74it/s]\n",
      "Chain 0: 100%|██████████| 100/100 [00:07<00:00, 13.64it/s]\n",
      "Chain 0: 100%|██████████| 100/100 [00:07<00:00, 13.68it/s]\n"
     ]
    },
    {
     "name": "stdout",
     "output_type": "stream",
     "text": [
      "elasticity: 100.0\n",
      "lr: 1.0e-05\n",
      "noise_level: 0.1\n",
      "num_chains: 1\n",
      "num_draws: 100\n",
      "repeats: 5\n",
      "rlct/0: 0.04498504457208119\n",
      "rlct/1: 0.05988997268445471\n",
      "rlct/2: 0.0615548629687149\n",
      "rlct/3: 0.06566400553575262\n",
      "rlct/4: 0.0638643359425058\n",
      "rlct/mean: 0.05919164434070184\n",
      "rlct/std: 0.0073705555827226115\n",
      "\n"
     ]
    },
    {
     "name": "stderr",
     "output_type": "stream",
     "text": [
      "Chain 0: 100%|██████████| 100/100 [00:07<00:00, 13.76it/s]\n",
      "Chain 0: 100%|██████████| 100/100 [00:07<00:00, 13.67it/s]\n",
      "Chain 0: 100%|██████████| 100/100 [00:07<00:00, 13.87it/s]\n",
      "Chain 0: 100%|██████████| 100/100 [00:07<00:00, 13.83it/s]\n",
      "Chain 0: 100%|██████████| 100/100 [00:07<00:00, 13.75it/s]\n"
     ]
    },
    {
     "name": "stdout",
     "output_type": "stream",
     "text": [
      "elasticity: 1000.0\n",
      "lr: 1.0e-05\n",
      "noise_level: 0.1\n",
      "num_chains: 1\n",
      "num_draws: 100\n",
      "repeats: 5\n",
      "rlct/0: 0.03149330937442383\n",
      "rlct/1: 0.0382035325498883\n",
      "rlct/2: 0.027365656948388713\n",
      "rlct/3: 0.03105338124905731\n",
      "rlct/4: 0.036567153104242925\n",
      "rlct/mean: 0.03293660664520022\n",
      "rlct/std: 0.0039392004647048435\n",
      "\n"
     ]
    },
    {
     "name": "stderr",
     "output_type": "stream",
     "text": [
      "Chain 0: 100%|██████████| 100/100 [00:07<00:00, 13.85it/s]\n",
      "Chain 0: 100%|██████████| 100/100 [00:07<00:00, 13.71it/s]\n",
      "Chain 0: 100%|██████████| 100/100 [00:07<00:00, 13.37it/s]\n",
      "Chain 0: 100%|██████████| 100/100 [00:07<00:00, 13.74it/s]\n",
      "Chain 0: 100%|██████████| 100/100 [00:07<00:00, 13.76it/s]\n"
     ]
    },
    {
     "name": "stdout",
     "output_type": "stream",
     "text": [
      "elasticity: 10.0\n",
      "lr: 1.0e-05\n",
      "noise_level: 0.3\n",
      "num_chains: 1\n",
      "num_draws: 100\n",
      "repeats: 5\n",
      "rlct/0: 1.4716510169038113\n",
      "rlct/1: 1.885754359733702\n",
      "rlct/2: 1.7364512457519248\n",
      "rlct/3: 1.3477060931895868\n",
      "rlct/4: 1.5774595380425942\n",
      "rlct/mean: 1.6038044507243239\n",
      "rlct/std: 0.19017669502241416\n",
      "\n"
     ]
    },
    {
     "name": "stderr",
     "output_type": "stream",
     "text": [
      "Chain 0: 100%|██████████| 100/100 [00:07<00:00, 13.72it/s]\n",
      "Chain 0: 100%|██████████| 100/100 [00:07<00:00, 13.75it/s]\n",
      "Chain 0: 100%|██████████| 100/100 [00:07<00:00, 13.52it/s]\n",
      "Chain 0: 100%|██████████| 100/100 [00:07<00:00, 13.84it/s]\n",
      "Chain 0: 100%|██████████| 100/100 [00:07<00:00, 13.65it/s]\n"
     ]
    },
    {
     "name": "stdout",
     "output_type": "stream",
     "text": [
      "elasticity: 100.0\n",
      "lr: 1.0e-05\n",
      "noise_level: 0.3\n",
      "num_chains: 1\n",
      "num_draws: 100\n",
      "repeats: 5\n",
      "rlct/0: 1.795736572123477\n",
      "rlct/1: 1.4342532828035526\n",
      "rlct/2: 1.6485022652608734\n",
      "rlct/3: 1.8221487770201494\n",
      "rlct/4: 1.3507781517607713\n",
      "rlct/mean: 1.6102838097937646\n",
      "rlct/std: 0.1892459112982037\n",
      "\n"
     ]
    },
    {
     "name": "stderr",
     "output_type": "stream",
     "text": [
      "Chain 0: 100%|██████████| 100/100 [00:07<00:00, 13.84it/s]\n",
      "Chain 0: 100%|██████████| 100/100 [00:07<00:00, 13.87it/s]\n",
      "Chain 0: 100%|██████████| 100/100 [00:07<00:00, 13.76it/s]\n",
      "Chain 0: 100%|██████████| 100/100 [00:07<00:00, 13.74it/s]\n",
      "Chain 0: 100%|██████████| 100/100 [00:07<00:00, 13.74it/s]\n"
     ]
    },
    {
     "name": "stdout",
     "output_type": "stream",
     "text": [
      "elasticity: 1000.0\n",
      "lr: 1.0e-05\n",
      "noise_level: 0.3\n",
      "num_chains: 1\n",
      "num_draws: 100\n",
      "repeats: 5\n",
      "rlct/0: 0.8110018749928413\n",
      "rlct/1: 0.8490768796837489\n",
      "rlct/2: 0.9411348281426968\n",
      "rlct/3: 0.8172219276169079\n",
      "rlct/4: 0.6920444604332266\n",
      "rlct/mean: 0.8220959941738842\n",
      "rlct/std: 0.0799480451406454\n",
      "\n"
     ]
    },
    {
     "name": "stderr",
     "output_type": "stream",
     "text": [
      "Chain 0: 100%|██████████| 100/100 [00:07<00:00, 13.80it/s]\n",
      "Chain 0: 100%|██████████| 100/100 [00:07<00:00, 13.78it/s]\n",
      "Chain 0: 100%|██████████| 100/100 [00:07<00:00, 13.89it/s]\n",
      "Chain 0: 100%|██████████| 100/100 [00:07<00:00, 13.56it/s]\n",
      "Chain 0: 100%|██████████| 100/100 [00:07<00:00, 13.75it/s]\n"
     ]
    },
    {
     "name": "stdout",
     "output_type": "stream",
     "text": [
      "elasticity: 10.0\n",
      "lr: 1.0e-05\n",
      "noise_level: 1.0\n",
      "num_chains: 1\n",
      "num_draws: 100\n",
      "repeats: 5\n",
      "rlct/0: 4.868955248124306e+29\n",
      "rlct/1: 9.38569773688675e+24\n",
      "rlct/2: 7.224719134128169e+17\n",
      "rlct/3: 6.474759563851428e+31\n",
      "rlct/4: 7.826744055318099e+17\n",
      "rlct/mean: 1.304690010980519e+31\n",
      "rlct/std: 2.5851035553124564e+31\n",
      "\n"
     ]
    },
    {
     "name": "stderr",
     "output_type": "stream",
     "text": [
      "Chain 0: 100%|██████████| 100/100 [00:07<00:00, 13.90it/s]\n",
      "Chain 0: 100%|██████████| 100/100 [00:07<00:00, 13.97it/s]\n",
      "Chain 0: 100%|██████████| 100/100 [00:07<00:00, 13.96it/s]\n",
      "Chain 0: 100%|██████████| 100/100 [00:07<00:00, 13.97it/s]\n",
      "Chain 0: 100%|██████████| 100/100 [00:07<00:00, 13.82it/s]\n"
     ]
    },
    {
     "name": "stdout",
     "output_type": "stream",
     "text": [
      "elasticity: 100.0\n",
      "lr: 1.0e-05\n",
      "noise_level: 1.0\n",
      "num_chains: 1\n",
      "num_draws: 100\n",
      "repeats: 5\n",
      "rlct/0: 1.869139032031194e+28\n",
      "rlct/1: 8.935968555521971e+16\n",
      "rlct/2: 7.234825517033927e+18\n",
      "rlct/3: 5.768481360634306e+27\n",
      "rlct/4: 2.152382440281443e+16\n",
      "rlct/mean: 4.8919743376583916e+27\n",
      "rlct/std: 7.252398013246309e+27\n",
      "\n"
     ]
    },
    {
     "name": "stderr",
     "output_type": "stream",
     "text": [
      "Chain 0: 100%|██████████| 100/100 [00:07<00:00, 13.73it/s]\n",
      "Chain 0: 100%|██████████| 100/100 [00:07<00:00, 14.00it/s]\n",
      "Chain 0: 100%|██████████| 100/100 [00:07<00:00, 13.92it/s]\n",
      "Chain 0: 100%|██████████| 100/100 [00:07<00:00, 13.93it/s]\n",
      "Chain 0: 100%|██████████| 100/100 [00:07<00:00, 13.83it/s]\n"
     ]
    },
    {
     "name": "stdout",
     "output_type": "stream",
     "text": [
      "elasticity: 1000.0\n",
      "lr: 1.0e-05\n",
      "noise_level: 1.0\n",
      "num_chains: 1\n",
      "num_draws: 100\n",
      "repeats: 5\n",
      "rlct/0: 2.5501093644540486e+34\n",
      "rlct/1: 6.625424806822641e+26\n",
      "rlct/2: 1.4582062415267285e+33\n",
      "rlct/3: 8.340189980574761e+24\n",
      "rlct/4: 2.0651155082564906e+37\n",
      "rlct/mean: 4.1356228766243714e+36\n",
      "rlct/std: 8.257771803434564e+36\n",
      "\n"
     ]
    },
    {
     "name": "stderr",
     "output_type": "stream",
     "text": [
      "Chain 0: 100%|██████████| 300/300 [00:21<00:00, 13.81it/s]\n",
      "Chain 0: 100%|██████████| 300/300 [00:22<00:00, 13.57it/s]\n",
      "Chain 0: 100%|██████████| 300/300 [00:21<00:00, 13.68it/s]\n",
      "Chain 0: 100%|██████████| 300/300 [00:21<00:00, 13.76it/s]\n",
      "Chain 0: 100%|██████████| 300/300 [00:21<00:00, 13.66it/s]\n"
     ]
    },
    {
     "name": "stdout",
     "output_type": "stream",
     "text": [
      "elasticity: 10.0\n",
      "lr: 1.0e-05\n",
      "noise_level: 0.1\n",
      "num_chains: 1\n",
      "num_draws: 300\n",
      "repeats: 5\n",
      "rlct/0: 0.22172026965291788\n",
      "rlct/1: 0.18772633533523453\n",
      "rlct/2: 0.20228643266800433\n",
      "rlct/3: 0.2044247313188196\n",
      "rlct/4: 0.2569762193282822\n",
      "rlct/mean: 0.21462679766065174\n",
      "rlct/std: 0.023764648112706923\n",
      "\n"
     ]
    },
    {
     "name": "stderr",
     "output_type": "stream",
     "text": [
      "Chain 0: 100%|██████████| 300/300 [00:21<00:00, 13.78it/s]\n",
      "Chain 0: 100%|██████████| 300/300 [00:21<00:00, 13.79it/s]\n",
      "Chain 0: 100%|██████████| 300/300 [00:21<00:00, 13.71it/s]\n",
      "Chain 0: 100%|██████████| 300/300 [00:21<00:00, 13.77it/s]\n",
      "Chain 0: 100%|██████████| 300/300 [00:22<00:00, 13.60it/s]\n"
     ]
    },
    {
     "name": "stdout",
     "output_type": "stream",
     "text": [
      "elasticity: 100.0\n",
      "lr: 1.0e-05\n",
      "noise_level: 0.1\n",
      "num_chains: 1\n",
      "num_draws: 300\n",
      "repeats: 5\n",
      "rlct/0: 0.18087167332302578\n",
      "rlct/1: 0.20645707994395773\n",
      "rlct/2: 0.14956948800773928\n",
      "rlct/3: 0.1833188002538759\n",
      "rlct/4: 0.16606590179786282\n",
      "rlct/mean: 0.17725658866529231\n",
      "rlct/std: 0.018943573858852952\n",
      "\n"
     ]
    },
    {
     "name": "stderr",
     "output_type": "stream",
     "text": [
      "Chain 0: 100%|██████████| 300/300 [00:22<00:00, 13.57it/s]\n",
      "Chain 0: 100%|██████████| 300/300 [00:21<00:00, 13.65it/s]\n",
      "Chain 0: 100%|██████████| 300/300 [00:21<00:00, 13.73it/s]\n",
      "Chain 0: 100%|██████████| 300/300 [00:22<00:00, 13.57it/s]\n",
      "Chain 0: 100%|██████████| 300/300 [00:22<00:00, 13.48it/s]\n"
     ]
    },
    {
     "name": "stdout",
     "output_type": "stream",
     "text": [
      "elasticity: 1000.0\n",
      "lr: 1.0e-05\n",
      "noise_level: 0.1\n",
      "num_chains: 1\n",
      "num_draws: 300\n",
      "repeats: 5\n",
      "rlct/0: 0.0742221034503872\n",
      "rlct/1: 0.07638899368249089\n",
      "rlct/2: 0.093829177018421\n",
      "rlct/3: 0.07707775912277645\n",
      "rlct/4: 0.06834708150424301\n",
      "rlct/mean: 0.0779730229556637\n",
      "rlct/std: 0.008502428049585389\n",
      "\n"
     ]
    },
    {
     "name": "stderr",
     "output_type": "stream",
     "text": [
      "Chain 0: 100%|██████████| 300/300 [00:21<00:00, 13.74it/s]\n",
      "Chain 0: 100%|██████████| 300/300 [00:21<00:00, 13.70it/s]\n",
      "Chain 0: 100%|██████████| 300/300 [00:21<00:00, 13.76it/s]\n",
      "Chain 0: 100%|██████████| 300/300 [00:22<00:00, 13.50it/s]\n",
      "Chain 0: 100%|██████████| 300/300 [00:21<00:00, 13.65it/s]\n"
     ]
    },
    {
     "name": "stdout",
     "output_type": "stream",
     "text": [
      "elasticity: 10.0\n",
      "lr: 1.0e-05\n",
      "noise_level: 0.3\n",
      "num_chains: 1\n",
      "num_draws: 300\n",
      "repeats: 5\n",
      "rlct/0: 5.843460787160549\n",
      "rlct/1: 5.694746937997846\n",
      "rlct/2: 5.833684636692812\n",
      "rlct/3: 6.088710952425692\n",
      "rlct/4: 6.041262636623912\n",
      "rlct/mean: 5.900373190180162\n",
      "rlct/std: 0.14511339647126148\n",
      "\n"
     ]
    },
    {
     "name": "stderr",
     "output_type": "stream",
     "text": [
      "Chain 0: 100%|██████████| 300/300 [00:21<00:00, 13.75it/s]\n",
      "Chain 0: 100%|██████████| 300/300 [00:21<00:00, 13.68it/s]\n",
      "Chain 0: 100%|██████████| 300/300 [00:22<00:00, 13.38it/s]\n",
      "Chain 0: 100%|██████████| 300/300 [00:22<00:00, 13.59it/s]\n",
      "Chain 0: 100%|██████████| 300/300 [00:21<00:00, 13.80it/s]\n"
     ]
    },
    {
     "name": "stdout",
     "output_type": "stream",
     "text": [
      "elasticity: 100.0\n",
      "lr: 1.0e-05\n",
      "noise_level: 0.3\n",
      "num_chains: 1\n",
      "num_draws: 300\n",
      "repeats: 5\n",
      "rlct/0: 5.519822576148812\n",
      "rlct/1: 4.758284911282075\n",
      "rlct/2: 5.452540510905413\n",
      "rlct/3: 5.105659269538816\n",
      "rlct/4: 5.445086679068915\n",
      "rlct/mean: 5.256278789388807\n",
      "rlct/std: 0.28785640603243295\n",
      "\n"
     ]
    },
    {
     "name": "stderr",
     "output_type": "stream",
     "text": [
      "Chain 0: 100%|██████████| 300/300 [34:11<00:00,  6.84s/it]   \n",
      "Chain 0: 100%|██████████| 300/300 [04:27<00:00,  1.12it/s] \n",
      "Chain 0: 100%|██████████| 300/300 [16:39<00:00,  3.33s/it]   \n",
      "Chain 0: 100%|██████████| 300/300 [01:55<00:00,  2.60it/s] \n",
      "Chain 0: 100%|██████████| 300/300 [00:23<00:00, 12.90it/s]\n"
     ]
    },
    {
     "name": "stdout",
     "output_type": "stream",
     "text": [
      "elasticity: 1000.0\n",
      "lr: 1.0e-05\n",
      "noise_level: 0.3\n",
      "num_chains: 1\n",
      "num_draws: 300\n",
      "repeats: 5\n",
      "rlct/0: 1.978794040227985\n",
      "rlct/1: 1.965649033393319\n",
      "rlct/2: 1.9713162168795952\n",
      "rlct/3: 2.0482689367607265\n",
      "rlct/4: 1.7576443127551342\n",
      "rlct/mean: 1.944334508003352\n",
      "rlct/std: 0.09800548500013849\n",
      "\n"
     ]
    },
    {
     "name": "stderr",
     "output_type": "stream",
     "text": [
      "Chain 0: 100%|██████████| 300/300 [00:19<00:00, 15.14it/s]\n",
      "Chain 0: 100%|██████████| 300/300 [01:53<00:00,  2.64it/s]\n",
      "Chain 0: 100%|██████████| 300/300 [02:41<00:00,  1.86it/s]\n",
      "Chain 0: 100%|██████████| 300/300 [00:28<00:00, 10.50it/s]\n",
      "Chain 0: 100%|██████████| 300/300 [00:24<00:00, 12.49it/s]\n"
     ]
    },
    {
     "name": "stdout",
     "output_type": "stream",
     "text": [
      "elasticity: 10.0\n",
      "lr: 1.0e-05\n",
      "noise_level: 1.0\n",
      "num_chains: 1\n",
      "num_draws: 300\n",
      "repeats: 5\n",
      "rlct/0: 1.4130237803354272e+17\n",
      "rlct/1: 3.031725586674985e+27\n",
      "rlct/2: 2.4328907765263904e+29\n",
      "rlct/3: 1.3577293273070804e+18\n",
      "rlct/4: 2.5654157781468746e+21\n",
      "rlct/mean: 4.926416116124577e+28\n",
      "rlct/std: 9.701956379050438e+28\n",
      "\n"
     ]
    },
    {
     "name": "stderr",
     "output_type": "stream",
     "text": [
      "Chain 0: 100%|██████████| 300/300 [00:22<00:00, 13.52it/s]\n",
      "Chain 0: 100%|██████████| 300/300 [00:22<00:00, 13.62it/s]\n",
      "Chain 0: 100%|██████████| 300/300 [00:22<00:00, 13.30it/s]\n",
      "Chain 0: 100%|██████████| 300/300 [00:22<00:00, 13.43it/s]\n",
      "Chain 0: 100%|██████████| 300/300 [00:22<00:00, 13.13it/s]\n"
     ]
    },
    {
     "name": "stdout",
     "output_type": "stream",
     "text": [
      "elasticity: 100.0\n",
      "lr: 1.0e-05\n",
      "noise_level: 1.0\n",
      "num_chains: 1\n",
      "num_draws: 300\n",
      "repeats: 5\n",
      "rlct/0: 6.181135481517827e+17\n",
      "rlct/1: 35303335557.07059\n",
      "rlct/2: 1.3284010071025475e+34\n",
      "rlct/3: 5.6248035484201665e+25\n",
      "rlct/4: 2.1876805791879043e+34\n",
      "rlct/mean: 7.032163183830512e+33\n",
      "rlct/std: 9.03109029965477e+33\n",
      "\n"
     ]
    },
    {
     "name": "stderr",
     "output_type": "stream",
     "text": [
      "Chain 0: 100%|██████████| 300/300 [00:23<00:00, 12.89it/s]\n",
      "Chain 0: 100%|██████████| 300/300 [00:22<00:00, 13.21it/s]\n",
      "Chain 0: 100%|██████████| 300/300 [00:22<00:00, 13.08it/s]\n",
      "Chain 0: 100%|██████████| 300/300 [00:25<00:00, 11.94it/s]\n",
      "Chain 0: 100%|██████████| 300/300 [00:25<00:00, 11.54it/s]\n"
     ]
    },
    {
     "name": "stdout",
     "output_type": "stream",
     "text": [
      "elasticity: 1000.0\n",
      "lr: 1.0e-05\n",
      "noise_level: 1.0\n",
      "num_chains: 1\n",
      "num_draws: 300\n",
      "repeats: 5\n",
      "rlct/0: 5.7062701465209564e+28\n",
      "rlct/1: 3.822560606168195e+23\n",
      "rlct/2: 656583090.9300905\n",
      "rlct/3: 9.440236016202376e+35\n",
      "rlct/4: 4154683434274.595\n",
      "rlct/mean: 1.8880473173666428e+35\n",
      "rlct/std: 3.7760943494178736e+35\n",
      "\n"
     ]
    },
    {
     "name": "stderr",
     "output_type": "stream",
     "text": [
      "Chain 0: 100%|██████████| 1000/1000 [01:27<00:00, 11.46it/s]\n",
      "Chain 0: 100%|██████████| 1000/1000 [01:26<00:00, 11.56it/s]\n",
      "Chain 0: 100%|██████████| 1000/1000 [01:27<00:00, 11.45it/s]\n",
      "Chain 0: 100%|██████████| 1000/1000 [01:25<00:00, 11.71it/s]\n",
      "Chain 0: 100%|██████████| 1000/1000 [01:27<00:00, 11.39it/s]\n"
     ]
    },
    {
     "name": "stdout",
     "output_type": "stream",
     "text": [
      "elasticity: 10.0\n",
      "lr: 1.0e-05\n",
      "noise_level: 0.1\n",
      "num_chains: 1\n",
      "num_draws: 1000\n",
      "repeats: 5\n",
      "rlct/0: 0.6587607622454759\n",
      "rlct/1: 0.6309692114263135\n",
      "rlct/2: 0.6365545885217159\n",
      "rlct/3: 0.6202806294838082\n",
      "rlct/4: 0.6277316653520952\n",
      "rlct/mean: 0.6348593714058817\n",
      "rlct/std: 0.013058541261742013\n",
      "\n"
     ]
    },
    {
     "name": "stderr",
     "output_type": "stream",
     "text": [
      "Chain 0: 100%|██████████| 1000/1000 [01:27<00:00, 11.48it/s]\n",
      "Chain 0: 100%|██████████| 1000/1000 [01:29<00:00, 11.13it/s]\n",
      "Chain 0: 100%|██████████| 1000/1000 [01:25<00:00, 11.66it/s]\n",
      "Chain 0: 100%|██████████| 1000/1000 [01:29<00:00, 11.17it/s]\n",
      "Chain 0: 100%|██████████| 1000/1000 [01:19<00:00, 12.61it/s]\n"
     ]
    },
    {
     "name": "stdout",
     "output_type": "stream",
     "text": [
      "elasticity: 100.0\n",
      "lr: 1.0e-05\n",
      "noise_level: 0.1\n",
      "num_chains: 1\n",
      "num_draws: 1000\n",
      "repeats: 5\n",
      "rlct/0: 0.4364114568366495\n",
      "rlct/1: 0.5357435673684766\n",
      "rlct/2: 0.42987348998821\n",
      "rlct/3: 0.501583246034338\n",
      "rlct/4: 0.4238708113625884\n",
      "rlct/mean: 0.4654965143180526\n",
      "rlct/std: 0.04490999943413463\n",
      "\n"
     ]
    },
    {
     "name": "stderr",
     "output_type": "stream",
     "text": [
      "Chain 0: 100%|██████████| 1000/1000 [01:19<00:00, 12.54it/s]\n",
      "Chain 0: 100%|██████████| 1000/1000 [01:21<00:00, 12.28it/s]\n",
      "Chain 0: 100%|██████████| 1000/1000 [01:17<00:00, 12.84it/s]\n",
      "Chain 0: 100%|██████████| 1000/1000 [01:17<00:00, 12.90it/s]\n",
      "Chain 0: 100%|██████████| 1000/1000 [01:17<00:00, 12.84it/s]\n"
     ]
    },
    {
     "name": "stdout",
     "output_type": "stream",
     "text": [
      "elasticity: 1000.0\n",
      "lr: 1.0e-05\n",
      "noise_level: 0.1\n",
      "num_chains: 1\n",
      "num_draws: 1000\n",
      "repeats: 5\n",
      "rlct/0: 0.10844452526586479\n",
      "rlct/1: 0.09993043085499044\n",
      "rlct/2: 0.09997365774652908\n",
      "rlct/3: 0.0941240444869116\n",
      "rlct/4: 0.10403990946879985\n",
      "rlct/mean: 0.10130251356461914\n",
      "rlct/std: 0.004768239812003844\n",
      "\n"
     ]
    },
    {
     "name": "stderr",
     "output_type": "stream",
     "text": [
      "Chain 0: 100%|██████████| 1000/1000 [01:17<00:00, 12.84it/s]\n",
      "Chain 0: 100%|██████████| 1000/1000 [01:18<00:00, 12.78it/s]\n",
      "Chain 0: 100%|██████████| 1000/1000 [01:19<00:00, 12.58it/s]\n",
      "Chain 0: 100%|██████████| 1000/1000 [01:19<00:00, 12.61it/s]\n",
      "Chain 0: 100%|██████████| 1000/1000 [01:18<00:00, 12.75it/s]\n"
     ]
    },
    {
     "name": "stdout",
     "output_type": "stream",
     "text": [
      "elasticity: 10.0\n",
      "lr: 1.0e-05\n",
      "noise_level: 0.3\n",
      "num_chains: 1\n",
      "num_draws: 1000\n",
      "repeats: 5\n",
      "rlct/0: 13.669091399029082\n",
      "rlct/1: 13.317323155258812\n",
      "rlct/2: 13.19608298986284\n",
      "rlct/3: 3.0849370165053057e+26\n",
      "rlct/4: 13.062415935364072\n",
      "rlct/mean: 6.169874033010612e+25\n",
      "rlct/std: 1.2339748066021223e+26\n",
      "\n"
     ]
    },
    {
     "name": "stderr",
     "output_type": "stream",
     "text": [
      "Chain 0: 100%|██████████| 1000/1000 [01:18<00:00, 12.81it/s]\n",
      "Chain 0: 100%|██████████| 1000/1000 [01:18<00:00, 12.66it/s]\n",
      "Chain 0: 100%|██████████| 1000/1000 [01:17<00:00, 12.83it/s]\n",
      "Chain 0: 100%|██████████| 1000/1000 [01:19<00:00, 12.64it/s]\n",
      "Chain 0: 100%|██████████| 1000/1000 [01:18<00:00, 12.69it/s]\n"
     ]
    },
    {
     "name": "stdout",
     "output_type": "stream",
     "text": [
      "elasticity: 100.0\n",
      "lr: 1.0e-05\n",
      "noise_level: 0.3\n",
      "num_chains: 1\n",
      "num_draws: 1000\n",
      "repeats: 5\n",
      "rlct/0: 10.085362391264376\n",
      "rlct/1: 11.083999010251405\n",
      "rlct/2: 11.079318382526777\n",
      "rlct/3: 10.309771379968902\n",
      "rlct/4: 10.302264405425476\n",
      "rlct/mean: 10.572143113887387\n",
      "rlct/std: 0.4237575079499815\n",
      "\n"
     ]
    },
    {
     "name": "stderr",
     "output_type": "stream",
     "text": [
      "Chain 0: 100%|██████████| 1000/1000 [01:18<00:00, 12.66it/s]\n",
      "Chain 0: 100%|██████████| 1000/1000 [01:17<00:00, 12.83it/s]\n",
      "Chain 0: 100%|██████████| 1000/1000 [01:17<00:00, 12.88it/s]\n",
      "Chain 0: 100%|██████████| 1000/1000 [01:17<00:00, 12.91it/s]\n",
      "Chain 0: 100%|██████████| 1000/1000 [01:18<00:00, 12.72it/s]\n"
     ]
    },
    {
     "name": "stdout",
     "output_type": "stream",
     "text": [
      "elasticity: 1000.0\n",
      "lr: 1.0e-05\n",
      "noise_level: 0.3\n",
      "num_chains: 1\n",
      "num_draws: 1000\n",
      "repeats: 5\n",
      "rlct/0: 2.3149688752499262\n",
      "rlct/1: 2.395171363092931\n",
      "rlct/2: 2.262025622061876\n",
      "rlct/3: 2.364549678255117\n",
      "rlct/4: 2.3490435738615654\n",
      "rlct/mean: 2.3371518225042833\n",
      "rlct/std: 0.04559463232005935\n",
      "\n"
     ]
    },
    {
     "name": "stderr",
     "output_type": "stream",
     "text": [
      "Chain 0: 100%|██████████| 1000/1000 [01:16<00:00, 13.01it/s]\n",
      "Chain 0: 100%|██████████| 1000/1000 [01:16<00:00, 13.00it/s]\n",
      "Chain 0: 100%|██████████| 1000/1000 [01:16<00:00, 13.06it/s]\n",
      "Chain 0: 100%|██████████| 1000/1000 [01:16<00:00, 12.99it/s]\n",
      "Chain 0: 100%|██████████| 1000/1000 [01:17<00:00, 12.98it/s]\n"
     ]
    },
    {
     "name": "stdout",
     "output_type": "stream",
     "text": [
      "elasticity: 10.0\n",
      "lr: 1.0e-05\n",
      "noise_level: 1.0\n",
      "num_chains: 1\n",
      "num_draws: 1000\n",
      "repeats: 5\n",
      "rlct/0: 3419180017022.6465\n",
      "rlct/1: 1.432606084603885e+33\n",
      "rlct/2: 3.1675093485142346e+24\n",
      "rlct/3: 9374118473782666.0\n",
      "rlct/4: 501247343.0224561\n",
      "rlct/mean: 2.865212175542789e+32\n",
      "rlct/std: 5.730424335248031e+32\n",
      "\n"
     ]
    },
    {
     "name": "stderr",
     "output_type": "stream",
     "text": [
      "Chain 0: 100%|██████████| 1000/1000 [01:16<00:00, 13.09it/s]\n",
      "Chain 0: 100%|██████████| 1000/1000 [01:21<00:00, 12.33it/s]\n",
      "Chain 0: 100%|██████████| 1000/1000 [01:22<00:00, 12.19it/s]\n",
      "Chain 0: 100%|██████████| 1000/1000 [01:17<00:00, 12.89it/s]\n",
      "Chain 0: 100%|██████████| 1000/1000 [01:17<00:00, 12.92it/s]\n"
     ]
    },
    {
     "name": "stdout",
     "output_type": "stream",
     "text": [
      "elasticity: 100.0\n",
      "lr: 1.0e-05\n",
      "noise_level: 1.0\n",
      "num_chains: 1\n",
      "num_draws: 1000\n",
      "repeats: 5\n",
      "rlct/0: 1.4911884741937613e+21\n",
      "rlct/1: 2778314700685288.0\n",
      "rlct/2: 6.824655130972635e+29\n",
      "rlct/3: 5.737012921011678e+36\n",
      "rlct/4: 2.4363623623303936e+33\n",
      "rlct/mean: 1.1478899931679044e+36\n",
      "rlct/std: 2.2945616579051392e+36\n",
      "\n"
     ]
    },
    {
     "name": "stderr",
     "output_type": "stream",
     "text": [
      "Chain 0: 100%|██████████| 1000/1000 [01:17<00:00, 12.97it/s]\n",
      "Chain 0: 100%|██████████| 1000/1000 [01:16<00:00, 13.07it/s]\n",
      "Chain 0: 100%|██████████| 1000/1000 [01:17<00:00, 12.94it/s]\n",
      "Chain 0: 100%|██████████| 1000/1000 [01:17<00:00, 12.85it/s]\n",
      "Chain 0: 100%|██████████| 1000/1000 [01:17<00:00, 12.91it/s]"
     ]
    },
    {
     "name": "stdout",
     "output_type": "stream",
     "text": [
      "elasticity: 1000.0\n",
      "lr: 1.0e-05\n",
      "noise_level: 1.0\n",
      "num_chains: 1\n",
      "num_draws: 1000\n",
      "repeats: 5\n",
      "rlct/0: 7.039759511747537e+30\n",
      "rlct/1: 1919695780.0612767\n",
      "rlct/2: 15081714163.5788\n",
      "rlct/3: 7522644652974.224\n",
      "rlct/4: 65125741994792.195\n",
      "rlct/mean: 1.4079519023495074e+30\n",
      "rlct/std: 2.815903804699015e+30\n",
      "\n"
     ]
    },
    {
     "name": "stderr",
     "output_type": "stream",
     "text": [
      "\n"
     ]
    }
   ],
   "source": [
    "from itertools import product\n",
    "from typing import Iterable\n",
    "\n",
    "import yaml\n",
    "\n",
    "\n",
    "def unroll_grid(**hyperparams):\n",
    "    hyperparams = {k: (v if isinstance(v, list) else [v]) for k, v in hyperparams.items()}\n",
    "\n",
    "    keys, values = zip(*hyperparams.items())\n",
    "    combinations = list(product(*values))\n",
    "    return [dict(zip(keys, c)) for c in combinations]\n",
    "\n",
    "\n",
    "def generate_rlct_hyperparam_grid_search(model, dataset, **hyperparams):\n",
    "    grid = unroll_grid(**hyperparams)\n",
    "\n",
    "    for _hyperparams in grid:\n",
    "        evals = make_rlct_evals(dataset, pbar=True, **_hyperparams)(model)\n",
    "        yield _hyperparams, evals\n",
    "\n",
    "\n",
    "def rlct_hyperparam_grid_search(model, dataset, **hyperparams):\n",
    "    results = []\n",
    "\n",
    "    for _hyperparams, evals in generate_rlct_hyperparam_grid_search(model, dataset, **hyperparams):\n",
    "        results.append({**_hyperparams, **evals})\n",
    "        print(yaml.dump(results[-1]))\n",
    "\n",
    "    return pd.DataFrame(results)\n",
    "\n",
    "# lr, num_draws, noise_level, elasticity\n",
    "grid_search = rlct_hyperparam_grid_search(learner.model, dataset=learner.dataset, lr=[1e-7, 1e-6, 1e-5], num_draws=[10, 30, 100, 300, 1000], noise_level=[0.1, 0.3, 1.], num_chains=1, repeats=5, elasticity=[10., 100., 1000.])"
   ]
  },
  {
   "cell_type": "code",
   "execution_count": 57,
   "metadata": {},
   "outputs": [],
   "source": [
    "# torch.save(grid_search, \"../data/grokking-rlct-sweep.pt\")"
   ]
  },
  {
   "cell_type": "code",
   "execution_count": 61,
   "metadata": {},
   "outputs": [
    {
     "name": "stderr",
     "output_type": "stream",
     "text": [
      "WARNING:matplotlib.legend:No artists with labels found to put in legend.  Note that artists whose label start with an underscore are ignored when legend() is called with no argument.\n"
     ]
    },
    {
     "data": {
      "image/png": "[encoded data removed]",
      "text/plain": [
       "<Figure size 1000x600 with 9 Axes>"
      ]
     },
     "metadata": {},
     "output_type": "display_data"
    }
   ],
   "source": [
    "import matplotlib.pyplot as plt\n",
    "\n",
    "NUM_PARAMS = sum(map(lambda x: x.numel(), learner.model.parameters()))\n",
    "\n",
    "def plot_rlct_grid(df, col_axis: str, row_axis: str, label_axis: str, x_axis: str, title: str, logscale: bool = True, inset=False, figsize=(10, 6)):\n",
    "    cols = df[col_axis].unique()\n",
    "    rows = df[row_axis].unique()\n",
    "    labels = df[label_axis].unique()\n",
    "    xs = df[x_axis].unique()\n",
    "\n",
    "    # Define the colors for each w value\n",
    "    colors = [PRIMARY, SECONDARY, TERTIARY]\n",
    "\n",
    "    # Create a figure with 3 subplots (one for each gamma)\n",
    "    fig, axes = plt.subplots(len(rows), len(cols), figsize=figsize)\n",
    "\n",
    "    if len(rows) == 1 and len(cols) == 1:\n",
    "        axes = np.array([[axes]])\n",
    "    elif len(rows) == 1: \n",
    "        axes = axes.reshape(1, -1)\n",
    "    elif len(cols) == 1:\n",
    "        axes = axes.reshape(-1, 1)\n",
    "\n",
    "    fig.suptitle(title)\n",
    "    fig.tight_layout()\n",
    "\n",
    "    # Iterate through the unique gammas\n",
    "    for i, col in enumerate(cols):\n",
    "        for j, row in enumerate(rows):\n",
    "            axes[j, 0].set_ylabel(f\"{row_axis}={row}\")\n",
    "            axes[0, i].set_title(f\"{col_axis}={col}\")\n",
    "            axes[-1, i].set_xlabel(x_axis)\n",
    "\n",
    "            ax = axes[j, i]\n",
    "\n",
    "            for k, label in enumerate(labels):\n",
    "                data = df[(df[col_axis] == col) & (df[label_axis] == label) & (df[row_axis] == row)]\n",
    "                color = colors[k]\n",
    "                \n",
    "                rlct_mean = data[\"rlct/mean\"]\n",
    "                rlct_std = data[\"rlct/std\"]\n",
    "\n",
    "                if rlct_mean.max() > NUM_PARAMS:\n",
    "                    continue\n",
    "\n",
    "                # Plot the training error against the number of steps\n",
    "                ax.plot(data[x_axis], rlct_mean, color=color, label=f'{label_axis}={label}')\n",
    "                ax.fill_between(xs, rlct_mean-rlct_std, rlct_mean+rlct_std, alpha=0.3)\n",
    "\n",
    "            if logscale:\n",
    "                ax.set_yscale('log')\n",
    "                ax.set_xscale('log')\n",
    "\n",
    "            ax.legend(loc='lower left') \n",
    "\n",
    "    plt.show()\n",
    "\n",
    "\n",
    "# lr, num_draws, noise_level, elasticity\n",
    "plot_rlct_grid(grid_search, col_axis=\"lr\", row_axis=\"noise_level\", x_axis=\"num_draws\", label_axis=\"elasticity\", title=\"Lambda hats\")"
   ]
  },
  {
   "cell_type": "code",
   "execution_count": 68,
   "metadata": {},
   "outputs": [
    {
     "data": {
      "text/html": [
       "Finishing last run (ID:e75c5uch) before initializing another..."
      ],
      "text/plain": [
       "<IPython.core.display.HTML object>"
      ]
     },
     "metadata": {},
     "output_type": "display_data"
    },
    {
     "data": {
      "text/html": [
       "Waiting for W&B process to finish... <strong style=\"color:green\">(success).</strong>"
      ],
      "text/plain": [
       "<IPython.core.display.HTML object>"
      ]
     },
     "metadata": {},
     "output_type": "display_data"
    },
    {
     "data": {
      "application/vnd.jupyter.widget-view+json": {
       "model_id": "7ea2689e616147eda3231cf11ca17f83",
       "version_major": 2,
       "version_minor": 0
      },
      "text/plain": [
       "VBox(children=(Label(value='0.001 MB of 0.003 MB uploaded (0.000 MB deduped)\\r'), FloatProgress(value=0.316023…"
      ]
     },
     "metadata": {},
     "output_type": "display_data"
    },
    {
     "data": {
      "text/html": [
       "<style>\n",
       "    table.wandb td:nth-child(1) { padding: 0 10px; text-align: left ; width: auto;} td:nth-child(2) {text-align: left ; width: 100%}\n",
       "    .wandb-row { display: flex; flex-direction: row; flex-wrap: wrap; justify-content: flex-start; width: 100% }\n",
       "    .wandb-col { display: flex; flex-direction: column; flex-basis: 100%; flex: 1; padding: 10px; }\n",
       "    </style>\n",
       "<div class=\"wandb-row\"><div class=\"wandb-col\"><h3>Run history:</h3><br/><table class=\"wandb\"><tr><td>rlct/0</td><td>▁</td></tr><tr><td>rlct/1</td><td>▁</td></tr><tr><td>rlct/2</td><td>▁</td></tr><tr><td>rlct/3</td><td>▁</td></tr><tr><td>rlct/4</td><td>▁</td></tr><tr><td>rlct/mean</td><td>▁</td></tr><tr><td>rlct/std</td><td>▁</td></tr></table><br/></div><div class=\"wandb-col\"><h3>Run summary:</h3><br/><table class=\"wandb\"><tr><td>rlct/0</td><td>-1090544.10238</td></tr><tr><td>rlct/1</td><td>4974583126.84238</td></tr><tr><td>rlct/2</td><td>-1095200.19739</td></tr><tr><td>rlct/3</td><td>464535469.37144</td></tr><tr><td>rlct/4</td><td>-1147983.41702</td></tr><tr><td>rlct/mean</td><td>1087156973.69941</td></tr><tr><td>rlct/std</td><td>1952061616.21341</td></tr></table><br/></div></div>"
      ],
      "text/plain": [
       "<IPython.core.display.HTML object>"
      ]
     },
     "metadata": {},
     "output_type": "display_data"
    },
    {
     "data": {
      "text/html": [
       " View run <strong style=\"color:#cdcd00\">robust-gorge-20</strong> at: <a href='https://wandb.ai/devinterp/grokking/runs/e75c5uch' target=\"_blank\">https://wandb.ai/devinterp/grokking/runs/e75c5uch</a><br/>Synced 4 W&B file(s), 0 media file(s), 0 artifact file(s) and 0 other file(s)"
      ],
      "text/plain": [
       "<IPython.core.display.HTML object>"
      ]
     },
     "metadata": {},
     "output_type": "display_data"
    },
    {
     "data": {
      "text/html": [
       "Find logs at: <code>./wandb/run-20230926_204238-e75c5uch/logs</code>"
      ],
      "text/plain": [
       "<IPython.core.display.HTML object>"
      ]
     },
     "metadata": {},
     "output_type": "display_data"
    },
    {
     "data": {
      "text/html": [
       "Successfully finished last run (ID:e75c5uch). Initializing new run:<br/>"
      ],
      "text/plain": [
       "<IPython.core.display.HTML object>"
      ]
     },
     "metadata": {},
     "output_type": "display_data"
    },
    {
     "data": {
      "application/vnd.jupyter.widget-view+json": {
       "model_id": "6a942eabc3db44e4a469dc8d308d7bc2",
       "version_major": 2,
       "version_minor": 0
      },
      "text/plain": [
       "VBox(children=(Label(value='Waiting for wandb.init()...\\r'), FloatProgress(value=0.016751621516656694, max=1.0…"
      ]
     },
     "metadata": {},
     "output_type": "display_data"
    },
    {
     "data": {
      "text/html": [
       "wandb version 0.15.11 is available!  To upgrade, please run:\n",
       " $ pip install wandb --upgrade"
      ],
      "text/plain": [
       "<IPython.core.display.HTML object>"
      ]
     },
     "metadata": {},
     "output_type": "display_data"
    },
    {
     "data": {
      "text/html": [
       "Tracking run with wandb version 0.15.5"
      ],
      "text/plain": [
       "<IPython.core.display.HTML object>"
      ]
     },
     "metadata": {},
     "output_type": "display_data"
    },
    {
     "data": {
      "text/html": [
       "Run data is saved locally in <code>/Users/Jesse/Projects/devinterp/demos/wandb/run-20230926_205332-wuem2lan</code>"
      ],
      "text/plain": [
       "<IPython.core.display.HTML object>"
      ]
     },
     "metadata": {},
     "output_type": "display_data"
    },
    {
     "data": {
      "text/html": [
       "Syncing run <strong><a href='https://wandb.ai/devinterp/grokking/runs/wuem2lan' target=\"_blank\">colorful-night-21</a></strong> to <a href='https://wandb.ai/devinterp/grokking' target=\"_blank\">Weights & Biases</a> (<a href='https://wandb.me/run' target=\"_blank\">docs</a>)<br/>"
      ],
      "text/plain": [
       "<IPython.core.display.HTML object>"
      ]
     },
     "metadata": {},
     "output_type": "display_data"
    },
    {
     "data": {
      "text/html": [
       " View project at <a href='https://wandb.ai/devinterp/grokking' target=\"_blank\">https://wandb.ai/devinterp/grokking</a>"
      ],
      "text/plain": [
       "<IPython.core.display.HTML object>"
      ]
     },
     "metadata": {},
     "output_type": "display_data"
    },
    {
     "data": {
      "text/html": [
       " View run at <a href='https://wandb.ai/devinterp/grokking/runs/wuem2lan' target=\"_blank\">https://wandb.ai/devinterp/grokking/runs/wuem2lan</a>"
      ],
      "text/plain": [
       "<IPython.core.display.HTML object>"
      ]
     },
     "metadata": {},
     "output_type": "display_data"
    },
    {
     "name": "stderr",
     "output_type": "stream",
     "text": [
      "Chain 0: 100%|██████████| 1000/1000 [01:15<00:00, 13.26it/s]\n",
      "Chain 0: 100%|██████████| 1000/1000 [01:17<00:00, 12.98it/s]\n",
      "Chain 0: 100%|██████████| 1000/1000 [01:14<00:00, 13.36it/s]\n",
      "Chain 0: 100%|██████████| 1000/1000 [01:15<00:00, 13.26it/s]\n",
      "Chain 0: 100%|██████████| 1000/1000 [01:14<00:00, 13.44it/s]\n"
     ]
    },
    {
     "name": "stdout",
     "output_type": "stream",
     "text": [
      "rlct/0: -1076022.612389441\n",
      "rlct/1: -1054982.6960950864\n",
      "rlct/2: 66154327.386090904\n",
      "rlct/3: -1111001.9574656803\n",
      "rlct/4: 3782366701.3189497\n",
      "rlct/mean: 769055804.2878181\n",
      "rlct/std: 1506880460.6121142\n",
      "\n"
     ]
    },
    {
     "name": "stderr",
     "output_type": "stream",
     "text": [
      "Chain 0: 100%|██████████| 1000/1000 [01:14<00:00, 13.40it/s]\n",
      "Chain 0: 100%|██████████| 1000/1000 [01:18<00:00, 12.72it/s]\n",
      "Chain 0: 100%|██████████| 1000/1000 [01:21<00:00, 12.34it/s]\n",
      "Chain 0: 100%|██████████| 1000/1000 [01:16<00:00, 13.10it/s]\n",
      "Chain 0: 100%|██████████| 1000/1000 [01:18<00:00, 12.74it/s]\n"
     ]
    },
    {
     "name": "stdout",
     "output_type": "stream",
     "text": [
      "rlct/0: -958250.7928802938\n",
      "rlct/1: -1118475.4288528177\n",
      "rlct/2: 2.1412674231859354e+18\n",
      "rlct/3: 8957218978.728872\n",
      "rlct/4: -1055052.6100986358\n",
      "rlct/mean: 4.2825348642800454e+17\n",
      "rlct/std: 8.565069683789654e+17\n",
      "\n"
     ]
    },
    {
     "name": "stderr",
     "output_type": "stream",
     "text": [
      "Chain 0: 100%|██████████| 1000/1000 [01:14<00:00, 13.46it/s]\n",
      "Chain 0: 100%|██████████| 1000/1000 [01:15<00:00, 13.22it/s]\n",
      "Chain 0: 100%|██████████| 1000/1000 [01:14<00:00, 13.46it/s]\n",
      "Chain 0: 100%|██████████| 1000/1000 [01:15<00:00, 13.16it/s]\n",
      "Chain 0: 100%|██████████| 1000/1000 [01:15<00:00, 13.23it/s]\n"
     ]
    },
    {
     "name": "stdout",
     "output_type": "stream",
     "text": [
      "rlct/0: 590806735691404.1\n",
      "rlct/1: 23154678116733.12\n",
      "rlct/2: 455390776642.02515\n",
      "rlct/3: 4.006420555579203e+16\n",
      "rlct/4: 18513385509.090744\n",
      "rlct/mean: 8135728174752464.0\n",
      "rlct/std: 1.5965837222615244e+16\n",
      "\n"
     ]
    },
    {
     "name": "stderr",
     "output_type": "stream",
     "text": [
      "Chain 0: 100%|██████████| 1000/1000 [01:15<00:00, 13.25it/s]\n",
      "Chain 0: 100%|██████████| 1000/1000 [01:14<00:00, 13.38it/s]\n",
      "Chain 0: 100%|██████████| 1000/1000 [01:17<00:00, 12.90it/s]\n",
      "Chain 0: 100%|██████████| 1000/1000 [01:16<00:00, 13.11it/s]\n",
      "Chain 0: 100%|██████████| 1000/1000 [01:14<00:00, 13.42it/s]\n"
     ]
    },
    {
     "name": "stdout",
     "output_type": "stream",
     "text": [
      "rlct/0: 84420522265905.47\n",
      "rlct/1: 78208507879795.12\n",
      "rlct/2: 10585671937732.695\n",
      "rlct/3: 144937915223922.78\n",
      "rlct/4: 725232559101.8042\n",
      "rlct/mean: 63775569973291.58\n",
      "rlct/std: 52964819152785.33\n",
      "\n"
     ]
    },
    {
     "name": "stderr",
     "output_type": "stream",
     "text": [
      "Chain 0: 100%|██████████| 1000/1000 [01:15<00:00, 13.20it/s]\n",
      "Chain 0: 100%|██████████| 1000/1000 [01:15<00:00, 13.33it/s]\n",
      "Chain 0: 100%|██████████| 1000/1000 [01:15<00:00, 13.31it/s]\n",
      "Chain 0: 100%|██████████| 1000/1000 [01:16<00:00, 13.13it/s]\n",
      "Chain 0: 100%|██████████| 1000/1000 [01:15<00:00, 13.16it/s]\n"
     ]
    },
    {
     "name": "stdout",
     "output_type": "stream",
     "text": [
      "rlct/0: 20827003100251.957\n",
      "rlct/1: 5.9100261075731e+16\n",
      "rlct/2: 1.546139953995687e+31\n",
      "rlct/3: 1269000336089450.5\n",
      "rlct/4: 1923250140393970.0\n",
      "rlct/mean: 3.0922799079913867e+30\n",
      "rlct/std: 6.184559815982742e+30\n",
      "\n"
     ]
    },
    {
     "name": "stderr",
     "output_type": "stream",
     "text": [
      "Chain 0: 100%|██████████| 1000/1000 [01:15<00:00, 13.26it/s]\n",
      "Chain 0: 100%|██████████| 1000/1000 [01:17<00:00, 12.88it/s]\n",
      "Chain 0: 100%|██████████| 1000/1000 [01:19<00:00, 12.61it/s]\n",
      "Chain 0: 100%|██████████| 1000/1000 [01:20<00:00, 12.42it/s]\n",
      "Chain 0: 100%|██████████| 1000/1000 [01:21<00:00, 12.20it/s]\n"
     ]
    },
    {
     "name": "stdout",
     "output_type": "stream",
     "text": [
      "rlct/0: 1.1624082032980454e+24\n",
      "rlct/1: 2.2314989529901013e+20\n",
      "rlct/2: 294535153766.3506\n",
      "rlct/3: 3.2678892621509212e+16\n",
      "rlct/4: 7.960900255446852e+21\n",
      "rlct/mean: 2.3411845722559566e+23\n",
      "rlct/std: 4.641549303314312e+23\n",
      "\n"
     ]
    },
    {
     "name": "stderr",
     "output_type": "stream",
     "text": [
      "Chain 0: 100%|██████████| 1000/1000 [01:21<00:00, 12.24it/s]\n",
      "Chain 0: 100%|██████████| 1000/1000 [01:20<00:00, 12.35it/s]\n",
      "Chain 0: 100%|██████████| 1000/1000 [01:21<00:00, 12.33it/s]\n",
      "Chain 0: 100%|██████████| 1000/1000 [01:22<00:00, 12.17it/s]\n",
      "Chain 0: 100%|██████████| 1000/1000 [01:22<00:00, 12.15it/s]\n"
     ]
    },
    {
     "name": "stdout",
     "output_type": "stream",
     "text": [
      "rlct/0: 354940006340040.56\n",
      "rlct/1: 9.778278004969368e+17\n",
      "rlct/2: 4.602720081154702e+16\n",
      "rlct/3: 2295597540684887.0\n",
      "rlct/4: 3.360172557566105e+17\n",
      "rlct/mean: 2.7250455892242387e+17\n",
      "rlct/std: 3.741350102271585e+17\n",
      "\n"
     ]
    },
    {
     "name": "stderr",
     "output_type": "stream",
     "text": [
      "Chain 0: 100%|██████████| 1000/1000 [01:20<00:00, 12.35it/s]\n",
      "Chain 0: 100%|██████████| 1000/1000 [01:22<00:00, 12.15it/s]\n",
      "Chain 0: 100%|██████████| 1000/1000 [01:22<00:00, 12.15it/s]\n",
      "Chain 0: 100%|██████████| 1000/1000 [01:22<00:00, 12.13it/s]\n",
      "Chain 0: 100%|██████████| 1000/1000 [01:21<00:00, 12.30it/s]\n"
     ]
    },
    {
     "name": "stdout",
     "output_type": "stream",
     "text": [
      "rlct/0: 68726027149.83414\n",
      "rlct/1: 3.1354085842839204e+18\n",
      "rlct/2: 34831748508.905136\n",
      "rlct/3: 1748511379291866.5\n",
      "rlct/4: 1053056108566956.0\n",
      "rlct/mean: 6.27642051065911e+17\n",
      "rlct/std: 1.253883442373285e+18\n",
      "\n"
     ]
    },
    {
     "name": "stderr",
     "output_type": "stream",
     "text": [
      "Chain 0: 100%|██████████| 1000/1000 [01:21<00:00, 12.24it/s]\n",
      "Chain 0: 100%|██████████| 1000/1000 [01:17<00:00, 12.83it/s]\n",
      "Chain 0: 100%|██████████| 1000/1000 [01:11<00:00, 14.01it/s]\n",
      "Chain 0: 100%|██████████| 1000/1000 [01:11<00:00, 13.91it/s]\n",
      "Chain 0: 100%|██████████| 1000/1000 [01:16<00:00, 13.08it/s]\n"
     ]
    },
    {
     "name": "stdout",
     "output_type": "stream",
     "text": [
      "rlct/0: 662328791590129.9\n",
      "rlct/1: 2.6424305666599336e+33\n",
      "rlct/2: 6.682207732939501e+16\n",
      "rlct/3: 262087912930.4793\n",
      "rlct/4: 1968866495066.6123\n",
      "rlct/mean: 5.284861133319867e+32\n",
      "rlct/std: 1.0569722266639735e+33\n",
      "\n"
     ]
    },
    {
     "name": "stderr",
     "output_type": "stream",
     "text": [
      "Chain 0: 100%|██████████| 1000/1000 [01:15<00:00, 13.33it/s]\n",
      "Chain 0: 100%|██████████| 1000/1000 [01:16<00:00, 13.00it/s]\n",
      "Chain 0: 100%|██████████| 1000/1000 [01:14<00:00, 13.43it/s]\n",
      "Chain 0: 100%|██████████| 1000/1000 [01:16<00:00, 13.11it/s]\n",
      "Chain 0: 100%|██████████| 1000/1000 [01:16<00:00, 13.04it/s]\n"
     ]
    },
    {
     "name": "stdout",
     "output_type": "stream",
     "text": [
      "rlct/0: -7265.708729567356\n",
      "rlct/1: -6604.494732025537\n",
      "rlct/2: -5923.446941951286\n",
      "rlct/3: -7352.3616086739785\n",
      "rlct/4: -6036.206155893416\n",
      "rlct/mean: -6636.443633622315\n",
      "rlct/std: 596.3527734980731\n",
      "\n"
     ]
    },
    {
     "name": "stderr",
     "output_type": "stream",
     "text": [
      "Chain 0: 100%|██████████| 1000/1000 [01:21<00:00, 12.27it/s]\n",
      "Chain 0: 100%|██████████| 1000/1000 [01:20<00:00, 12.40it/s]\n",
      "Chain 0: 100%|██████████| 1000/1000 [01:18<00:00, 12.77it/s]\n",
      "Chain 0: 100%|██████████| 1000/1000 [01:17<00:00, 12.87it/s]\n",
      "Chain 0: 100%|██████████| 1000/1000 [01:18<00:00, 12.76it/s]\n"
     ]
    },
    {
     "name": "stdout",
     "output_type": "stream",
     "text": [
      "rlct/0: 1454.8972983902186\n",
      "rlct/1: 1476.7806499208393\n",
      "rlct/2: 1455.2836098875869\n",
      "rlct/3: 1530.3417783910963\n",
      "rlct/4: 1448.3330626422\n",
      "rlct/mean: 1473.1272798463883\n",
      "rlct/std: 30.173922333308553\n",
      "\n"
     ]
    },
    {
     "name": "stderr",
     "output_type": "stream",
     "text": [
      "Chain 0: 100%|██████████| 1000/1000 [01:17<00:00, 12.94it/s]\n",
      "Chain 0: 100%|██████████| 1000/1000 [01:20<00:00, 12.47it/s]\n",
      "Chain 0: 100%|██████████| 1000/1000 [01:17<00:00, 12.89it/s]\n",
      "Chain 0: 100%|██████████| 1000/1000 [01:17<00:00, 12.97it/s]\n",
      "Chain 0: 100%|██████████| 1000/1000 [01:16<00:00, 13.12it/s]\n"
     ]
    },
    {
     "name": "stdout",
     "output_type": "stream",
     "text": [
      "rlct/0: -5036.406985572983\n",
      "rlct/1: -5730.672989143792\n",
      "rlct/2: -4296.196262934319\n",
      "rlct/3: -5121.183947133264\n",
      "rlct/4: -3035.1845718373606\n",
      "rlct/mean: -4643.928951324344\n",
      "rlct/std: 924.3160112466168\n",
      "\n"
     ]
    },
    {
     "name": "stderr",
     "output_type": "stream",
     "text": [
      "Chain 0: 100%|██████████| 1000/1000 [01:14<00:00, 13.36it/s]\n",
      "Chain 0: 100%|██████████| 1000/1000 [01:14<00:00, 13.39it/s]\n",
      "Chain 0: 100%|██████████| 1000/1000 [01:17<00:00, 12.96it/s]\n",
      "Chain 0: 100%|██████████| 1000/1000 [01:16<00:00, 12.99it/s]\n",
      "Chain 0: 100%|██████████| 1000/1000 [01:16<00:00, 13.12it/s]\n"
     ]
    },
    {
     "name": "stdout",
     "output_type": "stream",
     "text": [
      "rlct/0: 1419.6363178528725\n",
      "rlct/1: 1435.8964783549848\n",
      "rlct/2: 1518.6668765346983\n",
      "rlct/3: 1470.5792436720358\n",
      "rlct/4: 1467.0745722036413\n",
      "rlct/mean: 1462.3706977236466\n",
      "rlct/std: 34.01728362040662\n",
      "\n"
     ]
    },
    {
     "name": "stderr",
     "output_type": "stream",
     "text": [
      "Chain 0: 100%|██████████| 1000/1000 [01:17<00:00, 12.92it/s]\n",
      "Chain 0: 100%|██████████| 1000/1000 [01:17<00:00, 12.90it/s]\n",
      "Chain 0: 100%|██████████| 1000/1000 [01:18<00:00, 12.71it/s]\n",
      "Chain 0: 100%|██████████| 1000/1000 [01:19<00:00, 12.61it/s]\n",
      "Chain 0: 100%|██████████| 1000/1000 [01:19<00:00, 12.62it/s]\n"
     ]
    },
    {
     "name": "stdout",
     "output_type": "stream",
     "text": [
      "rlct/0: -10361.076790363493\n",
      "rlct/1: -10476.652976339836\n",
      "rlct/2: -8036.012993279445\n",
      "rlct/3: -15301.839163069573\n",
      "rlct/4: -9474.768156493736\n",
      "rlct/mean: -10730.070015909218\n",
      "rlct/std: 2446.8418555682274\n",
      "\n"
     ]
    },
    {
     "name": "stderr",
     "output_type": "stream",
     "text": [
      "Chain 0: 100%|██████████| 1000/1000 [01:18<00:00, 12.76it/s]\n",
      "Chain 0: 100%|██████████| 1000/1000 [01:17<00:00, 12.88it/s]\n",
      "Chain 0: 100%|██████████| 1000/1000 [01:16<00:00, 13.05it/s]\n",
      "Chain 0: 100%|██████████| 1000/1000 [01:16<00:00, 13.06it/s]\n",
      "Chain 0: 100%|██████████| 1000/1000 [01:17<00:00, 12.91it/s]\n"
     ]
    },
    {
     "name": "stdout",
     "output_type": "stream",
     "text": [
      "rlct/0: 1270.346132816964\n",
      "rlct/1: 1270.497787186347\n",
      "rlct/2: 1271.9352847354464\n",
      "rlct/3: 1288.7489116387997\n",
      "rlct/4: 1275.0607393170733\n",
      "rlct/mean: 1275.317771138926\n",
      "rlct/std: 6.926070280643061\n",
      "\n"
     ]
    },
    {
     "name": "stderr",
     "output_type": "stream",
     "text": [
      "Chain 0: 100%|██████████| 1000/1000 [01:17<00:00, 12.95it/s]\n",
      "Chain 0: 100%|██████████| 1000/1000 [01:17<00:00, 12.97it/s]\n",
      "Chain 0: 100%|██████████| 1000/1000 [01:16<00:00, 13.05it/s]\n",
      "Chain 0: 100%|██████████| 1000/1000 [01:16<00:00, 13.11it/s]\n",
      "Chain 0: 100%|██████████| 1000/1000 [01:17<00:00, 12.98it/s]\n"
     ]
    },
    {
     "name": "stdout",
     "output_type": "stream",
     "text": [
      "rlct/0: 1295.8866343373154\n",
      "rlct/1: 1318.7114394592938\n",
      "rlct/2: 1318.070603913546\n",
      "rlct/3: 1338.9617807097038\n",
      "rlct/4: 1336.3498411731623\n",
      "rlct/mean: 1321.5960599186042\n",
      "rlct/std: 15.498172530072567\n",
      "\n"
     ]
    },
    {
     "name": "stderr",
     "output_type": "stream",
     "text": [
      "Chain 0: 100%|██████████| 1000/1000 [01:18<00:00, 12.78it/s]\n",
      "Chain 0: 100%|██████████| 1000/1000 [01:17<00:00, 12.94it/s]\n",
      "Chain 0: 100%|██████████| 1000/1000 [01:18<00:00, 12.79it/s]\n",
      "Chain 0: 100%|██████████| 1000/1000 [01:16<00:00, 13.03it/s]\n",
      "Chain 0: 100%|██████████| 1000/1000 [01:17<00:00, 12.97it/s]\n"
     ]
    },
    {
     "name": "stdout",
     "output_type": "stream",
     "text": [
      "rlct/0: 282.0437021465578\n",
      "rlct/1: 101.32662996142261\n",
      "rlct/2: 214.7435427770518\n",
      "rlct/3: 214.31041423659883\n",
      "rlct/4: 260.89862698512724\n",
      "rlct/mean: 214.66458322135162\n",
      "rlct/std: 62.487047920859325\n",
      "\n"
     ]
    },
    {
     "name": "stderr",
     "output_type": "stream",
     "text": [
      "Chain 0: 100%|██████████| 1000/1000 [01:18<00:00, 12.69it/s]\n",
      "Chain 0: 100%|██████████| 1000/1000 [01:16<00:00, 13.08it/s]\n",
      "Chain 0: 100%|██████████| 1000/1000 [01:16<00:00, 13.15it/s]\n",
      "Chain 0: 100%|██████████| 1000/1000 [01:18<00:00, 12.82it/s]\n",
      "Chain 0: 100%|██████████| 1000/1000 [01:18<00:00, 12.77it/s]\n"
     ]
    },
    {
     "name": "stdout",
     "output_type": "stream",
     "text": [
      "rlct/0: 1507.5791926550598\n",
      "rlct/1: 1512.9637428113374\n",
      "rlct/2: 1520.6306315007912\n",
      "rlct/3: 1504.50117619174\n",
      "rlct/4: 1490.787597326559\n",
      "rlct/mean: 1507.2924680970975\n",
      "rlct/std: 9.90307265946522\n",
      "\n"
     ]
    },
    {
     "name": "stderr",
     "output_type": "stream",
     "text": [
      "Chain 0: 100%|██████████| 1000/1000 [01:17<00:00, 12.94it/s]\n",
      "Chain 0: 100%|██████████| 1000/1000 [01:17<00:00, 12.97it/s]\n",
      "Chain 0: 100%|██████████| 1000/1000 [01:17<00:00, 12.98it/s]\n",
      "Chain 0: 100%|██████████| 1000/1000 [01:16<00:00, 13.06it/s]\n",
      "Chain 0: 100%|██████████| 1000/1000 [01:16<00:00, 13.02it/s]\n"
     ]
    },
    {
     "name": "stdout",
     "output_type": "stream",
     "text": [
      "rlct/0: -199.54340434363567\n",
      "rlct/1: -50.629741053882874\n",
      "rlct/2: -146.98613514472413\n",
      "rlct/3: -104.43176036355429\n",
      "rlct/4: -122.61175760317155\n",
      "rlct/mean: -124.8405597017937\n",
      "rlct/std: 48.98912892244188\n",
      "\n"
     ]
    },
    {
     "name": "stderr",
     "output_type": "stream",
     "text": [
      "Chain 0: 100%|██████████| 1000/1000 [01:16<00:00, 13.00it/s]\n",
      "Chain 0: 100%|██████████| 1000/1000 [01:16<00:00, 13.08it/s]\n",
      "Chain 0: 100%|██████████| 1000/1000 [01:16<00:00, 13.03it/s]\n",
      "Chain 0: 100%|██████████| 1000/1000 [01:16<00:00, 13.00it/s]\n",
      "Chain 0: 100%|██████████| 1000/1000 [01:17<00:00, 12.95it/s]\n"
     ]
    },
    {
     "name": "stdout",
     "output_type": "stream",
     "text": [
      "rlct/0: 1408.1353288233636\n",
      "rlct/1: 1380.079104211469\n",
      "rlct/2: 1430.7869840220712\n",
      "rlct/3: 1382.4383798504014\n",
      "rlct/4: 1448.3311959583928\n",
      "rlct/mean: 1409.9541985731396\n",
      "rlct/std: 26.682386355560137\n",
      "\n"
     ]
    },
    {
     "name": "stderr",
     "output_type": "stream",
     "text": [
      "Chain 0: 100%|██████████| 1000/1000 [01:16<00:00, 13.14it/s]\n",
      "Chain 0: 100%|██████████| 1000/1000 [01:16<00:00, 13.04it/s]\n",
      "Chain 0: 100%|██████████| 1000/1000 [01:16<00:00, 13.12it/s]\n",
      "Chain 0: 100%|██████████| 1000/1000 [01:19<00:00, 12.65it/s]\n",
      "Chain 0: 100%|██████████| 1000/1000 [01:16<00:00, 13.01it/s]\n"
     ]
    },
    {
     "name": "stdout",
     "output_type": "stream",
     "text": [
      "rlct/0: 5.483639585088347e+23\n",
      "rlct/1: 3.0666053836780425e+30\n",
      "rlct/2: 1.3796783843794215e+25\n",
      "rlct/3: 9.722619103723534e+17\n",
      "rlct/4: 7.111754224427093e+19\n",
      "rlct/mean: 6.133239457795869e+29\n",
      "rlct/std: 1.2266407189605763e+30\n",
      "\n"
     ]
    },
    {
     "name": "stderr",
     "output_type": "stream",
     "text": [
      "Chain 0: 100%|██████████| 1000/1000 [01:17<00:00, 12.89it/s]\n",
      "Chain 0: 100%|██████████| 1000/1000 [01:17<00:00, 12.91it/s]\n",
      "Chain 0: 100%|██████████| 1000/1000 [01:17<00:00, 12.86it/s]\n",
      "Chain 0: 100%|██████████| 1000/1000 [01:17<00:00, 12.95it/s]\n",
      "Chain 0: 100%|██████████| 1000/1000 [01:17<00:00, 12.90it/s]\n"
     ]
    },
    {
     "name": "stdout",
     "output_type": "stream",
     "text": [
      "rlct/0: 533.4241032642008\n",
      "rlct/1: 577.6710825359023\n",
      "rlct/2: 544.5751652302604\n",
      "rlct/3: 594.9126226733525\n",
      "rlct/4: 612.9391987537449\n",
      "rlct/mean: 572.7044344914923\n",
      "rlct/std: 29.902868360254736\n",
      "\n"
     ]
    },
    {
     "name": "stderr",
     "output_type": "stream",
     "text": [
      "Chain 0: 100%|██████████| 1000/1000 [01:17<00:00, 12.88it/s]\n",
      "Chain 0: 100%|██████████| 1000/1000 [01:18<00:00, 12.73it/s]\n",
      "Chain 0: 100%|██████████| 1000/1000 [01:18<00:00, 12.69it/s]\n",
      "Chain 0: 100%|██████████| 1000/1000 [01:31<00:00, 10.93it/s]\n",
      "Chain 0: 100%|██████████| 1000/1000 [01:15<00:00, 13.29it/s]\n"
     ]
    },
    {
     "name": "stdout",
     "output_type": "stream",
     "text": [
      "rlct/0: 1390.8921642681453\n",
      "rlct/1: 1381.7111230832893\n",
      "rlct/2: 1437.5108479560074\n",
      "rlct/3: 1417.9499149344372\n",
      "rlct/4: 1379.4197905281324\n",
      "rlct/mean: 1401.4967681540024\n",
      "rlct/std: 22.62318411938095\n",
      "\n"
     ]
    },
    {
     "name": "stderr",
     "output_type": "stream",
     "text": [
      "Chain 0: 100%|██████████| 1000/1000 [01:17<00:00, 12.95it/s]\n",
      "Chain 0: 100%|██████████| 1000/1000 [17:15<00:00,  1.04s/it]  \n",
      "Chain 0: 100%|██████████| 1000/1000 [10:21<00:00,  1.61it/s]  \n",
      "Chain 0: 100%|██████████| 1000/1000 [17:37<00:00,  1.06s/it]  \n",
      "Chain 0: 100%|██████████| 1000/1000 [17:27<00:00,  1.05s/it]  \n"
     ]
    },
    {
     "name": "stdout",
     "output_type": "stream",
     "text": [
      "rlct/0: 231.13689501912282\n",
      "rlct/1: 170.78583218649567\n",
      "rlct/2: 255.24101268152776\n",
      "rlct/3: 216.5854136649507\n",
      "rlct/4: 236.9549425962463\n",
      "rlct/mean: 222.14081922966867\n",
      "rlct/std: 28.51037587431371\n",
      "\n"
     ]
    },
    {
     "name": "stderr",
     "output_type": "stream",
     "text": [
      "Chain 0: 100%|██████████| 1000/1000 [01:20<00:00, 12.36it/s]\n",
      "Chain 0: 100%|██████████| 1000/1000 [22:23<00:00,  1.34s/it]  \n",
      "Chain 0: 100%|██████████| 1000/1000 [17:58<00:00,  1.08s/it]   \n",
      "Chain 0: 100%|██████████| 1000/1000 [26:02<00:00,  1.56s/it]  \n",
      "Chain 0: 100%|██████████| 1000/1000 [13:20<00:00,  1.25it/s]   \n"
     ]
    },
    {
     "name": "stdout",
     "output_type": "stream",
     "text": [
      "rlct/0: 1417.4001303317102\n",
      "rlct/1: 1384.1430993897907\n",
      "rlct/2: 1435.2247368926471\n",
      "rlct/3: 1394.2168772391633\n",
      "rlct/4: 1402.9316955155084\n",
      "rlct/mean: 1406.783307873764\n",
      "rlct/std: 17.9274144292477\n",
      "\n"
     ]
    },
    {
     "name": "stderr",
     "output_type": "stream",
     "text": [
      "Chain 0: 100%|██████████| 1000/1000 [16:12<00:00,  1.03it/s]   \n",
      "Chain 0: 100%|██████████| 1000/1000 [18:40<00:00,  1.12s/it]   \n",
      "Chain 0: 100%|██████████| 1000/1000 [16:26<00:00,  1.01it/s]   \n",
      "Chain 0: 100%|██████████| 1000/1000 [32:18<00:00,  1.94s/it]   \n",
      "Chain 0: 100%|██████████| 1000/1000 [17:23<00:00,  1.04s/it]   \n"
     ]
    },
    {
     "name": "stdout",
     "output_type": "stream",
     "text": [
      "rlct/0: 1.0097719535856591e+20\n",
      "rlct/1: 1.2577857278534722e+30\n",
      "rlct/2: 1.3085163365203768e+18\n",
      "rlct/3: 3.2534778985792668e+16\n",
      "rlct/4: 1051.6265640784527\n",
      "rlct/mean: 2.515571455911581e+29\n",
      "rlct/std: 5.0311429113115706e+29\n",
      "\n"
     ]
    },
    {
     "name": "stderr",
     "output_type": "stream",
     "text": [
      "Chain 0: 100%|██████████| 1000/1000 [30:47<00:00,  1.85s/it]   \n",
      "Chain 0: 100%|██████████| 1000/1000 [17:36<00:00,  1.06s/it]   \n",
      "Chain 0: 100%|██████████| 1000/1000 [06:47<00:00,  2.46it/s] \n",
      "Chain 0: 100%|██████████| 1000/1000 [19:37<00:00,  1.18s/it]  \n",
      "Chain 0: 100%|██████████| 1000/1000 [15:21<00:00,  1.09it/s]   \n"
     ]
    },
    {
     "name": "stdout",
     "output_type": "stream",
     "text": [
      "rlct/0: 409.89332274801035\n",
      "rlct/1: 360.95882749233584\n",
      "rlct/2: 382.3064749238547\n",
      "rlct/3: 448.3521533267589\n",
      "rlct/4: 427.7341770517238\n",
      "rlct/mean: 405.8489911085368\n",
      "rlct/std: 31.21286157506784\n",
      "\n"
     ]
    },
    {
     "name": "stderr",
     "output_type": "stream",
     "text": [
      "Chain 0: 100%|██████████| 1000/1000 [23:44<00:00,  1.42s/it]  \n",
      "Chain 0: 100%|██████████| 1000/1000 [01:43<00:00,  9.63it/s]\n",
      "Chain 0: 100%|██████████| 1000/1000 [17:54<00:00,  1.07s/it]  \n",
      "Chain 0: 100%|██████████| 1000/1000 [02:34<00:00,  6.46it/s] \n",
      "Chain 0: 100%|██████████| 1000/1000 [22:51<00:00,  1.37s/it]   \n"
     ]
    },
    {
     "name": "stdout",
     "output_type": "stream",
     "text": [
      "rlct/0: 1346.2521014404563\n",
      "rlct/1: 1377.87945941445\n",
      "rlct/2: 1344.786543883252\n",
      "rlct/3: 1339.9372936155912\n",
      "rlct/4: 1346.347664207438\n",
      "rlct/mean: 1351.0406125122377\n",
      "rlct/std: 13.621118676916165\n",
      "\n"
     ]
    },
    {
     "name": "stderr",
     "output_type": "stream",
     "text": [
      "Chain 0: 100%|██████████| 1000/1000 [16:51<00:00,  1.01s/it]   \n",
      "Chain 0: 100%|██████████| 1000/1000 [07:16<00:00,  2.29it/s]  \n",
      "Chain 0: 100%|██████████| 1000/1000 [35:04<00:00,  2.10s/it]  \n",
      "Chain 0: 100%|██████████| 1000/1000 [19:44<00:00,  1.18s/it]  \n",
      "Chain 0:  40%|███▉      | 397/1000 [33:47<13:39:11, 81.51s/it]"
     ]
    }
   ],
   "source": [
    "checkpoint_steps = sorted(list(map(lambda filename: int(str(filename).split(\"/\")[-1].split(\".\")[0]), CHECKPOINTS_PATH.glob(\"*.pt\"))))\n",
    "evals_over_time = eval_rlcts_over_time(learner, checkpoint_steps, num_draws=1000, num_chains=1, num_cores=NUM_CORES, lr=1e-6, noise_level=1., weight_decay=3e-7, elasticity=100., repeats=5, pbar=True)"
   ]
  },
  {
   "cell_type": "code",
   "execution_count": null,
   "metadata": {},
   "outputs": [],
   "source": []
  }
 ],
 "metadata": {
  "kernelspec": {
   "display_name": ".venv",
   "language": "python",
   "name": "python3"
  },
  "language_info": {
   "codemirror_mode": {
    "name": "ipython",
    "version": 3
   },
   "file_extension": ".py",
   "mimetype": "text/x-python",
   "name": "python",
   "nbconvert_exporter": "python",
   "pygments_lexer": "ipython3",
   "version": "3.9.15"
  },
  "orig_nbformat": 4
 },
 "nbformat": 4,
 "nbformat_minor": 2
}
